{
  "nbformat": 4,
  "nbformat_minor": 0,
  "metadata": {
    "kernelspec": {
      "display_name": "Python 3",
      "language": "python",
      "name": "python3"
    },
    "language_info": {
      "codemirror_mode": {
        "name": "ipython",
        "version": 3
      },
      "file_extension": ".py",
      "mimetype": "text/x-python",
      "name": "python",
      "nbconvert_exporter": "python",
      "pygments_lexer": "ipython3",
      "version": "3.6.8"
    },
    "colab": {
      "name": "Presidential_Bot.ipynb",
      "provenance": [],
      "collapsed_sections": []
    },
    "accelerator": "GPU"
  },
  "cells": [
    {
      "cell_type": "code",
      "metadata": {
        "colab": {
          "base_uri": "https://localhost:8080/"
        },
        "id": "2-23MHwQ5e89",
        "outputId": "3b6e45a2-9a43-4d25-ca2f-2804eb08a42e"
      },
      "source": [
        "from google.colab import drive\r\n",
        "drive.mount('/content/drive')"
      ],
      "execution_count": null,
      "outputs": [
        {
          "output_type": "stream",
          "text": [
            "Mounted at /content/drive\n"
          ],
          "name": "stdout"
        }
      ]
    },
    {
      "cell_type": "code",
      "metadata": {
        "id": "GfjGxxqc5fv0"
      },
      "source": [
        "import os\r\n",
        "import time\r\n",
        "\r\n",
        "import pandas as pd\r\n",
        "import numpy as np\r\n",
        "import tensorflow as tf"
      ],
      "execution_count": null,
      "outputs": []
    },
    {
      "cell_type": "code",
      "metadata": {
        "id": "x9YZRcwI5foE"
      },
      "source": [
        "data = pd.read_csv(\"/content/drive/My Drive/kth/s1p2/ID2223:ScalableML/project/donaldbot/data/tweets-raw.csv\")"
      ],
      "execution_count": null,
      "outputs": []
    },
    {
      "cell_type": "code",
      "metadata": {
        "colab": {
          "base_uri": "https://localhost:8080/"
        },
        "id": "qVvnAyzs7XoU",
        "outputId": "00138ed0-bbe9-449e-c465-5e2c44f540df"
      },
      "source": [
        "data.size"
      ],
      "execution_count": null,
      "outputs": [
        {
          "output_type": "execute_result",
          "data": {
            "text/plain": [
              "52872"
            ]
          },
          "metadata": {
            "tags": []
          },
          "execution_count": 14
        }
      ]
    },
    {
      "cell_type": "code",
      "metadata": {
        "colab": {
          "base_uri": "https://localhost:8080/",
          "height": 736
        },
        "id": "QI25lUYp5e0E",
        "outputId": "ebcbf173-3877-4206-a2d0-cdb39c844156"
      },
      "source": [
        "data.head(10)"
      ],
      "execution_count": null,
      "outputs": [
        {
          "output_type": "execute_result",
          "data": {
            "text/html": [
              "<div>\n",
              "<style scoped>\n",
              "    .dataframe tbody tr th:only-of-type {\n",
              "        vertical-align: middle;\n",
              "    }\n",
              "\n",
              "    .dataframe tbody tr th {\n",
              "        vertical-align: top;\n",
              "    }\n",
              "\n",
              "    .dataframe thead th {\n",
              "        text-align: right;\n",
              "    }\n",
              "</style>\n",
              "<table border=\"1\" class=\"dataframe\">\n",
              "  <thead>\n",
              "    <tr style=\"text-align: right;\">\n",
              "      <th></th>\n",
              "      <th>Date</th>\n",
              "      <th>Time</th>\n",
              "      <th>Tweet_Text</th>\n",
              "      <th>Type</th>\n",
              "      <th>Media_Type</th>\n",
              "      <th>Hashtags</th>\n",
              "      <th>Tweet_Id</th>\n",
              "      <th>Tweet_Url</th>\n",
              "      <th>twt_favourites_IS_THIS_LIKE_QUESTION_MARK</th>\n",
              "      <th>Retweets</th>\n",
              "      <th>Unnamed: 10</th>\n",
              "      <th>Unnamed: 11</th>\n",
              "    </tr>\n",
              "  </thead>\n",
              "  <tbody>\n",
              "    <tr>\n",
              "      <th>0</th>\n",
              "      <td>16-11-11</td>\n",
              "      <td>15:26:37</td>\n",
              "      <td>Today we express our deepest gratitude to all ...</td>\n",
              "      <td>text</td>\n",
              "      <td>photo</td>\n",
              "      <td>ThankAVet</td>\n",
              "      <td>7.970000e+17</td>\n",
              "      <td>https://twitter.com/realDonaldTrump/status/797...</td>\n",
              "      <td>127213</td>\n",
              "      <td>41112</td>\n",
              "      <td>NaN</td>\n",
              "      <td>NaN</td>\n",
              "    </tr>\n",
              "    <tr>\n",
              "      <th>1</th>\n",
              "      <td>16-11-11</td>\n",
              "      <td>13:33:35</td>\n",
              "      <td>Busy day planned in New York. Will soon be mak...</td>\n",
              "      <td>text</td>\n",
              "      <td>NaN</td>\n",
              "      <td>NaN</td>\n",
              "      <td>7.970000e+17</td>\n",
              "      <td>https://twitter.com/realDonaldTrump/status/797...</td>\n",
              "      <td>141527</td>\n",
              "      <td>28654</td>\n",
              "      <td>NaN</td>\n",
              "      <td>NaN</td>\n",
              "    </tr>\n",
              "    <tr>\n",
              "      <th>2</th>\n",
              "      <td>16-11-11</td>\n",
              "      <td>11:14:20</td>\n",
              "      <td>Love the fact that the small groups of protest...</td>\n",
              "      <td>text</td>\n",
              "      <td>NaN</td>\n",
              "      <td>NaN</td>\n",
              "      <td>7.970000e+17</td>\n",
              "      <td>https://twitter.com/realDonaldTrump/status/797...</td>\n",
              "      <td>183729</td>\n",
              "      <td>50039</td>\n",
              "      <td>NaN</td>\n",
              "      <td>NaN</td>\n",
              "    </tr>\n",
              "    <tr>\n",
              "      <th>3</th>\n",
              "      <td>16-11-11</td>\n",
              "      <td>2:19:44</td>\n",
              "      <td>Just had a very open and successful presidenti...</td>\n",
              "      <td>text</td>\n",
              "      <td>NaN</td>\n",
              "      <td>NaN</td>\n",
              "      <td>7.970000e+17</td>\n",
              "      <td>https://twitter.com/realDonaldTrump/status/796...</td>\n",
              "      <td>214001</td>\n",
              "      <td>67010</td>\n",
              "      <td>NaN</td>\n",
              "      <td>NaN</td>\n",
              "    </tr>\n",
              "    <tr>\n",
              "      <th>4</th>\n",
              "      <td>16-11-11</td>\n",
              "      <td>2:10:46</td>\n",
              "      <td>A fantastic day in D.C. Met with President Oba...</td>\n",
              "      <td>text</td>\n",
              "      <td>NaN</td>\n",
              "      <td>NaN</td>\n",
              "      <td>7.970000e+17</td>\n",
              "      <td>https://twitter.com/realDonaldTrump/status/796...</td>\n",
              "      <td>178499</td>\n",
              "      <td>36688</td>\n",
              "      <td>NaN</td>\n",
              "      <td>NaN</td>\n",
              "    </tr>\n",
              "    <tr>\n",
              "      <th>5</th>\n",
              "      <td>16-11-10</td>\n",
              "      <td>19:31:27</td>\n",
              "      <td>Happy 241st birthday to the U.S. Marine Corps!...</td>\n",
              "      <td>text</td>\n",
              "      <td>photo</td>\n",
              "      <td>NaN</td>\n",
              "      <td>7.970000e+17</td>\n",
              "      <td>https://twitter.com/realDonaldTrump/status/796...</td>\n",
              "      <td>159176</td>\n",
              "      <td>44655</td>\n",
              "      <td>NaN</td>\n",
              "      <td>NaN</td>\n",
              "    </tr>\n",
              "    <tr>\n",
              "      <th>6</th>\n",
              "      <td>16-11-09</td>\n",
              "      <td>11:36:58</td>\n",
              "      <td>Such a beautiful and important evening! The fo...</td>\n",
              "      <td>text</td>\n",
              "      <td>NaN</td>\n",
              "      <td>NaN</td>\n",
              "      <td>7.960000e+17</td>\n",
              "      <td>https://twitter.com/realDonaldTrump/status/796...</td>\n",
              "      <td>627615</td>\n",
              "      <td>225164</td>\n",
              "      <td>NaN</td>\n",
              "      <td>NaN</td>\n",
              "    </tr>\n",
              "    <tr>\n",
              "      <th>7</th>\n",
              "      <td>16-11-09</td>\n",
              "      <td>2:48:27</td>\n",
              "      <td>Watching the returns at 9:45pm.\\n#ElectionNigh...</td>\n",
              "      <td>text</td>\n",
              "      <td>photo</td>\n",
              "      <td>ElectionNight;MAGA</td>\n",
              "      <td>7.960000e+17</td>\n",
              "      <td>https://twitter.com/realDonaldTrump/status/796...</td>\n",
              "      <td>185160</td>\n",
              "      <td>45492</td>\n",
              "      <td>NaN</td>\n",
              "      <td>NaN</td>\n",
              "    </tr>\n",
              "    <tr>\n",
              "      <th>8</th>\n",
              "      <td>16-11-09</td>\n",
              "      <td>1:35:15</td>\n",
              "      <td>RT @IvankaTrump: Such a surreal moment to vote...</td>\n",
              "      <td>text</td>\n",
              "      <td>NaN</td>\n",
              "      <td>NaN</td>\n",
              "      <td>7.960000e+17</td>\n",
              "      <td>https://twitter.com/realDonaldTrump/status/796...</td>\n",
              "      <td>99809</td>\n",
              "      <td>17169</td>\n",
              "      <td>NaN</td>\n",
              "      <td>NaN</td>\n",
              "    </tr>\n",
              "    <tr>\n",
              "      <th>9</th>\n",
              "      <td>16-11-08</td>\n",
              "      <td>23:20:39</td>\n",
              "      <td>RT @EricTrump: Join my family in this incredib...</td>\n",
              "      <td>text</td>\n",
              "      <td>NaN</td>\n",
              "      <td>MakeAmericaGreatAgain;VOTE</td>\n",
              "      <td>7.960000e+17</td>\n",
              "      <td>https://twitter.com/realDonaldTrump/status/796...</td>\n",
              "      <td>63868</td>\n",
              "      <td>19710</td>\n",
              "      <td>NaN</td>\n",
              "      <td>NaN</td>\n",
              "    </tr>\n",
              "  </tbody>\n",
              "</table>\n",
              "</div>"
            ],
            "text/plain": [
              "       Date      Time  ... Unnamed: 10 Unnamed: 11\n",
              "0  16-11-11  15:26:37  ...         NaN         NaN\n",
              "1  16-11-11  13:33:35  ...         NaN         NaN\n",
              "2  16-11-11  11:14:20  ...         NaN         NaN\n",
              "3  16-11-11   2:19:44  ...         NaN         NaN\n",
              "4  16-11-11   2:10:46  ...         NaN         NaN\n",
              "5  16-11-10  19:31:27  ...         NaN         NaN\n",
              "6  16-11-09  11:36:58  ...         NaN         NaN\n",
              "7  16-11-09   2:48:27  ...         NaN         NaN\n",
              "8  16-11-09   1:35:15  ...         NaN         NaN\n",
              "9  16-11-08  23:20:39  ...         NaN         NaN\n",
              "\n",
              "[10 rows x 12 columns]"
            ]
          },
          "metadata": {
            "tags": []
          },
          "execution_count": 9
        }
      ]
    },
    {
      "cell_type": "markdown",
      "metadata": {
        "id": "d4kktkZg7DhG"
      },
      "source": [
        "Data Cleaning"
      ]
    },
    {
      "cell_type": "code",
      "metadata": {
        "id": "j3bLOO5x5eox"
      },
      "source": [
        "data = data[pd.isnull(data['Media_Type'])]\r\n",
        "data = data[pd.isnull(data['Hashtags'])]"
      ],
      "execution_count": null,
      "outputs": []
    },
    {
      "cell_type": "code",
      "metadata": {
        "id": "q0jgtz0b5eZT"
      },
      "source": [
        "data = data[data.Type == \"text\"]\r\n",
        "df = data[[\"Tweet_Text\"]]"
      ],
      "execution_count": null,
      "outputs": []
    },
    {
      "cell_type": "code",
      "metadata": {
        "id": "TCU9Rpcx5d69"
      },
      "source": [
        "df = df[~df.Tweet_Text.str.contains('\"')]\r\n",
        "df = df[~df.Tweet_Text.str.contains(\"http\")]\r\n",
        "df = df[~df.Tweet_Text.str.contains(\"RT @\")]"
      ],
      "execution_count": null,
      "outputs": []
    },
    {
      "cell_type": "code",
      "metadata": {
        "id": "D0t-PiRh5dza"
      },
      "source": [
        "df = df.replace({'&amp;': '&'}, regex=True)"
      ],
      "execution_count": null,
      "outputs": []
    },
    {
      "cell_type": "code",
      "metadata": {
        "id": "XI06qiU45dms"
      },
      "source": [
        "df.to_csv('tweets-cleaned.csv', index=False)"
      ],
      "execution_count": null,
      "outputs": []
    },
    {
      "cell_type": "code",
      "metadata": {
        "colab": {
          "base_uri": "https://localhost:8080/",
          "height": 419
        },
        "id": "eCAylYsF7i3Z",
        "outputId": "ca23f5f6-a98b-45ff-f4e5-d5aea9e80966"
      },
      "source": [
        "df"
      ],
      "execution_count": null,
      "outputs": [
        {
          "output_type": "execute_result",
          "data": {
            "text/html": [
              "<div>\n",
              "<style scoped>\n",
              "    .dataframe tbody tr th:only-of-type {\n",
              "        vertical-align: middle;\n",
              "    }\n",
              "\n",
              "    .dataframe tbody tr th {\n",
              "        vertical-align: top;\n",
              "    }\n",
              "\n",
              "    .dataframe thead th {\n",
              "        text-align: right;\n",
              "    }\n",
              "</style>\n",
              "<table border=\"1\" class=\"dataframe\">\n",
              "  <thead>\n",
              "    <tr style=\"text-align: right;\">\n",
              "      <th></th>\n",
              "      <th>Tweet_Text</th>\n",
              "    </tr>\n",
              "  </thead>\n",
              "  <tbody>\n",
              "    <tr>\n",
              "      <th>1</th>\n",
              "      <td>Busy day planned in New York. Will soon be mak...</td>\n",
              "    </tr>\n",
              "    <tr>\n",
              "      <th>2</th>\n",
              "      <td>Love the fact that the small groups of protest...</td>\n",
              "    </tr>\n",
              "    <tr>\n",
              "      <th>3</th>\n",
              "      <td>Just had a very open and successful presidenti...</td>\n",
              "    </tr>\n",
              "    <tr>\n",
              "      <th>4</th>\n",
              "      <td>A fantastic day in D.C. Met with President Oba...</td>\n",
              "    </tr>\n",
              "    <tr>\n",
              "      <th>6</th>\n",
              "      <td>Such a beautiful and important evening! The fo...</td>\n",
              "    </tr>\n",
              "    <tr>\n",
              "      <th>...</th>\n",
              "      <td>...</td>\n",
              "    </tr>\n",
              "    <tr>\n",
              "      <th>7366</th>\n",
              "      <td>.@BradSteinle Great talking to you and your pa...</td>\n",
              "    </tr>\n",
              "    <tr>\n",
              "      <th>7367</th>\n",
              "      <td>.@andydean2014 Thank you, you were great. You ...</td>\n",
              "    </tr>\n",
              "    <tr>\n",
              "      <th>7369</th>\n",
              "      <td>I hope the boycott of @Macys continues forever...</td>\n",
              "    </tr>\n",
              "    <tr>\n",
              "      <th>7370</th>\n",
              "      <td>I loved firing goofball atheist Penn @pennjill...</td>\n",
              "    </tr>\n",
              "    <tr>\n",
              "      <th>7371</th>\n",
              "      <td>I hear @pennjillette show on Broadway is terri...</td>\n",
              "    </tr>\n",
              "  </tbody>\n",
              "</table>\n",
              "<p>2469 rows × 1 columns</p>\n",
              "</div>"
            ],
            "text/plain": [
              "                                             Tweet_Text\n",
              "1     Busy day planned in New York. Will soon be mak...\n",
              "2     Love the fact that the small groups of protest...\n",
              "3     Just had a very open and successful presidenti...\n",
              "4     A fantastic day in D.C. Met with President Oba...\n",
              "6     Such a beautiful and important evening! The fo...\n",
              "...                                                 ...\n",
              "7366  .@BradSteinle Great talking to you and your pa...\n",
              "7367  .@andydean2014 Thank you, you were great. You ...\n",
              "7369  I hope the boycott of @Macys continues forever...\n",
              "7370  I loved firing goofball atheist Penn @pennjill...\n",
              "7371  I hear @pennjillette show on Broadway is terri...\n",
              "\n",
              "[2469 rows x 1 columns]"
            ]
          },
          "metadata": {
            "tags": []
          },
          "execution_count": 16
        }
      ]
    },
    {
      "cell_type": "code",
      "metadata": {
        "colab": {
          "base_uri": "https://localhost:8080/",
          "height": 17
        },
        "id": "d8_B9QBg7jMm",
        "outputId": "f2e24806-818a-4cdb-e095-dac5523c5a88"
      },
      "source": [
        "from google.colab import files\r\n",
        "files.download(\"tweets-cleaned.csv\")"
      ],
      "execution_count": null,
      "outputs": [
        {
          "output_type": "display_data",
          "data": {
            "application/javascript": [
              "\n",
              "    async function download(id, filename, size) {\n",
              "      if (!google.colab.kernel.accessAllowed) {\n",
              "        return;\n",
              "      }\n",
              "      const div = document.createElement('div');\n",
              "      const label = document.createElement('label');\n",
              "      label.textContent = `Downloading \"${filename}\": `;\n",
              "      div.appendChild(label);\n",
              "      const progress = document.createElement('progress');\n",
              "      progress.max = size;\n",
              "      div.appendChild(progress);\n",
              "      document.body.appendChild(div);\n",
              "\n",
              "      const buffers = [];\n",
              "      let downloaded = 0;\n",
              "\n",
              "      const channel = await google.colab.kernel.comms.open(id);\n",
              "      // Send a message to notify the kernel that we're ready.\n",
              "      channel.send({})\n",
              "\n",
              "      for await (const message of channel.messages) {\n",
              "        // Send a message to notify the kernel that we're ready.\n",
              "        channel.send({})\n",
              "        if (message.buffers) {\n",
              "          for (const buffer of message.buffers) {\n",
              "            buffers.push(buffer);\n",
              "            downloaded += buffer.byteLength;\n",
              "            progress.value = downloaded;\n",
              "          }\n",
              "        }\n",
              "      }\n",
              "      const blob = new Blob(buffers, {type: 'application/binary'});\n",
              "      const a = document.createElement('a');\n",
              "      a.href = window.URL.createObjectURL(blob);\n",
              "      a.download = filename;\n",
              "      div.appendChild(a);\n",
              "      a.click();\n",
              "      div.remove();\n",
              "    }\n",
              "  "
            ],
            "text/plain": [
              "<IPython.core.display.Javascript object>"
            ]
          },
          "metadata": {
            "tags": []
          }
        },
        {
          "output_type": "display_data",
          "data": {
            "application/javascript": [
              "download(\"download_82209cae-fdb1-48c6-b1e2-62e8e5f62e58\", \"tweets-cleaned.csv\", 293854)"
            ],
            "text/plain": [
              "<IPython.core.display.Javascript object>"
            ]
          },
          "metadata": {
            "tags": []
          }
        }
      ]
    },
    {
      "cell_type": "code",
      "metadata": {
        "id": "cZ7mY-5R7jTj"
      },
      "source": [
        "# remove first line  \r\n",
        "# only run this one time\r\n",
        "\r\n",
        "# with open(\"/content/drive/My Drive/kth/s1p2/ID2223:ScalableML/project/donaldbot/data/tweets-cleaned.csv\", \"r\") as fin:\r\n",
        "#     data = fin.read().splitlines(True)\r\n",
        "# with open(\"/content/drive/My Drive/kth/s1p2/ID2223:ScalableML/project/donaldbot/data/tweets-cleaned.txt\", \"w\") as fout:\r\n",
        "#     fout.writelines(data[1:])"
      ],
      "execution_count": null,
      "outputs": []
    },
    {
      "cell_type": "code",
      "metadata": {
        "id": "IDntWi6OlX76",
        "colab": {
          "base_uri": "https://localhost:8080/"
        },
        "outputId": "7c38addf-7fc1-4887-fb7f-0d48b1892311"
      },
      "source": [
        "text = open(\"/content/drive/My Drive/kth/s1p2/ID2223:ScalableML/project/donaldbot/data/tweets-cleaned.txt\", 'rb').read().decode(encoding='utf-8')\n",
        "\n",
        "print ('Number of Characters: {} characters'.format(len(text)))"
      ],
      "execution_count": null,
      "outputs": [
        {
          "output_type": "stream",
          "text": [
            "Length of text: 293680 characters\n"
          ],
          "name": "stdout"
        }
      ]
    },
    {
      "cell_type": "markdown",
      "metadata": {
        "id": "gGfDGBNX9_bu"
      },
      "source": [
        "Analysis"
      ]
    },
    {
      "cell_type": "code",
      "metadata": {
        "id": "7SzuzOorlX8M",
        "colab": {
          "base_uri": "https://localhost:8080/"
        },
        "outputId": "5136a176-bea1-40d0-eb5d-1ecaf1c06229"
      },
      "source": [
        "# First 250 characters in text\n",
        "print(text[:100])"
      ],
      "execution_count": null,
      "outputs": [
        {
          "output_type": "stream",
          "text": [
            "Busy day planned in New York. Will soon be making some very important decisions on the people who wi\n"
          ],
          "name": "stdout"
        }
      ]
    },
    {
      "cell_type": "code",
      "metadata": {
        "id": "rCz6PR5RlX8Q",
        "colab": {
          "base_uri": "https://localhost:8080/"
        },
        "outputId": "150309a5-aad3-4b7d-f82c-f3c97dc49924"
      },
      "source": [
        "# The count of unique characters that are present in the file\n",
        "vocabulary= sorted(set(text))\n",
        "print ('{} unique characters'.format(len(vocab)))"
      ],
      "execution_count": null,
      "outputs": [
        {
          "output_type": "stream",
          "text": [
            "85 unique characters\n"
          ],
          "name": "stdout"
        }
      ]
    },
    {
      "cell_type": "code",
      "metadata": {
        "colab": {
          "base_uri": "https://localhost:8080/"
        },
        "id": "GnpQtc6BEOkS",
        "outputId": "b8d15b3d-144d-4b77-a2cc-8e130fe628c3"
      },
      "source": [
        "# To keep track of the number of times each word was used\r\n",
        "import operator\r\n",
        "\r\n",
        "word_count= dict()\r\n",
        "words = text.split()\r\n",
        "\r\n",
        "for word in words:\r\n",
        "    if word in counts:\r\n",
        "        counts[word] += 1\r\n",
        "    else:\r\n",
        "        counts[word] = 1\r\n",
        "\r\n",
        "sorted_1= sorted(counts.items(), key=operator.itemgetter(1),reverse=True)\r\n",
        "sorted_2= list(reversed(sorted_counts))\r\n",
        "\r\n",
        "print(sorted_counts)"
      ],
      "execution_count": null,
      "outputs": [
        {
          "output_type": "stream",
          "text": [
            "[('the', 1572), ('to', 1077), ('and', 1008), ('a', 857), ('I', 804), ('in', 794), ('is', 774), ('of', 746), ('on', 701), ('be', 597), ('will', 530), ('for', 519), ('that', 403), ('at', 374), ('-', 296), ('have', 295), ('with', 285), ('are', 280), ('was', 260), ('Hillary', 258), ('by', 252), ('you', 242), ('great', 238), ('my', 231), ('has', 223), ('not', 217), ('&', 206), ('he', 205), ('me', 202), ('The', 201), ('all', 200), ('so', 192), ('very', 178), ('just', 176), ('it', 170), ('his', 164), ('people', 157), ('am', 146), ('who', 145), ('our', 143), ('\"I', 141), ('about', 140), ('from', 133), ('out', 131), ('Will', 129), ('Crooked', 129), ('but', 126), ('interviewed', 124), ('they', 123), ('Clinton', 120), ('big', 120), ('her', 117), ('as', 116), ('would', 111), ('like', 108), ('last', 107), ('she', 105), ('should', 104), ('Thank', 104), ('do', 104), ('Cruz', 102), ('this', 101), ('many', 100), ('We', 98), ('more', 98), ('get', 97), ('your', 96), ('now', 96), ('we', 95), ('no', 94), ('much', 92), ('GREAT', 91), ('than', 91), ('said', 91), ('going', 88), ('AMERICA', 87), ('never', 86), ('been', 86), ('\"The', 83), ('MAKE', 82), ('He', 82), ('Enjoy!', 81), ('bad', 81), ('@CNN', 80), ('New', 79), ('had', 78), ('their', 77), ('against', 77), ('A.M.', 77), ('one', 76), ('Ted', 76), ('Trump', 74), ('an', 74), ('up', 74), ('or', 74), ('tonight', 73), ('time', 69), ('\"Wow,', 68), ('Great', 68), ('@FoxNews', 68), ('did', 68), ('only', 68), ('were', 66), ('got', 66), ('totally', 66), ('when', 66), ('want', 65), ('back', 64), ('can', 64), ('what', 64), ('Republican', 64), ('being', 63), ('new', 62), ('job', 62), ('me.', 61), ('Just', 60), ('good', 59), ('doing', 58), ('even', 58), ('debate', 58), ('media', 58), ('poll', 58), ('total', 57), ('really', 57), ('how', 55), ('failing', 55), ('if', 53), ('him', 52), ('other', 52), ('Obama', 51), ('She', 51), ('U.S.', 51), ('A', 50), ('They', 50), ('Big', 49), ('way', 49), ('nice', 49), ('made', 48), ('over', 48), ('go', 48), ('amazing', 48), ('country', 47), ('speech', 47), ('Bernie', 47), ('@foxandfriends', 47), ('wonderful', 47), ('lost', 46), ('So', 45), ('Iowa', 45), ('because', 45), ('down', 45), ('won', 44), ('show', 44), ('Why', 43), ('wants', 43), ('win', 43), ('doesnt', 43), ('It', 43), ('crowd', 43), ('campaign', 42), ('night', 41), ('\"Just', 41), ('AGAIN!', 41), ('them', 41), ('dont', 41), ('special', 41), ('there', 40), ('know', 40), ('say', 40), ('beat', 40), ('jobs', 39), ('two', 39), ('run', 39), ('P.M.', 39), ('cant', 39), ('must', 39), ('@nytimes', 39), ('forward', 39), ('South', 39), ('where', 38), ('which', 38), ('money', 38), ('Jeb', 38), ('polls', 37), ('numbers', 37), ('look', 37), ('Kasich', 37), ('think', 36), ('make', 36), ('Marco', 36), ('after', 35), ('failed', 35), ('illegal', 35), ('Sanders', 35), ('vote', 34), ('AGAIN!\"', 34), ('done', 34), ('into', 34), ('No', 34), ('Rubio', 34), ('President', 33), ('better', 33), ('Poll', 33), ('story', 33), ('believe', 33), ('does', 33), ('today', 33), ('You', 33), ('didnt', 32), ('dishonest', 32), ('saying', 32), ('John', 32), ('making', 31), ('Very', 31), ('This', 31), ('ever', 31), ('hit', 31), ('far', 31), ('million', 31), ('most', 31), ('fantastic', 30), ('looking', 30), ('take', 30), ('day', 29), ('see', 29), ('talk', 29), ('off', 29), ('tough', 29), ('me,', 29), ('millions', 29), ('ads', 29), ('another', 29), ('love', 29), ('getting', 28), ('nothing', 28), ('@oreillyfactor', 28), ('words', 28), ('deal', 28), ('State', 28), ('Bush', 28), ('\"If', 27), ('hard', 27), ('American', 27), ('terrible', 27), ('always', 27), ('little', 27), ('weak', 27), ('night.', 27), ('7:00', 27), ('its', 27), ('morning', 27), ('negative', 27), ('talking', 26), ('phony', 26), ('massive', 26), ('major', 26), ('tonight.', 26), ('smart', 26), ('put', 26), ('ISIS', 26), ('spent', 26), ('first', 25), ('morning.', 25), ('Carolina', 25), ('too', 25), ('every', 25), ('@seanhannity', 25), ('ratings', 25), ('Senator', 25), ('National', 25), ('Not', 25), ('Elizabeth', 25), ('some', 24), ('Now', 24), ('let', 24), ('people!', 24), ('\"Crooked', 24), ('watch', 24), ('America', 24), ('today.', 24), ('tomorrow', 24), ('such', 24), ('interview', 24), ('almost', 23), ('things', 23), ('why', 23), ('Fox', 23), ('watched', 23), ('best', 23), ('worst', 23), ('--', 23), ('come', 22), ('us', 22), ('\"Hillary', 22), ('gave', 22), ('women', 22), ('false', 22), ('event', 22), ('rally', 22), ('then', 22), ('record', 22), ('@Morning_Joe', 22), ('lightweight', 22), ('spending', 22), ('Romney', 22), ('news', 21), ('Hampshire', 21), ('People', 21), ('horrible', 21), ('came', 21), ('Ohio', 21), ('left', 21), ('If', 21), ('Bill', 21), ('everyone', 21), ('could', 21), ('need', 21), ('people.', 21), ('dumb', 21), ('How', 21), ('person', 21), ('candidate', 21), ('watching', 20), ('trying', 20), ('Im', 20), ('says', 20), ('years', 20), ('thank', 20), ('badly', 20), ('right', 20), ('under', 20), ('knows', 20), ('stop', 20), ('lead', 20), ('ad', 20), ('running', 19), ('presidential', 19), ('keep', 19), ('election', 19), ('well', 19), ('those', 19), ('Look', 19), ('What', 19), ('announced', 19), ('CNN', 19), ('support', 19), ('biased', 19), ('hear', 19), ('use', 19), ('My', 19), ('truly', 19), ('yet', 19), ('Party', 19), ('\"Thank', 19), ('place', 19), ('\"Why', 19), ('@megynkelly', 19), ('before', 18), ('given', 18), ('any', 18), ('you!', 18), ('hope', 18), ('proud', 18), ('Governor', 18), ('bring', 18), ('debate.', 18), ('meeting', 18), ('working', 18), ('\"Will', 18), ('both', 18), ('Wall', 18), ('long', 18), ('Chris', 18), ('Lyin', 18), ('wont', 18), ('Face', 18), ('See', 17), ('work', 17), ('allowed', 17), ('Clinton.', 17), ('Dems', 17), ('winning', 17), ('political', 17), ('rigged', 17), ('same', 17), ('it!', 17), ('10:00', 17), ('treated', 17), ('years.', 17), ('told', 17), ('still', 17), ('strong', 17), ('real', 17), ('paid', 17), ('guy', 17), ('looks', 16), ('taking', 16), ('\"In', 16), ('supporters', 16), ('endorsement', 16), ('low', 16), ('highly', 16), ('@FoxNews.', 16), ('All', 16), ('When', 16), ('television', 16), ('press', 16), ('wonder', 16), ('it.', 16), ('w/', 16), ('called', 16), ('Mitt', 16), ('interest', 16), ('open', 15), ('D.C.', 15), ('leading', 15), ('asked', 15), ('used', 15), ('call', 15), ('went', 15), ('others', 15), ('give', 15), ('zero', 15), ('Clintons', 15), ('shows', 15), ('News', 15), ('Many', 15), ('them.', 15), ('while', 15), ('(and', 15), ('Convention', 15), ('trade', 15), ('statements', 15), ('system', 15), ('Good', 15), ('ready', 15), ('votes', 15), ('Donald', 15), ('Carson', 15), ('soon', 14), ('Really', 14), ('Get', 14), ('United', 14), ('cannot', 14), ('@ABC', 14), ('TRUMP', 14), ('Post', 14), ('voters', 14), ('\"Great', 14), ('now.', 14), ('until', 14), ('incredible', 14), ('fight', 14), ('next', 14), ('statement', 14), ('help', 14), ('killed', 14), ('tremendous', 14), ('tax', 14), ('Make', 14), ('sad', 14), ('endorsed', 14), ('having', 14), ('it!\"', 14), ('world', 14), ('Also,', 14), ('amazing.', 14), ('Graham', 14), ('losing', 14), ('Nation', 14), ('@KarlRove', 14), ('Iowa.', 14), ('together', 13), ('soon.', 13), ('\"My', 13), ('report', 13), ('\"We', 13), ('voting', 13), ('order', 13), ('Iran', 13), ('four', 13), ('Saturday', 13), ('president', 13), ('leaving', 13), ('during', 13), ('conference', 13), ('immigration', 13), ('waste', 13), ('anyone', 13), ('kind', 13), ('leadership', 13), ('despite', 13), ('using', 13), ('Dont', 13), ('9:00', 13), ('rather', 13), ('increase', 13), ('Street', 13), ('energy', 13), ('Trump.', 13), ('released', 13), ('York', 13), ('soon!\"', 13), ('state', 13), ('Carolina.', 13), ('Ben', 13), ('important', 12), ('Hillary,', 12), ('Hampshire.', 12), ('8:00', 12), ('lot', 12), ('national', 12), ('Amazing', 12), ('Hillary.', 12), ('Our', 12), ('don۪t', 12), ('Enjoy!\"', 12), ('close', 12), ('pushing', 12), ('me!', 12), ('anything', 12), ('fix', 12), ('least', 12), ('you!\"', 12), ('including', 12), ('\"While', 12), ('wanted', 12), ('book', 12), ('\"It', 12), ('\"When', 12), ('incompetent', 12), ('old', 12), ('radical', 12), ('Warren,', 12), ('knew', 12), ('though', 12), ('own', 12), ('happy', 12), ('him.', 12), ('candidates', 12), ('@TODAYshow', 12), ('Sunday', 12), ('@JebBush', 12), ('fact', 11), ('small', 11), ('man', 11), ('again.', 11), ('family', 11), ('AND', 11), ('speaking', 11), ('With', 11), ('change', 11), ('\"So', 11), ('polls,', 11), ('That', 11), ('@CNN.', 11), ('especially', 11), ('proven', 11), ('Paul', 11), ('also', 11), ('Florida', 11), ('interesting', 11), ('Mike', 11), ('V.P.', 11), ('fair', 11), ('Iraq', 11), ('Presidential', 11), ('Hillarys', 11), ('dopey', 11), ('greatly', 11), ('judgement', 11), ('ISIS,', 11), ('law', 11), ('without', 11), ('\"Heading', 11), ('rally.', 11), ('crowd,', 11), ('it,', 11), ('took', 11), ('thing', 11), ('Republicans', 11), ('allow', 11), ('Mexico', 11), ('pay', 11), ('beating', 11), ('history', 11), ('foreign', 11), ('There', 11), ('@meetthepress', 11), ('China', 11), ('Congratulations', 11), ('race', 11), ('yesterday', 11), ('Wallace', 11), ('@WSJ', 11), ('interests', 11), ('country.', 10), ('results', 10), ('Looking', 10), ('attack', 10), ('front', 10), ('days', 10), ('these', 10), ('nobody', 10), ('Kaine', 10), ('crowds', 10), ('you,', 10), ('husband', 10), ('Democrats', 10), ('fighting', 10), ('happened', 10), ('now,', 10), ('primary', 10), ('coming', 10), ('Thanks', 10), ('Their', 10), ('Dallas', 10), ('become', 10), ('Washington', 10), ('Clinton,', 10), ('gone', 10), ('But', 10), ('Lindsey', 10), ('Super', 10), ('poor', 10), ('crazy', 10), ('border', 10), ('ashamed', 10), ('In', 10), ('tomorrow.', 10), ('ENJOY!', 10), ('reporting', 10), ('gets', 10), ('campaign.', 10), ('since', 10), ('T.V.', 10), ('night!', 10), ('Is', 10), ('dollars', 10), ('\"Ted', 10), ('Goofy', 10), ('On', 10), ('\"After', 10), ('wrong', 10), ('talk,', 10), ('I۪m', 10), ('Islamic', 10), ('evening', 10), ('easily', 10), ('defend', 10), ('Warren', 10), ('Should', 10), ('7:30', 10), ('For', 10), ('---', 10), ('politicians', 10), ('self-funding', 10), ('whose', 10), ('Its', 10), ('Iowa,', 10), ('@GStephanopoulos', 10), ('read', 10), ('about!', 10), ('time.', 9), ('Such', 9), ('woman', 9), ('protect', 9), ('instead', 9), ('save', 9), ('less', 9), ('president.', 9), ('e-mail', 9), ('case', 9), ('taken', 9), ('Colorado', 9), ('Media', 9), ('asking', 9), ('refuses', 9), ('crowd.', 9), ('exciting', 9), ('putting', 9), ('debate,', 9), ('day.', 9), ('already', 9), ('office', 9), ('campaign,', 9), ('boring', 9), ('write', 9), ('Texas', 9), ('spend', 9), ('comments', 9), ('politics', 9), ('worse', 9), ('luck', 9), ('live', 9), ('around', 9), ('disgusting', 9), ('home', 9), ('\".@CNN', 9), ('prayers', 9), ('#1', 9), ('packed', 9), ('immigration.', 9), ('policy', 9), ('release', 9), ('able', 9), ('tell', 9), ('Virginia', 9), ('now!', 9), ('started', 9), ('end', 9), ('continue', 9), ('top', 9), ('through', 9), ('sold', 9), ('lies', 9), ('ZERO', 9), ('listen', 9), ('embarrassed', 9), ('Native', 9), ('raise', 9), ('GOP', 9), ('correct', 9), ('taxes', 9), ('unfair', 9), ('cover', 9), ('credit', 9), ('Fantastic', 9), ('care', 9), ('head', 9), ('10', 9), ('PM', 9), ('Morning', 9), ('nasty', 9), ('something', 9), ('delegates', 9), ('Club', 9), ('@chucktodd', 9), ('focus', 9), ('dumbest', 9), ('highest', 9), ('@CBSNews', 9), ('Love', 8), ('\"A', 8), ('Melania', 8), ('WE', 8), ('disaster.', 8), ('North', 8), ('families', 8), ('police', 8), ('e-mails', 8), ('questions', 8), ('Heading', 8), ('disaster', 8), ('fortune', 8), ('stories', 8), ('win.', 8), ('respect', 8), ('problem', 8), ('may', 8), ('Gov.', 8), ('longer', 8), ('\"Our', 8), ('Watch', 8), ('heard', 8), ('Pence', 8), ('\"For', 8), ('Today', 8), ('appreciate', 8), ('needs', 8), ('Do', 8), ('behind', 8), ('once', 8), ('victims', 8), ('Russia', 8), ('Who', 8), ('free', 8), ('respected', 8), ('\"As', 8), ('reported', 8), ('properly', 8), ('build', 8), ('honor', 8), ('border.', 8), ('brought', 8), ('up.', 8), ('Indiana', 8), ('sure', 8), ('dying', 8), ('true', 8), ('Hillary!', 8), ('win!\"', 8), ('speak', 8), ('name', 8), ('Democratic', 8), ('voted', 8), ('Her', 8), ('San', 8), ('words.', 8), ('is,', 8), ('\"Bernie', 8), ('people,', 8), ('find', 8), ('friends', 8), ('bought', 8), ('lobbyists', 8), ('dead', 8), ('legal', 8), ('fraudulent', 8), ('himself', 8), ('thinks', 8), ('today,', 8), ('crowd!', 8), ('goofy', 8), ('playing', 8), ('overrated', 8), ('Las', 8), ('guy.', 8), ('me.\"', 8), ('Be', 8), ('5', 8), ('sad!', 8), ('4', 8), ('1', 8), ('Crazy', 8), ('doesn۪t', 8), ('friend', 8), ('ads,', 8), ('Growth', 8), ('@GMA', 8), ('word', 8), ('\"Jeb', 8), ('Union', 8), ('7:00.', 8), ('10:30', 8), ('CARSON', 8), ('groups', 7), ('Tower', 7), ('campaigning', 7), ('Pennsylvania', 7), ('all.', 7), ('Bad', 7), ('FBI', 7), ('few', 7), ('soon!', 7), ('BIG', 7), ('happen', 7), ('months', 7), ('final', 7), ('public', 7), ('happening', 7), ('start', 7), ('absolutely', 7), ('Night', 7), ('way!\"', 7), ('Nobody', 7), ('McCain', 7), ('Arizona', 7), ('thousands', 7), ('saw', 7), ('BAD', 7), ('set', 7), ('condolences', 7), ('Wisconsin', 7), ('8', 7), ('\"Many', 7), ('perhaps', 7), ('Florida,', 7), ('someone', 7), ('destroy', 7), ('attacks', 7), ('met', 7), ('Massive', 7), ('badly.', 7), ('worse.', 7), ('arrived', 7), ('\"With', 7), ('reviews', 7), ('great.', 7), ('book,', 7), ('away', 7), ('else', 7), ('protest', 7), ('@morningmika', 7), ('Joe', 7), ('high', 7), ('crowds,', 7), ('gives', 7), ('NO', 7), ('terrific', 7), ('TV', 7), ('desperate', 7), ('maybe', 7), ('DNC', 7), ('RADICAL', 7), ('me!\"', 7), ('across', 7), ('mention', 7), ('times', 7), ('terrorism', 7), ('life', 7), ('Please', 7), ('money,', 7), ('\"How', 7), ('group', 7), ('@60Minutes', 7), ('Justice', 7), ('Supreme', 7), ('7', 7), ('yesterday.', 7), ('Tom', 7), ('third', 7), ('immediately', 7), ('show,', 7), ('Keep', 7), ('possible', 7), ('.@CNN', 7), ('stay', 7), ('Turnberry', 7), ('immigration,', 7), ('borders', 7), ('terror', 7), ('thought', 7), ('Have', 7), ('NOT', 7), ('piece', 7), ('drop', 7), ('CBS', 7), ('@washingtonpost', 7), ('Evangelicals', 7), ('ridiculous', 7), ('ahead', 7), ('.@FoxNews', 7), ('biggest', 7), ('Kasich,', 7), ('\"Remember,', 7), ('WILL', 7), ('wish', 7), ('@politico', 7), ('$s', 7), ('@donlemon', 7), ('born', 7), ('brother', 7), ('Veterans', 7), ('Apprentice', 7), ('protesters', 6), ('professional', 6), ('beautiful', 6), ('evening!', 6), ('exciting!', 6), ('great!', 6), ('defeat', 6), ('worked', 6), ('States', 6), ('points', 6), ('unfit', 6), ('loved', 6), ('win!', 6), ('returned', 6), ('jobs.', 6), ('Made', 6), ('job.', 6), ('ABC', 6), ('etc.\"', 6), ('NEVER', 6), ('POLL', 6), ('more.', 6), ('Tune', 6), ('debates', 6), ('(I', 6), ('ineffective', 6), ('good!', 6), ('attacked', 6), ('supporters.', 6), ('created', 6), ('NBC', 6), ('Nice!\"', 6), ('poll.', 6), ('policies', 6), ('gotten', 6), ('Enjoy.', 6), ('again', 6), ('terrorist', 6), ('them,', 6), ('Again!', 6), ('Always', 6), ('@nytimes,', 6), ('2nd', 6), ('performance', 6), ('attack,', 6), ('THE', 6), ('Only', 6), ('Sad!\"', 6), ('pick', 6), ('@oreillyfactor.', 6), ('\"Now', 6), ('tried', 6), ('unable', 6), ('crime', 6), ('so!', 6), ('shot', 6), ('problems', 6), ('Too', 6), ('virtually', 6), ('Going', 6), ('8:30', 6), ('Ill', 6), ('pundits', 6), ('Court', 6), ('pathetic', 6), ('out.', 6), ('dishonest.', 6), ('Don', 6), ('borders,', 6), ('Mayor', 6), ('support.', 6), ('horribly', 6), ('ISLAMIC', 6), ('stage', 6), ('one-sided', 6), ('better!\"', 6), ('out,', 6), ('class', 6), ('NAFTA,', 6), ('one.', 6), ('Hopefully', 6), ('killing', 6), ('TPP', 6), ('referred', 6), ('time,', 6), ('probably', 6), ('RNC', 6), ('remember', 6), ('past', 6), ('divided', 6), ('sometimes', 6), ('Your', 6), ('sell', 6), ('Editorial', 6), ('understand', 6), ('Goldman', 6), ('endorse', 6), ('opponents', 6), ('people!\"', 6), ('sent', 6), ('\"On', 6), ('between', 6), ('golf', 6), ('Shows', 6), ('stand', 6), ('Leaving', 6), ('economy', 6), ('raised', 6), ('@greta', 6), ('buy', 6), ('reporter', 6), ('chance', 6), ('yesterday,', 6), ('poorly', 6), ('wrote', 6), ('you.', 6), ('candidates.', 6), ('VA', 6), ('you.\"', 6), ('Show', 6), ('\"Do', 6), ('found', 6), ('His', 6), ('Don۪t', 6), ('week.', 6), ('Bobby', 6), ('Everybody', 6), ('down.', 6), ('controlled', 6), ('@andersoncooper', 6), ('fired', 6), ('Scott', 6), ('week', 6), ('now!\"', 6), ('Rubio.', 6), ('polls.', 6), ('Stevens', 6), ('Go', 6), ('Obama.', 6), ('speeches', 6), ('demand', 6), ('easy', 6), ('CRUZ', 6), ('RUBIO', 6), ('fun.', 6), ('ago', 6), ('PM.', 6), ('election.', 5), ('liked', 5), ('Vote', 5), ('One', 5), ('@', 5), ('wife,', 5), ('An', 5), ('12', 5), ('mess', 5), ('in.', 5), ('ago.', 5), ('Friday', 5), ('yesterday!', 5), ('landed', 5), ('Israel', 5), ('turning', 5), ('WIN', 5), ('three', 5), ('place.', 5), ('Biggest', 5), ('bringing', 5), ('announce', 5), ('business.', 5), ('Hillary۪s', 5), ('well.', 5), ('\"New', 5), ('Can', 5), ('large', 5), ('voter', 5), ('fraud', 5), ('100%', 5), ('Poll,', 5), ('11', 5), ('\"Paul', 5), ('corrupt', 5), ('crooked', 5), ('Live', 5), ('show.', 5), ('along', 5), ('there,', 5), ('Hillary!\"', 5), ('dishonest!', 5), ('members', 5), ('second', 5), ('Ryan', 5), ('down!', 5), ('enthusiasm', 5), ('Florida.', 5), ('please', 5), ('media.', 5), ('Tim', 5), ('Both', 5), ('answer', 5), ('USA', 5), ('except', 5), ('@SenTedCruz', 5), ('forced', 5), ('pols', 5), ('Never', 5), ('Tonight', 5), ('notice', 5), ('rallies', 5), ('puts', 5), ('plane', 5), ('Americans', 5), ('Robert', 5), ('former', 5), ('Secretary', 5), ('guns', 5), ('Miami', 5), ('@CNBC', 5), ('years,', 5), ('writer', 5), ('spoke', 5), ('wasnt', 5), ('deals', 5), ('president,', 5), ('13', 5), ('visit', 5), ('talks', 5), ('night,', 5), ('@ericbolling', 5), ('African-Americans', 5), ('seeing', 5), ('decision', 5), ('candidates,', 5), ('try', 5), ('inaccurate', 5), ('comes', 5), ('discuss', 5), ('@JudgeJeanine', 5), ('Sad!', 5), ('reason', 5), ('myself', 5), ('newspaper', 5), ('quote', 5), ('strength', 5), ('term', 5), ('Reuters', 5), ('These', 5), ('economic', 5), ('send', 5), ('corruption', 5), ('Mr.', 5), ('turned', 5), ('Charles', 5), ('politics,', 5), ('security', 5), ('angry', 5), ('deal!', 5), ('jobs,', 5), ('owned', 5), ('threat', 5), ('herself', 5), ('year.', 5), ('enforcement', 5), ('matter', 5), ('email', 5), ('Pocahontas,', 5), ('future', 5), ('money.', 5), ('continues', 5), ('written', 5), ('shes', 5), ('\"Even', 5), ('showed', 5), ('Was', 5), ('choice', 5), ('unless', 5), ('destroyed', 5), ('chosen', 5), ('Michael', 5), ('party', 5), ('More', 5), ('States.', 5), ('Trump!', 5), ('Then', 5), ('weeks', 5), ('\"Goofy', 5), ('(who', 5), ('endorsing', 5), ('out!', 5), ('Check', 5), ('Democrat', 5), ('lied', 5), ('son,', 5), ('@SeanHannity', 5), ('again!', 5), ('man,', 5), ('list', 5), ('work!', 5), ('anybody', 5), ('caught', 5), ('self', 5), ('@NBCNews', 5), ('others,', 5), ('wrong.', 5), ('hitting', 5), ('Scotland.', 5), ('opening', 5), ('\"Getting', 5), ('@FoxBusiness', 5), ('ET', 5), ('according', 5), ('Times', 5), ('Vegas,', 5), ('spirit', 5), ('tough,', 5), ('finally', 5), ('African', 5), ('thugs', 5), ('so,', 5), ('bad!', 5), ('Kelly', 5), ('dummy', 5), ('control', 5), ('@marcorubio', 5), ('Senate', 5), ('financial', 5), ('great!\"', 5), ('rest', 5), ('various', 5), ('shouldnt', 5), ('can۪t', 5), ('falling', 5), ('owner', 5), ('favor', 5), ('number', 5), ('race.', 5), ('Bernie,', 5), ('Everyone', 5), ('returns', 5), ('didn۪t', 5), ('Virginia,', 5), ('Week', 5), ('George', 5), ('movement', 5), ('U.S.,', 5), ('clue!', 5), ('sad!\"', 5), ('him!', 5), ('\"Lyin', 5), ('will,', 5), ('Things', 5), ('AGAIN', 5), ('Cruz,', 5), ('donors', 5), ('paper', 5), ('@jaketapper', 5), ('fun!', 5), ('\"Leaving', 5), ('explain', 5), ('nice!\"', 5), ('At', 5), ('\"Happy', 5), ('Wow,', 5), ('Weak', 5), ('problem!\"', 5), ('ALL', 5), ('politically', 5), ('endorsement.', 5), ('lying', 5), ('Hope', 5), ('etc.', 5), ('needed', 5), ('I۪ll', 5), ('@jdickerson', 5), ('wife', 5), ('World', 5), ('Stuart', 5), ('Rand', 5), ('11:30', 5), ('NH', 5), ('Nevada', 5), ('BE', 5), ('8:00.', 5), ('Another', 5), ('dirty', 5), ('$', 5), ('@JebBush,', 5), ('desperately', 5), ('wasted', 5), ('either', 5), ('Canada', 5), ('advertising', 5), ('guy!', 5), ('Review', 5), ('scam', 5), ('numbers.', 5), ('Magazine', 5), ('part', 5), ('@UnionLeader', 5), ('Leader', 5), ('letter', 5), ('year', 5), ('point', 5), ('@CNNPolitics', 5), ('heads', 5), ('10:00.', 5), ('\"John', 5), ('planned', 4), ('decisions', 4), ('successful', 4), ('O', 4), ('\"Dont', 4), ('share', 4), ('tonight!', 4), ('supports', 4), ('Air', 4), ('Melania,', 4), ('afternoon.', 4), ('safe', 4), ('deleted', 4), ('replace', 4), ('page', 4), ('weeks,', 4), ('mostly', 4), ('announcement', 4), ('on?', 4), ('Major', 4), ('.', 4), ('WIN!', 4), ('VOTE', 4), ('\"Well,', 4), ('signed', 4), ('doubt', 4), ('numbers,', 4), ('leaders', 4), ('pushed', 4), ('SAFE', 4), ('budget,', 4), ('based', 4), ('reporters', 4), ('women.', 4), ('Totally', 4), ('country.\"', 4), ('\"This', 4), ('West', 4), ('Obamas', 4), ('likes', 4), ('Town', 4), ('Hall', 4), ('begged', 4), ('each', 4), ('wild', 4), ('\"Despite', 4), ('lies.', 4), ('states', 4), ('check', 4), ('issue', 4), ('telling', 4), ('constant', 4), ('far,', 4), ('ObamaCare', 4), ('As', 4), ('tweeting', 4), ('VP', 4), ('starting', 4), ('ratings.', 4), ('admitted', 4), ('bad.', 4), ('morning,', 4), ('M', 4), ('citizen', 4), ('todays', 4), ('on-line', 4), ('poll,', 4), ('Time', 4), ('Drudge', 4), ('enjoyed', 4), ('Middle', 4), ('weekend', 4), ('team', 4), ('staff', 4), ('trade,', 4), ('sit', 4), ('victory', 4), ('NOW!', 4), ('Ohio,', 4), ('won۪t', 4), ('makes', 4), ('anti-Trump', 4), ('officers', 4), ('@jimmyfallon', 4), ('mass', 4), ('=', 4), ('wouldnt', 4), ('seriously', 4), ('writes', 4), ('Romney,', 4), ('hostile', 4), ('@NBC', 4), ('brilliant', 4), ('covered', 4), ('honored', 4), ('natural', 4), ('Senator,', 4), ('Mexico,', 4), ('wall', 4), ('crime,', 4), ('Wednesday', 4), ('family,', 4), ('loss', 4), ('southern', 4), ('Wonderful', 4), ('viciously', 4), ('\"What', 4), ('education', 4), ('within', 4), ('African-American', 4), ('short', 4), ('badly,', 4), ('Indiana.', 4), ('\"President', 4), ('Louisiana', 4), ('late!\"', 4), ('@JoeNBC', 4), ('nasty.', 4), ('bosses', 4), ('talented', 4), ('fund', 4), ('helped', 4), ('criticized', 4), ('ask', 4), ('Bernie.', 4), ('dollars,', 4), ('Iran.', 4), ('fantastic!', 4), ('manufacturing', 4), ('words,', 4), ('plan', 4), ('Syrian', 4), ('Radical', 4), ('anchor', 4), ('smart!\"', 4), ('Convention.', 4), ('Am', 4), ('Word', 4), ('David', 4), ('Much', 4), ('puppets', 4), ('speech.', 4), ('coverage', 4), ('unleashed', 4), ('feel', 4), ('danger', 4), ('\"No', 4), ('Highly', 4), ('bombed', 4), ('arent', 4), ('often', 4), ('welcome', 4), ('complete', 4), ('joke!\"', 4), ('Debbie', 4), ('Wasserman', 4), ('not,', 4), ('chance!\"', 4), ('e-mails,', 4), ('writing', 4), ('good,', 4), ('blown', 4), ('one,', 4), ('VERY', 4), ('fraud!\"', 4), ('wages', 4), ('havent', 4), ('heritage', 4), ('Senate.', 4), ('ratings!', 4), ('tonight!\"', 4), ('publicity', 4), ('\"Congratulations', 4), ('Melania.', 4), ('smart,', 4), ('@CNN,', 4), ('experience,', 4), ('Ginsburg', 4), ('Even', 4), ('apologize', 4), ('Party.', 4), ('others.', 4), ('Think', 4), ('wall.', 4), ('hour', 4), ('nation', 4), ('devastated', 4), ('day!', 4), ('country!', 4), ('re', 4), ('Chuck', 4), ('City', 4), ('Atlantic', 4), ('Center,', 4), ('watch,', 4), ('trouble', 4), ('deal.', 4), ('fool', 4), ('waiting', 4), ('Take', 4), ('$50', 4), ('funded', 4), ('Tremendous', 4), ('China,', 4), ('everything', 4), ('anymore.', 4), ('line', 4), ('lie!', 4), ('BREXIT', 4), ('ads.', 4), ('Eric,', 4), ('lead.', 4), ('back.', 4), ('Turnberry,', 4), ('Orlando', 4), ('NY', 4), ('allowing', 4), ('changed', 4), ('article', 4), ('bad,', 4), ('dog.', 4), ('skills', 4), ('record.', 4), ('Jose', 4), ('June', 4), ('anger', 4), ('credibility', 4), ('misrepresent', 4), ('38', 4), ('stupid', 4), ('veterans', 4), ('rate', 4), ('finished', 4), ('University', 4), ('Day', 4), ('WALL', 4), ('bigger', 4), ('Cant', 4), ('loser,', 4), ('lives', 4), ('dishonest!\"', 4), ('appreciated!', 4), ('couldnt', 4), ('disclosure', 4), ('6', 4), ('military', 4), ('else,', 4), ('constantly', 4), ('silent', 4), ('rid', 4), ('biased.', 4), ('women,', 4), ('ET.', 4), ('treats', 4), ('Barbara', 4), ('statements.', 4), ('False', 4), ('refuse', 4), ('nothing.', 4), ('more!\"', 4), ('@AP', 4), ('card', 4), ('@NewDay', 4), ('\"Remember', 4), ('Bush,', 4), ('womens', 4), ('\".@oreillyfactor', 4), ('wasting', 4), ('fun!\"', 4), ('ran', 4), ('job!', 4), ('mother', 4), ('there!\"', 4), ('leave', 4), ('victory.', 4), ('Lyin۪', 4), ('therefore', 4), ('family.', 4), ('expected.', 4), ('liberal', 4), ('OReilly', 4), ('\"Isnt', 4), ('business', 4), ('experts', 4), ('nuclear', 4), ('full', 4), ('agree', 4), ('rock!', 4), ('Try', 4), ('$1,000,000', 4), ('incorrect', 4), ('#s', 4), ('reporting.', 4), ('beaten', 4), ('Walker', 4), ('J.', 4), ('Paris', 4), ('focused', 4), ('Jebs', 4), ('Cruz.', 4), ('@megynkelly,', 4), ('@ThisWeekABC', 4), ('clown', 4), ('show!', 4), ('\"Word', 4), ('Common', 4), ('Mort', 4), ('S.C.', 4), ('\"Mitt', 4), ('blew', 4), ('hotel', 4), ('Remember,', 4), ('Dishonest', 4), ('folks', 4), ('Doral', 4), ('\"All', 4), ('Golf', 4), ('tomorrow!', 4), ('Kentucky', 4), ('loves', 4), ('true,', 4), ('settled', 4), ('move', 4), ('house', 4), ('Lightweight', 4), ('Harry', 4), ('Alabama', 4), ('choker,', 4), ('and,', 4), ('done.', 4), ('Carolina,', 4), ('Journal', 4), ('@SarahPalinUSA', 4), ('smart!', 4), ('referring', 4), ('dropping', 4), ('Roberts', 4), ('Time,', 4), ('Drudge,', 4), ('@NYDailyNews,', 4), ('experience', 4), ('\"Dopey', 4), ('in!', 4), ('\".@bobvanderplaats', 4), ('event.', 4), ('refused', 4), ('among', 4), ('@glennbeck', 4), ('Frank', 4), ('Karl', 4), ('he۪s', 4), ('giving', 4), ('15', 4), ('.@FrankLuntz', 4), ('winner!', 4), ('rated', 4), ('McQuaid', 4), ('3', 4), ('\"Im', 4), ('wise', 4), ('certainly', 4), ('lots', 4), ('\".@JebBush', 4), ('MUST', 4), ('\"So,', 4), ('Talking', 4), ('Poll.', 4), ('war', 4), ('.@JebBush', 4), ('Getting', 4), ('fun', 4), ('@TIME', 4), ('Des', 4), ('Moines', 4), ('Congrats', 4), ('ripping', 4), ('wide', 4), ('fast.', 4), ('legendary', 4), ('Office', 4), ('Old', 4), ('California', 4), ('future.', 4), ('@GOP', 4), ('treat', 4), ('dope', 4), ('tickets', 4), ('enjoy', 4), ('U.S.S.', 4), ('BUSH', 4), ('Fiorina', 4), ('@HuffingtonPost', 4), ('Beck', 4), ('York.', 3), ('media,', 3), ('Polls', 3), ('Missouri', 3), ('Obamacare', 3), ('Force', 3), ('REPEAL', 3), ('33,000', 3), ('AFTER', 3), ('Congress.', 3), ('run.', 3), ('repeal', 3), ('expensive', 3), ('\"You', 3), ('handling', 3), ('Facebook', 3), ('criminal', 3), ('investigation', 3), ('out:', 3), ('said,', 3), ('known', 3), ('views', 3), ('tape', 3), ('Syrians', 3), ('points.', 3), ('b/c', 3), ('lies,', 3), ('Leading', 3), ('fraud!', 3), ('imagine', 3), ('(or', 3), ('Of', 3), ('way,', 3), ('forget.', 3), ('County', 3), ('Ryan,', 3), ('vets', 3), ('polling', 3), ('places', 3), ('effort', 3), ('events', 3), ('anymore,', 3), ('drug', 3), ('Dem', 3), ('heading', 3), ('Beach,', 3), ('discredited', 3), ('30', 3), ('Sanders.', 3), ('exposed', 3), ('Sen.', 3), ('dropped', 3), ('loyal', 3), ('landslide', 3), ('negative.', 3), ('great\"', 3), ('this?', 3), ('warmest', 3), ('world.\"', 3), ('sound', 3), ('level', 3), ('lose', 3), ('suffers', 3), ('expect', 3), ('involved', 3), ('\"Every', 3), ('etc.,', 3), ('theyre', 3), ('e-mails.', 3), ('him!\"', 3), ('support!', 3), ('November', 3), ('Charlotte', 3), ('again,', 3), ('debate!\"', 3), ('weekend.', 3), ('sue', 3), ('watching.', 3), ('columnist', 3), ('hardly', 3), ('neurotic', 3), ('dope!\"', 3), ('Boring', 3), ('losers', 3), ('Amendment', 3), ('away.', 3), ('Secret', 3), ('Service', 3), ('informed', 3), ('thoughts', 3), ('Oklahoma', 3), ('Colorado.', 3), ('Hotel', 3), ('8pm.', 3), ('isnt', 3), ('place,', 3), ('47%', 3), ('supporters,', 3), ('all!\"', 3), ('ad.', 3), ('Phyllis', 3), ('havnt', 3), ('H', 3), ('fiction.', 3), ('broadcasting', 3), ('finance', 3), ('disastrous', 3), ('Nice!', 3), ('everybody', 3), ('FOR', 3), ('passed', 3), ('Putin', 3), ('fail', 3), ('committed', 3), ('lie', 3), ('WIN!\"', 3), ('@Morning_Joe.', 3), ('8pm', 3), ('trip', 3), ('stamina', 3), ('management', 3), ('or,', 3), ('stated', 3), ('\"Look', 3), ('WALL!', 3), ('subject', 3), ('solve', 3), ('unfairly', 3), ('poverty,', 3), ('safety', 3), ('Thoughts', 3), ('ago,', 3), ('quickly', 3), ('me-', 3), ('Ann', 3), ('day,', 3), ('mess!\"', 3), ('failure', 3), ('protecting', 3), ('reception.', 3), ('success.', 3), ('face', 3), ('protection', 3), ('say,', 3), ('meetings', 3), ('State.', 3), ('facts!', 3), ('meet', 3), ('emails.', 3), ('serious', 3), ('answering', 3), ('greater', 3), ('Crowd', 3), ('countries.', 3), ('worried', 3), ('Hillary?', 3), ('Thats', 3), ('unbelievable', 3), ('joke.', 3), ('then,', 3), ('viewers', 3), ('Pennsylvania.', 3), ('general', 3), ('200', 3), ('disaster!\"', 3), ('convention', 3), ('incredible.', 3), ('suffering', 3), ('driving', 3), ('whole', 3), ('2', 3), ('average', 3), ('\"Hillarys', 3), ('East', 3), ('middle', 3), ('TPP,', 3), ('taxes,', 3), ('vicious', 3), ('thinking', 3), ('hate', 3), ('idea', 3), ('(a', 3), ('facts', 3), ('record,', 3), ('disaster,', 3), ('exhausted,', 3), ('shut', 3), ('Sad', 3), ('watch.', 3), ('broken', 3), ('@FoxNews,', 3), ('Party,', 3), ('future!', 3), ('NOTHING', 3), ('voters.', 3), ('Schultz', 3), ('that,', 3), ('victory,', 3), ('out!\"', 3), ('strength,', 3), ('panels', 3), ('SAD!\"', 3), ('analysis', 3), ('\"Looks', 3), ('stands', 3), ('opposite!\"', 3), ('strong,', 3), ('impossible', 3), ('her,', 3), ('back!', 3), ('hates', 3), ('been,', 3), ('General', 3), ('\"Another', 3), ('God', 3), ('Cleveland.', 3), ('early', 3), ('speech!', 3), ('Cleveland', 3), ('picked', 3), ('state.', 3), ('FIRST!', 3), ('podium', 3), ('Again!\"', 3), ('clue.', 3), ('\".@FoxNews', 3), ('watch.\"', 3), ('picks', 3), ('made.', 3), ('led', 3), ('Senate,', 3), ('Without', 3), ('interests.', 3), ('Vice', 3), ('11:00', 3), ('Four', 3), ('Nice,', 3), ('concerning', 3), ('follow.', 3), ('helping', 3), ('time!\"', 3), ('\"To', 3), ('inner', 3), ('rapidly', 3), ('Chicago', 3), ('King', 3), ('Isnt', 3), ('country,', 3), ('decided', 3), ('schedule', 3), ('hits', 3), ('Todd,', 3), ('standing', 3), ('Others', 3), ('temperament', 3), ('10pm', 3), ('paying', 3), ('trail', 3), ('Obama,', 3), ('Iowa!', 3), ('Press', 3), ('star', 3), ('plain', 3), ('hostages', 3), ('20', 3), ('U.S.A.G.', 3), ('entire', 3), ('charges', 3), ('FOX', 3), ('Does', 3), ('judgement.', 3), ('loan', 3), ('up!', 3), ('seems', 3), ('sense', 3), ('CHANGE', 3), ('Turnberry.', 3), ('President!', 3), ('back!\"', 3), ('Scotland', 3), ('brave', 3), ('consulting', 3), ('beyond', 3), ('hedge', 3), ('safe.', 3), ('40%', 3), ('right.', 3), ('Committee', 3), ('First', 3), ('\"Amazing', 3), ('list,', 3), ('tied', 3), ('fairly', 3), ('treating', 3), ('ineffective.', 3), ('story.', 3), ('shooting', 3), ('Police', 3), ('racist!\"', 3), ('false,', 3), ('calls', 3), ('lucky', 3), ('missed', 3), ('tougher', 3), ('basis', 3), ('oil', 3), ('Clinton!', 3), ('won,', 3), ('U', 3), ('talent', 3), ('VETERANS', 3), ('so.', 3), ('Memorial', 3), ('16,500', 3), ('Border', 3), ('Patrol', 3), ('party.', 3), ('LOVE', 3), ('OUR', 3), ('Primary', 3), ('tonight,', 3), ('Run', 3), ('inside', 3), ('Total', 3), ('L.A.', 3), ('largest', 3), ('networks', 3), ('single', 3), ('abolish', 3), ('way!', 3), ('fast,', 3), ('Rowanne', 3), ('Lane', 3), ('flunky', 3), ('higher', 3), ('debating', 3), ('haters.', 3), ('named', 3), ('N.Y.', 3), ('job,', 3), ('Brewer,', 3), ('lie!\"', 3), ('plenty', 3), ('laughing', 3), ('that!\"', 3), ('audit', 3), ('stops', 3), ('truth', 3), ('sorry', 3), ('lower', 3), ('17', 3), ('@MariaBartiromo', 3), ('honor!\"', 3), ('Millions', 3), ('Sarah', 3), ('Let۪s', 3), ('records', 3), ('\"Joe', 3), ('work.', 3), ('reports', 3), ('category.', 3), ('forget!\"', 3), ('wacko', 3), ('Knight', 3), ('thanks', 3), ('Monday', 3), ('there!', 3), ('delegates.', 3), ('ballot', 3), ('commercials', 3), ('12:00', 3), ('path', 3), ('Paper', 3), ('Tuesday!', 3), ('advice', 3), ('Ted.', 3), ('O.K.', 3), ('purposely', 3), ('covers', 3), ('Based', 3), ('air', 3), ('crowds.', 3), ('@FoxNewsSunday', 3), ('misrepresents', 3), ('1st', 3), ('history,', 3), ('facing', 3), ('thrown', 3), ('NBC,', 3), ('manager', 3), ('debates,', 3), ('current', 3), ('self-funding.', 3), ('While', 3), ('caused', 3), ('Trump!\"', 3), ('Brussels', 3), ('did.', 3), ('PAC', 3), ('post', 3), ('Muslims', 3), ('careful,', 3), ('it۪s', 3), ('Mar-a-Lago', 3), ('spirit.', 3), ('consider', 3), ('Watching', 3), ('Has', 3), ('City,', 3), ('boycott', 3), ('worth', 3), ('Rubio,', 3), ('\"Going', 3), ('Also', 3), ('Ohio.', 3), ('Board', 3), ('Yesterday', 3), ('establishment', 3), ('Megyn', 3), ('him,', 3), ('\"Ohio', 3), ('Ford', 3), ('Remember', 3), ('race,', 3), ('careful', 3), ('enough', 3), ('HAS', 3), ('credibility!\"', 3), ('Championship', 3), ('@FaceTheNation', 3), ('case.', 3), ('choked!', 3), ('before!\"', 3), ('Interesting', 3), ('football', 3), ('Koch', 3), ('company,', 3), ('After', 3), ('\"Lightweight', 3), ('Center', 3), ('guy,', 3), ('@MittRomney', 3), ('discussing', 3), ('begins', 3), ('heart', 3), ('TO', 3), ('AT', 3), ('supported', 3), ('supporting', 3), ('Nevada!\"', 3), ('Bible', 3), ('disloyal', 3), ('citizens.', 3), ('falsely', 3), ('expected', 3), ('Atlanta', 3), ('held', 3), ('Apple', 3), ('info', 3), ('health', 3), ('\"Watch', 3), ('@kayleighmcenany', 3), ('JEB', 3), ('clue', 3), ('Trade', 3), ('\"Loved', 3), ('lot,', 3), ('+', 3), ('Miss', 3), ('Universe', 3), ('Morty', 3), ('@NYDailyNews', 3), ('loses', 3), ('per', 3), ('5,000', 3), ('himself.', 3), ('@TedCruz', 3), ('$1M', 3), ('ads.\"', 3), ('Zuckerman,', 3), ('worthless', 3), ('loser!', 3), ('Hampshire,', 3), ('certificate', 3), ('church', 3), ('$6,000,000', 3), ('network', 3), ('hell', 3), ('\"Iowa', 3), ('@bobvanderplaats', 3), ('guy!\"', 3), ('@wolfblitzer', 3), ('\"Its', 3), ('Dumb', 3), ('Sioux', 3), ('Truly', 3), ('Canadian', 3), ('Enjoy', 3), ('begging', 3), ('loans', 3), ('polls!', 3), ('@FoxNews\"', 3), ('way.', 3), ('circulation', 3), ('Vegas', 3), ('1:00', 3), ('Rove,', 3), ('billion', 3), ('received', 3), ('politics!\"', 3), ('apology', 3), ('turnout', 3), ('Burlington,', 3), ('terrible.', 3), ('Germany', 3), ('I۪ve', 3), ('video', 3), ('Mississippi', 3), ('issues', 3), ('building', 3), ('together!', 3), ('NEW', 3), ('@RichLowry', 3), ('hosting', 3), ('(@deucecrew)', 3), ('much.\"', 3), ('double', 3), ('FAST!', 3), ('television.', 3), ('progress', 3), ('2%', 3), ('fell', 3), ('President.', 3), ('14', 3), ('20%', 3), ('fall', 3), ('winning!', 3), ('Consult', 3), ('editorial', 3), ('dumber', 3), ('talent!', 3), ('U.S.\"', 3), ('Daily', 3), ('soundly', 3), ('hopefully', 3), ('ON', 3), ('saved', 3), ('son', 3), ('Penn', 3), ('3rd', 3), ('credibility.', 3), ('Sarasota,', 3), ('Boston', 3), ('about!\"', 3), ('Unbelievable', 3), ('majority', 3), ('.@AP', 3), ('noon', 3), ('Best', 3), ('Eight', 3), ('incapable', 3), ('person.', 3), ('listening', 3), ('@Macys', 3), ('Brady', 3), ('.@CarlyFiorina', 3), ('cutting', 3), ('27%', 3), ('many,', 3), ('#1.', 3), ('wanting', 3), ('Coach', 3), ('young', 3), ('Medicare', 3), ('Loved', 3), ('manage', 3), ('6:00', 3), ('@pennjillette', 3), ('request', 3), ('guys', 3), ('@RedState', 3), ('somebody', 3), ('success', 3), ('@nbc', 3), ('@RandPaul', 3), ('.@GovernorPerry', 3), ('Airlines', 3), ('Fair.', 3), ('@krauthammer', 3), ('British', 3), ('Open', 3), ('@ariannahuff', 3), ('government!', 2), ('passion', 2), ('proud!', 2), ('protesters,', 2), ('lot!\"', 2), ('forgotten', 2), ('up,', 2), ('FROM', 2), ('GO', 2), ('friends.', 2), ('Navy', 2), ('elect', 2), ('off!\"', 2), ('creating', 2), ('Doesnt', 2), ('work,', 2), ('REPLACE!\"', 2), ('crowds!', 2), ('Carolina.\"', 2), ('Praying', 2), ('Rigged', 2), ('ObamaCare.', 2), ('MUCH', 2), ('costs', 2), ('six', 2), ('man.', 2), ('seat', 2), ('news!\"', 2), ('45.', 2), ('judgement!', 2), ('Twitter,', 2), ('Director', 2), ('Texas.', 2), ('happy.', 2), ('lines.', 2), ('possible.', 2), ('dumb.', 2), ('Taken', 2), ('release.', 2), ('president!\"', 2), ('happens!', 2), ('secretly', 2), ('them!', 2), ('bill', 2), ('Anderson', 2), ('Cooper', 2), ('made-up', 2), ('word.', 2), ('deny', 2), ('\"Cant', 2), ('impact!\"', 2), ('IN', 2), ('Proud', 2), ('all!', 2), ('representing', 2), ('News/Washington', 2), ('ago),', 2), ('machine', 2), ('THAT', 2), ('rigging', 2), ('election!\"', 2), ('Watched', 2), ('whatever', 2), ('sources', 2), ('jail.', 2), ('Instead', 2), ('charges,', 2), ('minds', 2), ('FIX!\"', 2), ('Ive', 2), ('years-', 2), ('disaster!', 2), ('Cincinnati', 2), ('Palm', 2), ('in!\"', 2), ('TOTAL', 2), ('Cuba', 2), ('long.', 2), ('towards', 2), ('freedoms', 2), ('information', 2), ('WikiLeaks.', 2), ('system!', 2), ('them?', 2), ('advance', 2), ('Florida!\"', 2), ('foul', 2), ('room', 2), ('difficult', 2), ('cheating', 2), ('Republicans!', 2), ('to.', 2), ('support!\"', 2), ('situation', 2), ('24', 2), ('MN', 2), ('IA', 2), ('VOTE!\"', 2), ('\"Bill', 2), ('big!', 2), ('big.', 2), ('Sorry', 2), ('inform', 2), ('audience.', 2), ('Better', 2), ('live-tweeting', 2), ('panel', 2), ('joke,', 2), ('saying,', 2), ('@Mike_Pence', 2), ('preparing', 2), ('here', 2), ('States,', 2), ('tens', 2), ('Hillary.\"', 2), ('so-called', 2), ('Commission', 2), ('it?', 2), ('papers', 2), ('Did', 2), ('Alicia', 2), ('Using', 2), ('JUDGEMENT!', 2), ('NJ', 2), ('deepest', 2), ('reporting!\"', 2), ('change.', 2), ('nights', 2), ('Debate', 2), ('hasnt', 2), ('Thanks,', 2), ('debt', 2), ('died', 2), ('Benjamin', 2), ('nomination', 2), ('dumb!\"', 2), ('\"Hopefully', 2), ('violence', 2), ('end.', 2), ('To', 2), ('unity', 2), ('rallies.', 2), ('copying', 2), ('beginning.', 2), ('doing,', 2), ('country!\"', 2), ('7:02', 2), ('\"Terrible', 2), ('victims,', 2), ('Americans!', 2), ('victories', 2), ('wishes', 2), ('Gates.', 2), ('speaks', 2), ('bosses,', 2), ('interviews', 2), ('thats', 2), ('life!\"', 2), ('rights', 2), ('heavily', 2), ('armed', 2), ('Maybe', 2), ('brand', 2), ('joining', 2), ('@FallonTonight', 2), ('fan', 2), ('understanding', 2), ('weapons', 2), ('destruction', 2), ('better!', 2), ('Crimea', 2), ('\"Really', 2), ('Graham,', 2), ('cost', 2), ('funeral', 2), ('Pensacola,', 2), ('seen', 2), ('style.', 2), ('no),', 2), ('basket', 2), ('feels', 2), ('Jeff', 2), ('unwatchable.', 2), ('disgrace', 2), ('joke!', 2), ('hurt', 2), ('emails', 2), ('veteran', 2), ('Shes', 2), ('decimated', 2), ('media!', 2), ('veterans.', 2), ('up?\"', 2), ('late,', 2), ('Schlafly,', 2), ('TRUMP.\"', 2), ('Syria', 2), ('bed', 2), ('hammer', 2), ('Arizona,', 2), ('leaders,', 2), ('immigration.\"', 2), ('Crookeds', 2), ('light', 2), ('Detroit', 2), ('outside.', 2), ('Inside', 2), ('crowd!\"', 2), ('mental', 2), ('mess!', 2), ('review', 2), ('quality', 2), ('drive', 2), ('\"Does', 2), ('hard,', 2), ('pass', 2), ('levels.', 2), ('on!', 2), ('Arizona.', 2), ('medical', 2), ('\"Today', 2), ('attend', 2), ('Dwyane', 2), ('baby', 2), ('TRUMP!', 2), ('children', 2), ('@MSNBC', 2), ('Hispanics', 2), ('Hispanic', 2), ('ACTION!', 2), ('jump', 2), ('affected', 2), ('powerful', 2), ('everyone,', 2), ('fact,', 2), ('fundraiser', 2), ('Special', 2), ('BORDER', 2), ('crime!', 2), ('@WashingtonPost', 2), ('copies', 2), ('stories.', 2), ('Eastern.', 2), ('down,', 2), ('long-time', 2), ('Two', 2), ('wall,', 2), ('misleading', 2), ('Street.', 2), ('her!', 2), ('drawing', 2), ('enthusiastic', 2), ('happening!\"', 2), ('enthusiasm!\"', 2), ('newspaper.\"', 2), ('calling', 2), ('proper', 2), ('government', 2), ('process.', 2), ('politician.', 2), ('message', 2), ('enthusiasm.', 2), ('keeps', 2), ('Pres.', 2), ('hosted', 2), ('(pundits)', 2), ('figure', 2), ('agenda.', 2), ('saving', 2), ('defending', 2), ('rock', 2), ('citizens', 2), ('Being', 2), ('home!', 2), ('Iranians', 2), ('\"Michael', 2), ('Baltimore', 2), ('Let', 2), ('$400', 2), ('cash', 2), ('judgment', 2), ('rise', 2), ('State,', 2), ('before.', 2), ('Virginia.', 2), ('moved', 2), ('\"Thanks', 2), ('refugees', 2), ('550%', 2), ('regimes', 2), ('Islam.', 2), ('something!', 2), ('fundraisers', 2), ('completely', 2), ('touch', 2), ('rising', 2), ('schools', 2), ('jobs.\"', 2), ('Khan,', 2), ('MILLION.', 2), ('CLINTON', 2), ('agrees', 2), ('PAY', 2), ('Pennsylvania,', 2), ('Bill,', 2), ('Perhaps', 2), ('unemployment', 2), ('ties', 2), ('usual,', 2), ('rig', 2), ('Same', 2), ('speak.', 2), ('hearing', 2), ('mentioned', 2), ('22', 2), ('Diego,', 2), ('dead.', 2), ('LAW', 2), ('SAD!', 2), ('vision', 2), ('power,', 2), ('reform', 2), ('Islam', 2), ('Islam,', 2), ('proof', 2), ('office.', 2), ('further', 2), ('influx', 2), ('living', 2), ('illegally', 2), ('flag', 2), ('immigrants', 2), ('about.', 2), ('massive.', 2), ('NO!', 2), ('approve', 2), ('arena.', 2), ('neither', 2), ('straight', 2), ('stupidity', 2), ('interventions', 2), ('plans', 2), ('liar!', 2), ('Pocahontas', 2), ('abandon', 2), ('Cory', 2), ('pictures', 2), ('workers.\"', 2), ('Street,', 2), ('backed', 2), ('Sanders,', 2), ('done,', 2), ('scandal', 2), ('happened!', 2), ('JUDGEMENT', 2), ('joke', 2), ('me\"', 2), ('Americas', 2), ('speech,', 2), ('E-mails', 2), ('well!', 2), ('boss', 2), ('proves', 2), ('@Reince', 2), ('Priebus', 2), ('weak.', 2), ('Thursday', 2), ('From', 2), ('heart!', 2), ('together.', 2), ('enemies', 2), ('approved.', 2), ('Funny', 2), ('Mock', 2), ('her!\"', 2), ('banks.', 2), ('nothing!\"', 2), ('for.', 2), ('recommend', 2), ('OF', 2), ('hundreds', 2), ('Bob', 2), ('\"One', 2), ('suffered', 2), ('arena!\"', 2), ('Presidency,', 2), ('children,', 2), ('Eric', 2), ('Tiffany', 2), ('hours', 2), ('@ScottWalker', 2), ('Melanias', 2), ('November,', 2), ('explaining', 2), ('excitement', 2), ('Nominee', 2), ('speaker', 2), ('MAJORITY', 2), ('speakers', 2), ('Place', 2), ('worse!\"', 2), ('subjects!', 2), ('control.', 2), ('blow', 2), ('close.', 2), ('Network', 2), ('better,', 2), ('stacked', 2), ('judgement!\"', 2), ('productive', 2), ('prove', 2), ('fraud.', 2), ('con', 2), ('Jack', 2), ('\"Very', 2), ('mistakes,', 2), ('money!\"', 2), ('whats', 2), ('start!', 2), ('City.', 2), ('pleased', 2), ('mate.', 2), ('weakness', 2), ('Administration', 2), ('tragedy', 2), ('France.', 2), ('horrific', 2), ('injured.', 2), ('employ', 2), ('JOBS,', 2), ('JOBS!', 2), ('@NYTimes', 2), ('mistake', 2), ('platform', 2), ('includes', 2), ('language', 2), ('global', 2), ('interests,', 2), ('Sachs.', 2), ('fans', 2), ('angry!\"', 2), ('cities', 2), ('behind.', 2), ('deliver', 2), ('cities.', 2), ('good!\"', 2), ('\"Thoughts', 2), ('St.', 2), ('turn', 2), ('WEAK', 2), ('postpone', 2), ('officially', 2), ('Had', 2), ('seven', 2), ('eyes', 2), ('ovation', 2), ('Ask', 2), ('Council', 2), ('strong.', 2), ('Lots', 2), ('@EricTrump', 2), ('traveling', 2), ('rigged.', 2), ('unfair!', 2), ('judgment.\"', 2), ('@joniernst', 2), ('disgrace!', 2), ('flying', 2), ('interested', 2), ('\"Senator', 2), ('Meet', 2), ('Despite', 2), ('\"Dishonest', 2), ('absolute', 2), ('tweet', 2), ('forever.', 2), ('change!', 2), ('ISIS.', 2), ('terrorists', 2), ('rigged!\"', 2), ('local', 2), ('reporter.', 2), ('accept', 2), ('reasons', 2), ('better.\"', 2), ('Massachusetts', 2), ('special!', 2), ('upset', 2), ('stronger', 2), ('advantage', 2), ('was.', 2), ('outside', 2), ('Clinton۪s', 2), ('catastrophic', 2), ('Brexit', 2), ('markets', 2), ('question', 2), ('fortune,', 2), ('polls!\"', 2), ('\"People', 2), ('Disgraceful!', 2), ('Will,', 2), ('blocked', 2), ('action!\"', 2), ('w/a', 2), ('history.\"', 2), ('magnificent', 2), ('vote.\"', 2), ('vote.', 2), ('back,', 2), ('games!\"', 2), ('\"Obama', 2), ('kept', 2), ('defrauded', 2), ('personal', 2), ('deficit', 2), ('fantastic.', 2), ('club,', 2), ('additional', 2), ('pressure', 2), ('years!', 2), ('follow', 2), ('directly', 2), ('vigilant.', 2), ('extraordinary', 2), ('nations', 2), ('2:30', 2), ('congrats', 2), ('terrorism,', 2), ('incident', 2), ('terrorism.', 2), ('pretended', 2), ('\"Sad', 2), ('King,', 2), ('racist', 2), ('Faith', 2), ('Freedom', 2), ('track', 2), ('MSM', 2), ('act', 2), ('closed', 2), ('9pm', 2), ('innocent', 2), ('peaceful', 2), ('burned', 2), ('be,', 2), ('attending', 2), ('fact.', 2), ('audience,', 2), ('Ireland,', 2), ('resort', 2), ('@TrumpTurnberry', 2), ('visiting', 2), ('celebrate', 2), ('worlds', 2), ('Blue', 2), ('Ryan.', 2), ('presidential!', 2), ('litigation', 2), ('instructed', 2), ('judge', 2), ('civil', 2), ('losses.', 2), ('president?\"', 2), ('qualified', 2), ('risk', 2), ('$5,600,000', 2), ('belittle', 2), ('Speaking', 2), ('days.', 2), ('reporter,', 2), ('wherein', 2), ('amount', 2), ('File', 2), ('Gonzalo', 2), ('Trump\"', 2), ('primaries', 2), ('Broke', 2), ('Agents', 2), ('candidate.', 2), ('(fence)', 2), ('W.H.', 2), ('Kristol', 2), ('actually', 2), ('spoiler', 2), ('candidate!', 2), ('do.', 2), ('spirit!', 2), ('men', 2), ('results!', 2), ('broke', 2), ('go!', 2), ('countries', 2), ('borders.', 2), ('nice,', 2), ('disrupt', 2), ('attended', 2), ('Greatly', 2), ('ENJOY!\"', 2), ('holding', 2), ('onto', 2), ('Important', 2), ('Honored', 2), ('behalf', 2), ('Mexican', 2), ('outside,', 2), ('knock', 2), ('16', 2), ('practically', 2), ('\"@elizabethforma', 2), ('Vets,', 2), ('formed', 2), ('JUST', 2), ('importantly,', 2), ('vets,', 2), ('\"Much', 2), ('shortly', 2), ('wait', 2), ('times.', 2), ('believes', 2), ('this.', 2), ('America!', 2), ('cares', 2), ('@BillKristol', 2), ('Would', 2), ('reckless', 2), ('team.', 2), ('bodyguards', 2), ('fully', 2), ('apart,', 2), ('amounts', 2), ('person!', 2), ('gun', 2), ('easy!\"', 2), ('wild.', 2), ('Brewer', 2), ('attack.', 2), ('potential', 2), ('winner', 2), ('KY', 2), ('knowingly', 2), ('STATE', 2), ('percentage', 2), ('Barbaro,', 2), ('tweeted', 2), ('minutes.', 2), ('charge', 2), ('30,000', 2), ('Res', 2), ('construction', 2), ('unheard', 2), ('of,', 2), ('prominently', 2), ('depicted', 2), ('lied\"', 2), ('is!', 2), ('Dems.', 2), ('names', 2), ('delivered', 2), ('carbon', 2), ('7:10', 2), ('clue.\"', 2), ('Isn۪t', 2), ('funny', 2), ('Federal', 2), ('couldn۪t', 2), ('lose!\"', 2), ('guts', 2), ('effective', 2), ('wins', 2), ('Nebraska.', 2), ('Nebraska', 2), ('vote!', 2), ('Leadership', 2), ('DC.', 2), ('push', 2), ('taxes.', 2), ('\"Get', 2), ('lowering', 2), ('negotiated', 2), ('proposal', 2), ('compete', 2), ('currently', 2), ('opposed', 2), ('Bad!\"', 2), ('deal,', 2), ('@Teamsters', 2), ('action', 2), ('Twitter', 2), ('easy!', 2), ('immigrant,', 2), ('crashed,', 2), ('power', 2), ('voters!\"', 2), ('\"Unlike', 2), ('America.', 2), ('terribly', 2), ('Democratsboth', 2), ('otherwise.', 2), ('@BretBaier', 2), ('Bernie!', 2), ('had.', 2), ('correct,', 2), ('Indiana,', 2), ('consistently', 2), ('money\"', 2), ('sorts', 2), ('rally!', 2), ('great,', 2), ('flags', 2), ('waving', 2), ('\"Gov', 2), ('stance', 2), ('\".@KarlRove', 2), ('LyinTed', 2), ('me)', 2), ('numerous', 2), ('mathematically', 2), ('commentary', 2), ('fast!\"', 2), ('1237.', 2), ('steel', 2), ('York,', 2), ('COUNTRY!', 2), ('September', 2), ('Yorkers', 2), ('favorite', 2), ('DID', 2), ('politicians.', 2), ('politics.', 2), ('inaccurately.', 2), ('defense', 2), ('more!', 2), ('9:00.', 2), ('shame', 2), ('evening.', 2), ('Bethpage,', 2), ('Long', 2), ('Pure', 2), ('Wisconsin,', 2), ('Monday.', 2), ('win,', 2), ('deals!\"', 2), ('stopped', 2), ('covering', 2), ('h', 2), ('@AC360', 2), ('long,', 2), ('happen!\"', 2), ('dog!', 2), ('charged', 2), ('vs', 2), ('RNC.\"', 2), ('shows.', 2), ('ASAP.', 2), ('STRONG', 2), ('Ted,', 2), ('big,', 2), ('debates\"', 2), ('NATO', 2), ('7:30.', 2), ('honest?', 2), ('Christian', 2), ('children.', 2), ('alone', 2), ('all,', 2), ('obsolete', 2), ('sleepy', 2), ('correct.', 2), ('voters,', 2), ('others!\"', 2), ('everywhere', 2), ('Illegals', 2), ('convince', 2), ('story!', 2), ('Ted!\"', 2), ('lawsuit', 2), ('certain', 2), ('TOLD', 2), ('YOU', 2), ('SO!', 2), ('\"Explain', 2), ('Walters', 2), ('time\"', 2), ('TIME', 2), ('FAST!\"', 2), ('right,', 2), ('oil,', 2), ('develop', 2), ('TALK', 2), ('@LindseyGrahamSC', 2), ('N.A.T.O.', 2), ('historic', 2), ('Could', 2), ('fraction', 2), ('terror.', 2), ('blame', 2), ('lines', 2), ('G.Q.', 2), ('photo', 2), ('Ted!', 2), ('anticipated', 2), ('shoot', 2), ('forming', 2), ('sounds', 2), ('Cuba,', 2), ('different', 2), ('vigilant', 2), ('hours,', 2), ('supporters!\"', 2), ('tank.', 2), ('@nytdavidbrooks', 2), ('Times,', 2), ('Salt', 2), ('Lake', 2), ('Utah-', 2), ('Cruzs', 2), ('Vets!', 2), ('\"Everybody', 2), ('lost!', 2), ('\"Failed', 2), ('Candidate', 2), ('extort', 2), ('establishment,', 2), ('opposition', 2), ('politicians!', 2), ('life!', 2), ('complaining', 2), ('Tuesday', 2), ('\"Please', 2), ('them!\"', 2), ('math.', 2), ('lyin', 2), ('\"Stuart', 2), ('pm', 2), ('Rick', 2), ('Glad', 2), ('daughter', 2), ('winner!\"', 2), ('over!\"', 2), ('complaints', 2), ('false.', 2), ('\"Watching', 2), ('down.\"', 2), ('300,000', 2), ('IF', 2), ('remember,', 2), ('lobbyists!\"', 2), ('ObamaCare,', 2), ('\"Rubio', 2), ('Because', 2), ('recovered.', 2), ('events.', 2), ('Phony', 2), ('Florida-', 2), ('minions', 2), ('budget', 2), ('NAFTA', 2), ('\"Rumor', 2), ('news!', 2), ('Likewise,', 2), ('reporting.\"', 2), ('\"Phony', 2), ('shake', 2), ('Michigan', 2), ('quit!', 2), ('me?', 2), ('HE', 2), ('\"Cruz', 2), ('Michigan.', 2), ('R', 2), ('Adam', 2), ('Florida\"', 2), ('ads!\"', 2), ('run,', 2), ('Cadillac', 2), ('Rory', 2), ('woman.', 2), ('closing', 2), ('8:30.', 2), ('loser.', 2), ('@TrumpDoral', 2), ('Kansas', 2), ('re:', 2), ('caucus.', 2), ('COUNTRY', 2), ('funding', 2), ('friend,', 2), ('Guy', 2), ('helicopter', 2), ('98%', 2), ('approval', 2), ('rating', 2), ('Establishment', 2), ('movement!\"', 2), ('Looks', 2), ('elected.', 2), ('puppet', 2), ('\"Because', 2), ('Barrack', 2), ('Failed', 2), ('(1/2)', 2), ('\"Marco', 2), ('$25', 2), ('Georgia.', 2), ('sports', 2), ('sons,', 2), ('missing', 2), ('humiliated', 2), ('Making', 2), ('join', 2), ('Repubs', 2), ('built', 2), ('says.', 2), ('Cruz!', 2), ('Meltdown.\"', 2), ('choker', 2), ('material!', 2), ('Fort', 2), ('early!', 2), ('made!', 2), ('agreeing', 2), ('filed', 2), ('Dope!\"', 2), ('@CNN\"', 2), ('field', 2), ('around,', 2), ('46%.', 2), ('@KarlRove.', 2), ('Rove', 2), ('Interviewed', 2), ('$1', 2), ('dollars.', 2), ('happen,', 2), ('didnt!\"', 2), ('points,', 2), ('director', 2), ('amnesty', 2), ('illegals', 2), ('administration', 2), ('fat', 2), ('@brithume', 2), ('disqualified', 2), ('tricks.', 2), ('Evangelical', 2), ('mocked', 2), ('fire', 2), ('(by', 2), ('was,', 2), ('pollster', 2), ('biased!', 2), ('Scalia', 2), ('cellphone', 2), ('authorities', 2), ('security.', 2), ('companies', 2), ('private', 2), (',', 2), ('evening.\"', 2), ('late.', 2), ('1%', 2), ('negative!', 2), ('on?\"', 2), ('knowledge', 2), ('PPP', 2), ('results,', 2), ('Spent', 2), ('same.', 2), ('criticizing', 2), ('game', 2), ('War', 2), ('BIG,', 2), ('Tickets', 2), ('on.', 2), ('Dopey', 2), ('Wow!', 2), ('accurate', 2), ('RNC,', 2), ('(not', 2), ('Zuckerman', 2), ('clean', 2), ('act,', 2), ('$120', 2), ('\".@MarkHalperin', 2), ('5,', 2), ('1st.', 2), ('difference', 2), ('common', 2), ('\"Like', 2), ('showing', 2), ('play', 2), ('disabilities', 2), ('super', 2), ('bottom', 2), ('Bowl', 2), ('mommy', 2), ('hostile.', 2), ('recent', 2), ('Caucus,', 2), ('Voter', 2), ('voters.\"', 2), ('treatment', 2), ('finish', 2), ('Came', 2), ('Nice', 2), ('BACK', 2), ('lies!\"', 2), ('bank', 2), ('borrowing', 2), ('@foxandfriends\"', 2), ('$100,000', 2), ('stuck', 2), ('Senator.', 2), ('night۪s', 2), ('vets.', 2), ('@krauthammer,', 2), ('PR', 2), ('(Eastern).', 2), ('reporter!\"', 2), ('Liberty', 2), ('religious', 2), ('fast', 2), ('rock.', 2), ('nervous', 2), ('@CNNSitRoom', 2), ('5-7pm', 2), ('hours.', 2), ('crying', 2), ('@GlennBeck', 2), ('Iowa.\"', 2), ('.@williebosshog', 2), ('conflict', 2), ('bias', 2), ('moderator', 2), ('County,', 2), ('Dr.', 2), ('recently,', 2), ('again!\"', 2), ('irrelevant', 2), ('@NRO', 2), ('roads,', 2), ('w', 2), ('influence', 2), ('@Greta', 2), ('Bushy', 2), ('dummy,', 2), ('reporting!', 2), ('evangelicals', 2), ('words!', 2), ('problem.', 2), ('\"Iran', 2), ('$150', 2), ('form', 2), ('gay', 2), ('\"Oh', 2), ('no,', 2), ('disgrace.', 2), ('smart.', 2), ('league', 2), ('2008,', 2), ('Bush.', 2), ('Russian', 2), ('NOW!\"', 2), ('@tedcruz', 2), ('Iowa!\"', 2), ('.@stuartpstevens', 2), ('WOW!', 2), ('\".@megynkelly', 2), ('recently', 2), ('throw', 2), ('sending', 2), ('comment', 2), ('unethical', 2), ('Reno,', 2), ('yet.', 2), ('@ChuckTodd', 2), ('wild.\"', 2), ('formerly', 2), ('$10', 2), ('Vermont.', 2), ('ratings,', 2), ('response.', 2), ('advertising!', 2), ('VT', 2), ('system.', 2), ('Arrive', 2), ('18', 2), ('year,', 2), ('N.H.', 2), ('Organization', 2), ('enter', 2), ('Lowell,', 2), ('Massachusetts,', 2), ('would۪ve', 2), ('IT!\"', 2), ('must.', 2), ('video.', 2), ('embarrassment', 2), ('ring', 2), ('Year', 2), ('BAD!\"', 2), ('Record', 2), ('@foxnews', 2), ('Id', 2), ('.@CharlesHurt', 2), ('served', 2), ('debate!', 2), ('2008.', 2), ('unleash', 2), ('husband,', 2), ('wrong!\"', 2), ('straighten', 2), ('high.', 2), ('flunkies', 2), ('@secupp,', 2), ('won.', 2), ('Quinnipiac', 2), ('smaller', 2), ('leads', 2), ('PRESIDENT', 2), ('lobbyists,', 2), ('debate?\"', 2), ('thoughts.', 2), ('incompetence', 2), ('DEBATE', 2), ('purposes', 2), ('price.', 2), ('confidence.', 2), ('point.', 2), ('work!\"', 2), ('27', 2), ('works', 2), ('interesting!\"', 2), ('(PPP)', 2), ('fair!\"', 2), ('Monmouth', 2), ('\".@megynkelly,', 2), ('33%', 2), ('phenomenal', 2), ('rejected', 2), ('Hes', 2), ('money!', 2), ('lead!', 2), ('Register', 2), ('means', 2), ('lot.', 2), ('.@MonicaCrowley', 2), ('Ridge', 2), ('apart', 2), ('fixed', 2), ('\".@Morning_Joe', 2), ('Got', 2), ('appreciated', 2), ('Dummy', 2), ('later', 2), ('driven', 2), ('ruining', 2), ('STRENGTH', 2), ('trouble!', 2), ('@BarbaraJWalters', 2), ('6:30', 2), ('results.', 2), ('hatred', 2), ('.@washingtonpost', 2), ('@JeffBezos', 2), ('keeping', 2), ('Ledger', 2), ('tweets.', 2), ('7:50', 2), ('@GeorgeWill', 2), ('Wallace.', 2), ('phone', 2), ('Rubio?', 2), ('@Politico', 2), ('Manassas,', 2), ('DC', 2), ('candidate,', 2), ('greatest', 2), ('POLICE', 2), ('shootings.', 2), ('moment', 2), ('untalented', 2), ('Wash', 2), ('IQ', 2), ('Georgia', 2), ('concerned', 2), ('up!\"', 2), ('happy!\"', 2), ('12,000', 2), ('mention.', 2), ('right!', 2), ('predictions', 2), ('Kayleigh', 2), ('Thanksgiving', 2), ('dopes', 2), ('expected!', 2), ('evening,', 2), ('.@WSJ', 2), ('wouldn۪t', 2), ('words.\"', 2), ('NEED', 2), ('@AP.', 2), ('garbage.', 2), ('Family', 2), ('Pataki,', 2), ('beat!\"', 2), ('Alabama,', 2), ('Jindal', 2), ('register', 2), ('bet!', 2), ('suggest', 2), ('youth', 2), ('managing', 2), ('Lehman', 2), ('Brothers', 2), ('lives.', 2), ('realized', 2), ('Obama۪s', 2), ('trap', 2), ('Pathetic!\"', 2), ('miss', 2), ('@GeorgeWill,', 2), ('pundit', 2), ('pouring', 2), ('everywhere.', 2), ('copy', 2), ('landing', 2), ('attacking', 2), ('poorly.', 2), ('ever!', 2), ('Crippled', 2), ('Carly,', 2), ('\".@CarlyFiorina', 2), ('pathological', 2), ('in.\"', 2), ('place!', 2), ('Carson,', 2), ('.@KarlRove', 2), ('$430', 2), ('DONT', 2), ('HAVE', 2), ('T.P.P.', 2), ('door', 2), ('job.\"', 2), ('CRIPPLED', 2), ('respond', 2), ('Speech', 2), ('@nbcsnl', 2), ('Jake', 2), ('Tapper', 2), ('hardest', 2), ('Stirewalt', 2), ('Wrong', 2), ('Probably', 2), ('magazine', 2), ('Keystone', 2), ('Birthday', 2), ('things,', 2), ('Carl', 2), ('@CNBC.', 2), ('Sirius', 2), ('Steve', 2), ('Bannon.', 2), ('Gang', 2), ('member', 2), ('question!', 2), ('Lives', 2), ('RUSSIA', 2), ('Medicaid,', 2), ('@oreillyfactor,', 2), ('PACs', 2), ('disavowed', 2), ('Youre', 2), ('released.', 2), ('\".@CNBC', 2), ('Biden', 2), ('itself', 2), ('truth.', 2), ('results?', 2), ('8%', 2), ('also,', 2), ('@jaketapper.', 2), ('\"Ben', 2), ('salaries,', 2), ('millions.', 2), ('Jacksonville', 2), ('Tomorrow', 2), ('9', 2), ('Scotland,', 2), ('Bandon', 2), ('2:00', 2), ('hand', 2), ('fast!', 2), ('.@MittRomney', 2), ('(depending', 2), ('Again', 2), ('NATIONAL', 2), ('Slate', 2), ('terms', 2), ('benefit', 2), ('Steven', 2), ('ten', 2), ('place!\"', 2), ('OAN', 2), ('black', 2), ('S.', 2), ('\"Should', 2), ('\"Great,', 2), ('agree!\"', 2), ('thing,', 2), ('10:30am', 2), ('7:20.', 2), ('.@EWErickson', 2), ('\".@politico', 2), ('@club4growth', 2), ('AGAIN,', 2), ('margins', 2), ('action,', 2), ('prisoners', 2), ('stopping', 2), ('Sunday.', 2), ('inspecting', 2), ('TV.', 2), ('fine', 2), ('29%.', 2), ('Carly', 2), ('controversial', 2), ('something.', 2), ('LA', 2), ('lobbyist', 2), ('Apprentice.', 2), ('elected', 2), ('purchased', 2), ('Capitol', 2), ('@scottienhughes', 2), ('giant', 2), ('minutes', 2), ('Public', 2), ('Policy', 2), ('Polling', 2), ('Anthony', 2), ('Tennessee.', 2), ('fabulous', 2), ('house.', 2), ('babies', 2), ('Asia', 2), ('securing', 2), ('stop.', 2), ('terrific.', 2), ('immigrant', 2), ('surprised,', 2), ('youre', 2), ('interest.', 2), ('Womens', 2), ('lawyer', 2), ('...', 2), ('Lawyer', 2), ('fees.', 2), ('Ronald', 2), ('Reagan\"', 2), ('\".@ScottWalker', 2), ('profiling', 2), ('immigration!', 2), ('MILITARY', 2), ('LIVES', 2), ('MATTER!', 2), ('care.', 2), ('chance.', 2), ('Busy', 1), ('incited', 1), ('protesting.', 1), ('unfair!\"', 1), ('Met', 1), ('meeting,', 1), ('chemistry.', 1), ('Mrs.', 1), ('FAR', 1), ('OVER!', 1), ('left.', 1), ('FLORIDA!\"', 1), ('Manhattan', 1), ('TODAY', 1), ('Hey', 1), ('lets', 1), ('@koster4missouri!', 1), ('Koster', 1), ('amnesty!', 1), ('outsider', 1), ('SEAL', 1), ('@EricGreitens!', 1), ('straightening', 1), ('MIA.', 1), ('fixing', 1), ('Obamacare?', 1), ('\"ObamaCare', 1), ('expensive.', 1), ('exciting,', 1), ('ambushed', 1), ('subpoenaed', 1), ('Guilty', 1), ('system!\"', 1), ('healthcare.', 1), ('triple!\"', 1), ('states.', 1), ('So,', 1), ('mistake,', 1), ('.@DarrellIssa', 1), ('Help', 1), ('congressional', 1), ('California.', 1), ('Donna', 1), ('Brazile,', 1), ('subpoena', 1), ('RIGGED!\"', 1), ('/@washingtonpost', 1), ('46', 1), ('Gone', 1), ('blow-up!\"', 1), ('Google', 1), ('burying', 1), ('media!\"', 1), ('praised', 1), ('Comey', 1), ('Original', 1), ('evidence', 1), ('overwhelming,', 1), ('delayed!\"', 1), ('states!\"', 1), ('Neera', 1), ('Tanden,', 1), ('adviser', 1), ('depressing.\\u06dd', 1), ('inspiring!\"', 1), ('ObamaCare!', 1), ('call-ins', 1), ('flipping', 1), ('booths', 1), ('REPLACE', 1), ('OBAMACARE!', 1), ('emanated', 1), ('WikiLeaks', 1), ('Catholics?', 1), ('tank', 1), ('suppress', 1), ('secret', 1), ('ISIS!\"', 1), ('Mosul', 1), ('notice.', 1), ('tomorrow,', 1), ('Gettysburg!\"', 1), ('unanimous,', 1), ('WON!', 1), ('times.\"', 1), ('inappropriately', 1), ('exciting.', 1), ('stagnant.', 1), ('We۪ve', 1), ('anymore', 1), ('blessed', 1), ('8:00pm', 1), ('deceived', 1), ('center', 1), ('caught\"', 1), ('48', 1), ('44.\"', 1), ('\"Voter', 1), ('questions?\"', 1), ('worse!).', 1), ('course', 1), ('scale', 1), ('naive!', 1), ('phoney', 1), ('stories,', 1), ('(many', 1), ('false)', 1), ('press,', 1), ('\"ALL', 1), ('ORANGE', 1), ('COUNTY,', 1), ('NORTH', 1), ('CAROLINA.', 1), ('@NCGOP\"', 1), ('Animals', 1), ('firebombed', 1), ('Orange', 1), ('@NCGOP', 1), ('\"Finally,', 1), ('WOMEN', 1), ('VOTERS', 1), ('47-43!\"', 1), ('(including', 1), ('focusing', 1), ('military,', 1), ('nominee!\"', 1), ('distorted', 1), ('SAD', 1), ('\"Election', 1), ('coordinated', 1), ('\"Polls', 1), ('close,', 1), ('HAPPENED.', 1), ('me.Time', 1), ('retire', 1), ('unfunny', 1), ('Alec', 1), ('Baldwin', 1), ('portrayal', 1), ('stinks.', 1), ('election!', 1), ('write,', 1), ('Nothing', 1), ('nonsense', 1), ('steal', 1), ('\"Landing', 1), ('prosecuted', 1), ('unsubstantiated', 1), ('outright', 1), ('\"100%', 1), ('fabricated', 1), ('strongly', 1), ('Campaign,', 1), ('poison', 1), ('Voter.', 1), ('MN.', 1), ('Affordable', 1), ('Care', 1), ('Act', 1), ('(Obamacare)', 1), ('affordable.', 1), ('Columbus-', 1), ('out-', 1), ('OHIO', 1), ('NBC/WSJ/MARIST', 1), ('42%', 1), ('41%\"', 1), ('noon.', 1), ('FABRICATION.', 1), ('Written', 1), ('WATCH!', 1), ('struggled', 1), ('reverse', 1), ('Executive', 1), ('Orders', 1), ('concessions', 1), ('restored.', 1), ('pick-up', 1), ('provided', 1), ('FRAUD!\"', 1), ('disgraceful', 1), ('behavior', 1), ('mouthed', 1), ('gave,', 1), ('won),', 1), ('locker', 1), ('remarks!\"', 1), ('Disloyal', 1), ('Rs', 1), ('sides.', 1), ('teach', 1), ('exception', 1), ('nom', 1), ('shackles', 1), ('leader,', 1), ('disloyalty.\"', 1), ('(every', 1), ('poll),', 1), ('balancing', 1), ('nominee\"', 1), ('win-I', 1), ('instruct', 1), ('AG', 1), ('prosecutor', 1), ('bc', 1), ('theres', 1), ('There۪s', 1), ('abusive', 1), ('Clinton.My', 1), ('unfortunate-the', 1), ('Clintons۪', 1), ('actions', 1), ('self-righteous', 1), ('hypocrites.', 1), ('elections', 1), ('Wisconsin.', 1), ('unreal!', 1), ('Certainly', 1), ('hours!', 1), ('\"Praying', 1), ('Hoping', 1), ('hurricane', 1), ('dissipates,', 1), ('event,', 1), ('careful.\"', 1), ('\"EARLY', 1), ('VOTING:', 1), ('underway,', 1), ('week:', 1), ('OH,', 1), ('ME,', 1), ('AZ,', 1), ('w/local', 1), ('officials', 1), ('details', 1), ('@SenJohnMcCain', 1), ('remarks', 1), ('PTSD', 1), ('right:', 1), ('crazy,', 1), ('sense.', 1), ('truth.\"', 1), ('interruptions', 1), ('allowed.', 1), ('Mike!', 1), ('\".@mike_pence', 1), ('contest!\"', 1), ('.@megynkelly-', 1), ('Nevada.', 1), ('Kellyanne', 1), ('begin!', 1), ('Here', 1), ('Debate.', 1), ('shake!', 1), ('is.', 1), ('8:30pm', 1), ('est!', 1), ('(U.S.)', 1), ('battle', 1), ('reclaim', 1), ('Mosul.', 1), ('Makes', 1), ('mission', 1), ('harder!', 1), ('\"Melania', 1), ('extend', 1), ('greetings', 1), ('observing', 1), ('Rosh', 1), ('Hashanah', 1), ('Israel,', 1), ('pull', 1), ('decieved', 1), ('prosperity.', 1), ('DOJ!', 1), ('product', 1), ('builds', 1), ('Debates', 1), ('DJT', 1), ('audio', 1), ('knocking', 1), ('oclock', 1), ('awake,', 1), ('call!\"', 1), ('cancelling', 1), ('subscriptions', 1), ('readers!', 1), ('(check', 1), ('sex', 1), ('past)', 1), ('debate?', 1), ('paragon', 1), ('virtue', 1), ('con.', 1), ('(Clinton', 1), ('Network)', 1), ('@donlemon,', 1), ('more?\"', 1), ('accident', 1), ('gratitude', 1), ('responders.', 1), ('\"Joining', 1), ('Waukesha,', 1), ('live!', 1), ('Magazine,', 1), ('Friends', 1), ('Forum,', 1), ('night.Crooked', 1), ('things.Why', 1), ('years?', 1), ('discuss.', 1), ('(except', 1), ('watch).', 1), ('\"Russia', 1), ('warheads', 1), ('ever,', 1), ('N', 1), ('Korea', 1), ('testing', 1), ('nukes,', 1), ('sweetheart', 1), ('theirs.', 1), ('@HillaryClinton.\"', 1), ('.@HillaryClinton', 1), ('increased', 1), ('$9trillion', 1), ('Five', 1), ('Eastern', 1), ('immigrant.', 1), ('overdoses.', 1), ('N.C.', 1), ('riots!', 1), ('Netanyahu', 1), ('bigger!', 1), ('Mark', 1), ('Cuban', 1), ('Benefactor', 1), ('fame', 1), ('row,', 1), ('Gennifer', 1), ('Flowers', 1), ('alongside', 1), ('surprise.', 1), ('8th.', 1), ('INTERVIEW', 1), ('grandstand.', 1), ('had,', 1), ('Trump,', 1), ('farmers', 1), ('sm.', 1), ('biz,', 1), ('she۪ll', 1), ('estates', 1), ('65%.\"', 1), ('Spoke', 1), ('@PatMcCroryNC', 1), ('circumstances.', 1), ('Cleveland,', 1), ('.@YoungDems4Trump', 1), ('unrest', 1), ('immediate', 1), ('injured,', 1), ('leadership.\"', 1), ('situations', 1), ('Tulsa', 1), ('tragic.', 1), ('rest.', 1), ('Sleep', 1), ('belong!', 1), ('airplane', 1), ('ideas.', 1), ('change.\"', 1), ('Once', 1), ('ok', 1), ('turns', 1), ('people-', 1), ('thru', 1), ('system?', 1), ('enforcement!', 1), ('embrace', 1), ('NY,', 1), ('Thinking', 1), ('strong!\"', 1), ('Saturday۪s', 1), ('Obama/Hillary', 1), ('polices', 1), ('safe!', 1), ('Safe', 1), ('\"Under', 1), ('experienced', 1), ('abroad.', 1), ('playbook!\"', 1), ('express', 1), ('regards,', 1), ('bombing', 1), ('NYC.\"', 1), ('\"Never', 1), ('Obama.\"', 1), ('good.\"', 1), ('lawyers', 1), ('irresponsible', 1), ('intent.', 1), ('(for', 1), ('now),', 1), ('disgusting\"', 1), ('nuts', 1), ('willing', 1), ('anything,', 1), ('laughingstock', 1), ('rag!\"', 1), ('\"Crazy', 1), ('Maureen', 1), ('Dowd,', 1), ('wacky', 1), ('pretends', 1), ('well--wrong!\"', 1), ('\"Wacky', 1), ('@NYTimesDowd,', 1), ('column.', 1), ('panelists,', 1), ('Defense', 1), ('guidance', 1), ('detail?', 1), ('not!', 1), ('@fortworthpd', 1), ('shot.', 1), ('Houston,', 1), ('fantastic!\"', 1), ('International,', 1), ('statement.\"', 1), ('11:35pmE', 1), ('@jessebwatters', 1), ('Colin', 1), ('Powell', 1), ('7am.', 1), ('pass?', 1), ('Clinton?', 1), ('@7:22.', 1), ('hits!\"', 1), ('moment.', 1), ('themselves', 1), ('Flake,', 1), ('Sass.', 1), ('SUPREME', 1), ('COURT,', 1), ('REMEMBER!\"', 1), ('SO', 1), ('INSULTING', 1), ('amazing,', 1), ('Polls!\"', 1), ('woman,', 1), ('S!\"', 1), ('incredible.\"', 1), ('@tonyschwartz', 1), ('lib,', 1), ('supporter.', 1), ('Irrelevant', 1), ('\"Dummy', 1), ('@tonyschwartz,', 1), ('jilted!\"', 1), ('delivering', 1), ('8:10pm', 1), ('Florida.\"', 1), ('\"Henry', 1), ('McMaster,', 1), ('Lt.', 1), ('announcer', 1), ('Bakari', 1), ('Sellers,', 1), ('Funny!\"', 1), ('Zucker', 1), ('industry', 1), ('arm', 1), ('campaign.\"', 1), ('documentary', 1), ('aired', 1), ('Matt', 1), ('Lauer', 1), ('Luis,', 1), ('US', 1), ('benefitted.\"', 1), ('minister', 1), ('Pe̱a', 1), ('Nieto.', 1), ('tarmac', 1), ('THANK', 1), ('YOU!\"', 1), ('COMING', 1), ('UP', 1), ('@GenFlynn', 1), ('@newtgingrich', 1), ('Commander-in-Chief', 1), ('presentation', 1), ('11pmE', 1), ('\"Mainstream', 1), ('hacking\\u06dd', 1), ('coughing', 1), ('trending.', 1), ('What۪s', 1), ('tribute', 1), ('latest', 1), ('CONSERVATIVE', 1), ('CASE', 1), ('92.', 1), ('special!\"', 1), ('reach', 1), ('new?', 1), ('maker.', 1), ('deals!', 1), ('tomorrow.Why', 1), ('devices', 1), ('acid-wash', 1), ('e-mails?', 1), ('(amazing', 1), ('people),', 1), ('Flake.', 1), ('@JeffFlake,', 1), ('aware', 1), ('Crimea.', 1), ('term!', 1), ('pack', 1), ('credible', 1), ('source\"', 1), ('bias,', 1), ('promoting', 1), ('scandals.\"', 1), ('church,', 1), ('reception,', 1), ('visited', 1), ('headquarters', 1), ('returning', 1), ('pros', 1), ('breakdown', 1), ('progress!', 1), ('Arizona!', 1), ('wall!', 1), ('meeting.', 1), ('Louisiana,', 1), ('Mexico.', 1), ('accepted', 1), ('invitation', 1), ('Enrique', 1), ('Pena', 1), ('Nieto,', 1), ('tomorrow.\"', 1), ('\"From', 1), ('SOUTHERN', 1), ('BORDER,', 1), ('Stop', 1), ('Wednesday!\"', 1), ('type', 1), ('inner-cities,', 1), ('TRUMP!\"', 1), ('brainpower', 1), ('overrated.Probably', 1), ('S,', 1), ('JUDGEMENT\"', 1), ('Bar', 1), ('Exams', 1), ('elsewhere\"', 1), ('Inner-city', 1), ('reaching', 1), ('slaughter', 1), ('getting!', 1), ('shootings,', 1), ('Latinos', 1), ('Trump=SAFE!\"', 1), ('ILLEGAL', 1), ('IMMIGRATION', 1), ('larger', 1), ('venue.\"', 1), ('myself,', 1), ('detailed', 1), ('records.', 1), ('Hillary?\"', 1), ('53rd', 1), ('anniversary', 1), ('March', 1), ('enduring', 1), ('justice,', 1), ('equality', 1), ('opportunity.\"', 1), ('@JoniErnst.', 1), ('Wade', 1), ('Nykea', 1), ('Aldridge.', 1), ('prayers.\"', 1), ('Wades', 1), ('cousin', 1), ('walking', 1), ('Chicago.', 1), ('saying.', 1), ('Heroin', 1), ('overdoses', 1), ('MIDWEST.', 1), ('Coming', 1), ('discussion.', 1), ('country-I', 1), ('@pastormarkburns', 1), ('Apologize!', 1), ('educational', 1), ('statistics.', 1), ('communities\"', 1), ('policy,', 1), ('(stamina).', 1), ('pass!\"', 1), ('race-baiting', 1), ('voters-', 1), ('pandering', 1), ('instincts', 1), ('society.', 1), ('herself!', 1), ('community', 1), ('poverty', 1), ('employment', 1), ('down:', 1), ('promise\"', 1), ('\"Poll', 1), ('good.', 1), ('Utah.', 1), ('rising,', 1), ('Wow!\"', 1), ('prevail!', 1), ('relief', 1), ('efforts', 1), ('tornadoes', 1), ('struck.', 1), ('True', 1), ('leadership.', 1), ('earthquakes', 1), ('Italy', 1), ('Myanmar.', 1), ('golfing.', 1), ('little,', 1), ('pile', 1), ('history!\"', 1), ('comprised', 1), ('buy,', 1), ('boring!\"', 1), ('\".@AnnCoulters', 1), ('Trust,', 1), ('knowing', 1), ('is!\"', 1), ('Akron,', 1), ('Texas.\"', 1), ('\"Some', 1), ('calm', 1), ('insecure', 1), ('girlfriend,', 1), ('@morningmika.', 1), ('clowns!\"', 1), ('\"Tried', 1), ('low-rated', 1), ('unwatchable!', 1), ('bright', 1), ('Donny', 1), ('D,', 1), ('(&', 1), ('helped),', 1), ('Irrelevant!\"', 1), ('flooding', 1), ('airwaves', 1), ('Something', 1), ('comments,', 1), ('otherwise', 1), ('night.\"', 1), ('Fortunately,', 1), ('NC', 1), ('evenings', 1), ('MI.', 1), ('MR.', 1), ('BREXIT!', 1), ('Certain', 1), ('U.S.Supreme', 1), ('appointments.', 1), ('person-remain', 1), ('self.The', 1), ('protected', 1), ('expose!', 1), ('size', 1), ('honestly', 1), ('meaning', 1), ('20%\"', 1), ('advisers', 1), ('False,', 1), ('am-never', 1), ('said\"', 1), ('anonymous', 1), ('happened.', 1), ('protects', 1), ('confirmation', 1), ('PAY-FOR-PLAY.', 1), ('enjoying', 1), ('8th!', 1), ('non-existent', 1), ('unnamed', 1), ('sources.', 1), ('10pm,', 1), ('@GovMikeHuckabee.', 1), ('gained', 1), ('poor,', 1), ('cant!\"', 1), ('necessary', 1), ('boring)', 1), ('rollout', 1), ('NYPD', 1), ('climber.', 1), ('hoax.', 1), ('.@dbongino', 1), ('Second', 1), ('Lemon', 1), ('distract', 1), ('anti-2A', 1), ('stance.', 1), ('pro-2A', 1), ('organize', 1), ('Constitution!', 1), ('killed,', 1), ('Libya,', 1), ('emails?\"', 1), ('insiders,', 1), ('Primaries.', 1), ('wonderful.', 1), ('Quick', 1), ('scientist', 1), ('hacked', 1), ('carried', 1), ('12:15', 1), ('Morell,', 1), ('Acting', 1), ('C.I.A.,', 1), ('calls,', 1), ('flunky!\"', 1), ('Stephanie', 1), ('Rawlings-Blake', 1), ('hard.', 1), ('Baltimore.', 1), ('brain', 1), ('SHORT', 1), ('CIRCUITED,', 1), ('things!\"', 1), ('questions.', 1), ('hostage', 1), ('Geneva,', 1), ('Switzerland,', 1), ('carrying', 1), ('Iran!\"', 1), ('\"Obamas', 1), ('Iran,', 1), ('Depression!\"', 1), ('400', 1), ('cash,', 1), ('Scandal!\"', 1), ('\"There', 1), ('Beat', 1), ('H!\"', 1), ('States!', 1), ('Vast', 1), ('@pnehlen', 1), ('appreciated.\"', 1), ('segment', 1), ('cost?', 1), ('raked', 1), ('oppress', 1), ('gays', 1), ('Hillary....thats', 1), ('chairs,', 1), ('headline', 1), ('disconnected', 1), ('life.\"', 1), ('cameras', 1), ('unreported', 1), ('crisis', 1), ('unfolding', 1), ('Foundation', 1), ('pay-for-play', 1), ('Department?', 1), ('\"CNN', 1), ('anchors', 1), ('everyday', 1), ('vanishing', 1), ('trusted', 1), ('shop', 1), ('Ukraine,', 1), ('push.', 1), ('said!\"', 1), ('interviews,', 1), ('TERRORISM', 1), ('\"Mr.', 1), ('distorted,', 1), ('us.', 1), ('laughable!\"', 1), ('fawning', 1), ('why,', 1), ('H?\"', 1), ('Khan', 1), ('respond?', 1), ('war,', 1), ('Nielson', 1), ('Research', 1), ('ACCEPTANCE', 1), ('SPEECH:', 1), ('32.2', 1), ('27.8', 1), ('DEMS.', 1), ('event!', 1), ('NATOs', 1), ('commander', 1), ('alliance', 1), ('THEIR', 1), ('BILLS.', 1), ('like!\"', 1), ('\"Crookeds', 1), ('Johnstown,', 1), ('politicians,', 1), ('drew', 1), ('VP\"', 1), ('unenthusiastic', 1), ('NAFTA?', 1), ('Koch.', 1), ('soft', 1), ('hikes.', 1), ('formula', 1), ('\"Violent', 1), ('ignored', 1), ('Crime', 1), ('reduction', 1), ('priorities.\"', 1), ('long-term', 1), ('70', 1), ('not.', 1), ('wars,', 1), ('NAFTA/TPP', 1), ('votes.\"', 1), ('\"Colorado', 1), ('tax,', 1), ('reforms', 1), ('NFL', 1), ('games.', 1), ('Unacceptable!\"', 1), ('briefings', 1), ('cannon', 1), ('extraordinarily', 1), ('insticts.', 1), ('stuff,', 1), ('change!\"', 1), ('pick!\"', 1), ('fabrications!', 1), ('\"Two', 1), ('policemen', 1), ('ORDER!\"', 1), ('devastation', 1), ('follows', 1), ('wherever', 1), ('goes.', 1), ('wars', 1), ('destruction,', 1), ('borderless', 1), ('safety.\"', 1), ('Street!', 1), ('refusal', 1), ('pushes', 1), ('refugees,', 1), ('Median', 1), ('household', 1), ('income', 1), ('Clinton-Kaine', 1), ('regulation,', 1), ('refugees.\"', 1), ('despair.\"', 1), ('Shooting', 1), ('deaths', 1), ('78%', 1), ('restore', 1), ('officers!', 1), ('emails,', 1), ('FBI!\"', 1), ('complaining-then', 1), ('Pathetic', 1), ('flood', 1), ('violent', 1), ('beloved', 1), ('French', 1), ('priest', 1), ('causing', 1), ('rationally.', 1), ('tough!', 1), ('professionals', 1), ('recognition', 1), ('election,', 1), ('contrary:', 1), ('adv.\"', 1), ('Bernies', 1), ('sleep?', 1), ('(with', 1), ('set)', 1), ('Convention!\"', 1), ('exclaim', 1), ('overrated!\"', 1), ('strategy', 1), ('thing).', 1), ('thanks.', 1), ('@megynkelly\"', 1), ('investments', 1), ('Russia.\"', 1), ('deflect', 1), ('horror', 1), ('Wikileakes', 1), ('dealing', 1), ('Crazy!\"', 1), ('refugee', 1), ('easier', 1), ('here.', 1), ('\"Bernies', 1), ('bed!\"', 1), ('invention', 1), ('deals,', 1), ('order.', 1), ('\"Funny,', 1), ('two,', 1), ('fawning.', 1), ('difference\"', 1), ('Waste', 1), ('time.\"', 1), ('\"Elizabeth', 1), ('misrepresented', 1), ('glowingly', 1), ('hated!\"', 1), ('revolution.', 1), ('Booker', 1), ('himself.\"', 1), ('Juan', 1), ('Williams', 1), ('passing.', 1), ('fine.', 1), ('trashes', 1), ('air!', 1), ('\"Hard', 1), ('fold.', 1), ('\"Clinton', 1), ('betrayed', 1), ('pocket', 1), ('War.\"', 1), ('antics', 1), ('CHANGE!', 1), ('smoothly', 1), ('compared', 1), ('mess.', 1), ('fear', 1), ('spinnnn!\"', 1), ('\"Here', 1), ('scandal,', 1), ('(can', 1), ('believe).', 1), ('in,', 1), ('B', 1), ('exhausted', 1), ('legacy', 1), ('same.\"', 1), ('display', 1), ('religion,', 1), ('Bernie!\"', 1), ('town', 1), ('leaked', 1), ('(stupid),', 1), ('60', 1), ('Minutes.', 1), ('problems.', 1), ('laughing!', 1), ('stealing', 1), ('meltdown', 1), ('doing!', 1), ('alive', 1), ('hook!\"', 1), ('top,', 1), ('DWS.', 1), ('flamed', 1), ('out\"', 1), ('resignation', 1), ('player.', 1), ('(Bernie),', 1), ('wild\"', 1), ('sided,', 1), ('higher.', 1), ('CNN!\"', 1), ('overrated.', 1), ('cracking', 1), ('left!\"', 1), ('known,', 1), ('Shultz', 1), ('(@DWStweets.)\"', 1), ('\"Sorry', 1), ('folks,', 1), ('longer.', 1), ('dismiss', 1), ('disrespect.', 1), ('Delegates.', 1), ('fight.', 1), ('BLOOD,', 1), ('SWEAT', 1), ('TEARS', 1), ('brother,', 1), ('Malik,', 1), ('president-like', 1), ('else!\"', 1), ('selection', 1), ('V.P.,', 1), ('ending', 1), ('movement!', 1), ('DISRESPECT\"', 1), ('disrespectful', 1), ('H!', 1), ('Wikileaks', 1), ('drooling.', 1), ('wage', 1), ('twenty', 1), ('jobs!', 1), ('praising', 1), ('Trans', 1), ('Pacific', 1), ('Partnership', 1), ('Job', 1), ('killer!', 1), ('Against', 1), ('steelworkers', 1), ('miners.', 1), ('Husband', 1), ('NAFTA.', 1), ('\"Leaked', 1), ('On-line', 1), ('Wikileakes,', 1), ('vicious.', 1), ('RIGGED\"', 1), ('\"Pocahontas', 1), ('slot', 1), ('\"Tim', 1), ('outraged,', 1), ('choice.', 1), ('fought', 1), ('furious', 1), ('Kaine,', 1), ('represents', 1), ('opposite', 1), ('Philly', 1), ('fight?\"', 1), ('FIELD', 1), ('FIGHT', 1), ('Flynn.', 1), ('gifts', 1), ('indicted', 1), ('did?', 1), ('Germany.', 1), ('killed.', 1), ('bless', 1), ('Munich.\"', 1), ('produced,', 1), ('set,', 1), ('conventions.', 1), ('unity!', 1), ('@KarlRove\"', 1), ('times!', 1), ('\"Other', 1), ('embarrassing', 1), ('losses,', 1), ('united.', 1), ('Constitution', 1), ('JUSTICES', 1), ('appointed', 1), ('soooo', 1), ('Don,', 1), ('speeches,', 1), ('enormous', 1), ('pressure,', 1), ('Ivanka', 1), ('intros', 1), ('\"Arena', 1), ('packed,', 1), ('electric!\"', 1), ('.@mike_pence', 1), ('booed', 1), ('stage,', 1), ('pledge!', 1), ('anyway.', 1), ('deal!\"', 1), ('warm', 1), ('days!', 1), ('forensic', 1), ('press!', 1), ('Jobs!\"', 1), ('Hemmer', 1), ('Tiffany,', 1), ('ROLL', 1), ('CALL', 1), ('beginning', 1), ('Networks', 1), ('worst.They', 1), ('dumb,', 1), ('VAST', 1), ('want:', 1), ('\"Looking', 1), ('beautiful!\"', 1), ('conference,', 1), ('scene,', 1), ('tough!\"', 1), ('ORDER', 1), ('USA!', 1), ('TRYING', 1), ('police.', 1), ('watching\"', 1), ('truthful,', 1), ('Guests', 1), ('(being', 1), ('American)', 1), ('Pick', 1), ('H\"', 1), ('litigate', 1), ('by,', 1), ('world)', 1), ('decisions!\"', 1), ('over\"', 1), ('Morgan,', 1), ('Tamara', 1), ('Neo,', 1), ('Cheryl', 1), ('Kraft', 1), ('JOB!\"', 1), ('Cox', 1), ('Bikers', 1), ('tubes!\"', 1), ('DISASTER', 1), ('policy.', 1), ('done\"', 1), ('introducing', 1), ('spectacular', 1), ('Indiana).', 1), ('introduction', 1), ('acceptable.', 1), ('France,', 1), ('postponed', 1), ('tomorrows', 1), ('announcement.\"', 1), ('learn?', 1), ('worse.\"', 1), ('NAFTA.\"', 1), ('11am', 1), ('Manhattan.', 1), ('Details', 1), ('swamp', 1), ('judges', 1), ('opinions!\"', 1), ('Boards', 1), ('condemned', 1), ('ethical', 1), ('breach.', 1), ('thinking?', 1), ('Ruth', 1), ('Bader', 1), ('misconduct?', 1), ('judge!', 1), ('Diego', 1), ('Voters', 1), ('true-', 1), ('activity.', 1), ('moves?', 1), ('know!', 1), ('pro-Israel', 1), ('mind', 1), ('resign!', 1), ('arms.', 1), ('first.\"', 1), ('sanders', 1), ('abandoned', 1), ('pro-war', 1), ('pro-TPP', 1), ('pro-Wall', 1), ('Occupy', 1), ('somewhat', 1), ('surprised', 1), ('selling', 1), ('leverage,', 1), ('need.\"', 1), ('\"Crime', 1), ('control,', 1), ('families-', 1), ('Berrien', 1), ('Courthouse', 1), ('Joseph,', 1), ('Michigan.\"', 1), ('underachieving', 1), ('Politics', 1), ('Happily,', 1), ('network!\"', 1), ('statement,', 1), ('twist', 1), ('foolish.They', 1), ('stupid!\"', 1), ('think.', 1), ('believe!', 1), ('nation!', 1), ('Way', 1), ('@serenawilliams', 1), ('champion.', 1), ('softball', 1), ('@CNN?', 1), ('\"Due', 1), ('opportunity-', 1), ('Miami.\"', 1), ('Prayers', 1), ('thoroughly', 1), ('horrors', 1), ('House', 1), ('devoted', 1), ('live.', 1), ('social', 1), ('Sleepy', 1), ('Eyes,', 1), ('@MarkHalperin', 1), ('@NBCPolitics\"', 1), ('\"Sleepy', 1), ('again.He', 1), ('N.C.\"', 1), ('Caesars', 1), ('bankrupt', 1), ('A.C.', 1), ('moves', 1), ('Airport', 1), ('City\"', 1), ('timing', 1), ('(as', 1), ('know).', 1), ('Pols', 1), ('bankruptcies.\"', 1), ('sooooo', 1), ('guilty.', 1), ('come!\"', 1), ('dishonest,', 1), ('judgement.\"', 1), ('serve', 1), ('Raised', 1), ('gasp', 1), ('figures', 1), ('Win', 1), ('11pm.', 1), ('@SenBobCorker', 1), ('while.', 1), ('Petraeus', 1), ('less.', 1), ('Taxpayers', 1), ('pays?', 1), ('Politically', 1), ('fools,', 1), ('ISLAM!\"', 1), ('asked!', 1), ('Jersey.', 1), ('\"Spent', 1), ('impressed,', 1), ('Cotton', 1), ('result', 1), ('solid!\"', 1), ('depict', 1), ('Star', 1), ('Sheriffs', 1), ('Star,', 1), ('star!\"', 1), ('handle', 1), ('complexities', 1), ('(slaughter)', 1), ('Baghdad,', 1), ('this!\"', 1), ('Bangladesh,', 1), ('cite', 1), ('verse', 1), ('Koran.', 1), ('killed!\"', 1), ('caught!', 1), ('Elie', 1), ('Wiesel,', 1), ('away.The', 1), ('belief', 1), ('triumph', 1), ('evil!\"', 1), ('corrupt!', 1), ('arranged', 1), ('know.', 1), ('me.The', 1), ('news-the', 1), ('announced-by', 1), ('sources-that', 1), ('Like', 1), ('wrong!', 1), ('stupid!', 1), ('slots', 1), ('filled,', 1), ('release\"', 1), ('.@TraceAdkins', 1), ('coincidence?', 1), ('secret.', 1), ('Bills', 1), ('initiated', 1), ('demanded', 1), ('FOX!', 1), ('approximately', 1), ('simple,', 1), ('approx.', 1), ('loan.', 1), ('terminated', 1), ('loan!', 1), ('forgiven', 1), ('Done', 1), ('explain,', 1), ('@USChamber', 1), ('renegotiating', 1), ('Maine.', 1), ('exploded', 1), ('watch-', 1), ('will.', 1), ('capable!', 1), ('Barrasso', 1), ('John.', 1), ('USChamber', 1), ('negotiate', 1), ('penalties', 1), ('cheaters?', 1), ('@USCHAMBER', 1), ('harder', 1), ('worker.', 1), ('pacts\"', 1), ('Iron', 1), ('Tyson', 1), ('\"Yet', 1), ('Turkey.', 1), ('realize', 1), ('sad.\"', 1), ('Presidency', 1), ('ill-fit', 1), ('\"Benghazi', 1), ('failure.', 1), ('supposed', 1), ('Clinton.\"', 1), ('unrelenting.', 1), ('light.', 1), ('(Hillary', 1), ('wrong),', 1), ('November\"', 1), ('wheeling', 1), ('senators', 1), ('heritage.\"', 1), ('LEAVE', 1), ('agent,', 1), ('status', 1), ('quo!', 1), ('little.', 1), ('Close', 1), ('JOBS!\"', 1), ('sample', 1), ('heavy', 1), ('Democrats.', 1), ('that?', 1), ('Other', 1), ('shot,', 1), ('son\"', 1), ('wash', 1), ('dollar', 1), ('(along', 1), ('Obama),', 1), ('call.\"', 1), ('\"George', 1), ('Party.Hes', 1), ('calls\"', 1), ('magnificently.', 1), ('budget!\"', 1), ('ICE', 1), ('BP', 1), ('ends', 1), ('deportation', 1), ('enforce', 1), ('laws', 1), ('land!', 1), ('suspend', 1), ('regions', 1), ('linked', 1), ('vetting', 1), ('method', 1), ('funny,', 1), ('incorrectly,', 1), ('U.K.', 1), ('equating', 1), ('BREXIT,', 1), ('Britain,', 1), ('timing,', 1), ('BREXIT.', 1), ('today!\"', 1), ('\"America', 1), ('shoulder-to-shoulder', 1), ('ind', 1), ('UK.', 1), ('friends,', 1), ('allies,', 1), ('shared', 1), ('\"Self-determination', 1), ('sacred', 1), ('peoples,', 1), ('UK', 1), ('exercised', 1), ('see.\"', 1), ('added', 1), ('rebuilding', 1), ('Ailsa', 1), ('Course.', 1), ('kids!\"', 1), ('Grand', 1), ('Opening', 1), ('Resort.', 1), ('Sat.', 1), ('resources', 1), ('wage-earners.', 1), ('Street.\"', 1), ('\"SC', 1), ('exec', 1), ('amnesty--for', 1), ('pledged', 1), ('expand', 1), ('raising', 1), ('belief!', 1), ('economy!', 1), ('@LouDobbs', 1), ('7pm', 1), ('Secy', 1), ('rich!', 1), ('Corrupt,', 1), ('dangerous,', 1), ('dishonest.\"', 1), ('honesty', 1), ('judgment,', 1), ('Ambassador', 1), ('Stevens.\"', 1), ('favors', 1), ('enslave', 1), ('murder', 1), ('gays.', 1), ('risk?', 1), ('surged', 1), ('costing', 1), ('judgment.', 1), ('thousands,', 1), ('wrecked', 1), ('economy.\"', 1), ('president-really', 1), ('temperament,', 1), ('wss', 1), ('@Reince.', 1), ('if,', 1), ('guns,', 1), ('obviously', 1), ('guards', 1), ('employees\"', 1), ('.@DJohnsonPGA', 1), ('Dustin.', 1), ('reaction', 1), ('Majors.', 1), ('CHAMPION!', 1), ('empty', 1), ('packed?', 1), ('speak!\"', 1), ('unhappy', 1), ('JOBS', 1), ('SAFETY!', 1), ('Today,', 1), ('Texas!\"', 1), ('NRA,', 1), ('fly', 1), ('guns.\"', 1), ('LGBT', 1), ('community!', 1), ('brings', 1), ('threaten', 1), ('beliefs.', 1), ('\"American', 1), ('admit', 1), ('screening.\"', 1), ('temporary', 1), ('ban,', 1), ('suspending', 1), ('terror.\"', 1), ('distortion', 1), ('saying\"', 1), ('P.M.\"', 1), ('Terror.', 1), ('broke-said', 1), ('use!', 1), ('ban.', 1), ('Must', 1), ('terrorism?', 1), ('resign', 1), ('\"Appreciate', 1), ('congrats,', 1), ('toughness', 1), ('vigilance.', 1), ('\"Horrific', 1), ('FL.', 1), ('families.', 1), ('stop?', 1), ('vigilant?\"', 1), ('imitating', 1), ('GROVELING', 1), ('mock', 1), ('disabled.', 1), ('Shame!', 1), ('Orlando.', 1), ('investigating', 1), ('wounded.', 1), ('career.', 1), ('case-', 1), ('@USATODAY', 1), ('bills-', 1), ('shoddy,', 1), ('done!', 1), ('same!\"', 1), ('\"Don', 1), ('choked', 1), ('racist-but', 1), ('Coalition', 1), ('OPO.', 1), ('boxing', 1), ('promoter,', 1), ('judgement,', 1), ('destructive', 1), ('Change!\"', 1), ('lately', 1), ('predictable', 1), ('garbage!', 1), ('Network,', 1), ('biased.They', 1), ('indignant-hear', 1), ('doors\"', 1), ('2010.', 1), ('ordering', 1), ('remained', 1), ('peaceful!', 1), ('illegals.', 1), ('laughed', 1), ('Muhammad', 1), ('Ali', 1), ('74!', 1), ('champion', 1), ('thugs.', 1), ('fortunately', 1), ('hostile.\"', 1), ('Scotland!', 1), ('@TrumpTurnberry-', 1), ('24th.', 1), ('telepromter', 1), ('honest!\"', 1), ('Small', 1), ('Mika', 1), ('hate.', 1), ('Joe.', 1), ('\"Rally', 1), ('hall.', 1), ('Outside,', 1), ('flag!\"', 1), ('reported.', 1), ('38,000', 1), ('added.', 1), ('Bombshell!\"', 1), ('\"Then,', 1), ('25th-', 1), ('@TrumpScotland,', 1), ('@TrumpDoonbeg', 1), ('fronting', 1), ('Ocean.\"', 1), ('Aberdeen,', 1), ('capital', 1), ('Europe,', 1), ('@TrumpScotland.\"', 1), ('22-', 1), ('newly', 1), ('renovated', 1), ('Resort,', 1), ('best.\"', 1), ('60%', 1), ('Cross/Blue', 1), ('Shield', 1), ('panic', 1), ('healthcare', 1), ('explode!\"', 1), ('Reading', 1), ('telepromter!', 1), ('incompetence!', 1), ('positions.\"', 1), ('disposed', 1), ('execs', 1), ('U(?),', 1), ('pres.\"', 1), ('case!\"', 1), ('mistakes', 1), ('mean', 1), ('monsters!', 1), ('HRC.\"', 1), ('lawsuits.', 1), ('Verdict:', 1), ('450', 1), ('wins,', 1), ('representation', 1), ('policies.', 1), ('watched-nobody', 1), ('P', 1), ('ability-zilch!', 1), ('missing!', 1), ('raised/gave', 1), ('biased.\"', 1), ('ratings-', 1), ('10pE.', 1), ('admonished', 1), ('179', 1), ('\"Katie', 1), ('Couric,', 1), ('largely', 1), ('forgotten,', 1), ('editing', 1), ('doc.\"', 1), ('10pmE', 1), ('raised/gave!', 1), ('raised/gave!\"', 1), ('raised/given', 1), ('VETERANS,', 1), ('Watch!\"', 1), ('Tower!\"', 1), ('summary', 1), ('judge,', 1), ('Curiel,', 1), ('case,', 1), ('Curiel', 1), ('(San', 1), ('Diego),', 1), ('unfair.', 1), ('pick.', 1), ('biased-hates', 1), ('Day!', 1), ('(than', 1), ('Hillary)', 1), ('opponent,', 1), ('sixteen.', 1), ('record\"', 1), ('(thank', 1), ('you),', 1), ('necessary!\"', 1), ('enhance', 1), ('(wrong)', 1), ('Independent,', 1), ('bye', 1), ('Court!\"', 1), ('November.', 1), ('lightweights', 1), ('Indie', 1), ('2yrs-an', 1), ('own,', 1), ('Rs!\"', 1), ('politics-', 1), ('ROLLING', 1), ('THUNDER.', 1), ('COUNTRY.', 1), ('Honor', 1), ('respecting', 1), ('quoting', 1), ('matters', 1), ('nomination,', 1), ('paper.', 1), ('kick', 1), ('Prez!', 1), ('style', 1), ('73,', 1), ('800-', 1), ('her.\"', 1), ('(we)', 1), ('all-time', 1), ('69', 1), ('treaties', 1), ('get?', 1), ('ENOUGH\"', 1), ('.@SanDiegoPD-', 1), ('@BillyJoel-', 1), ('shoutout', 1), ('MSG.', 1), ('Appreciate', 1), ('it-', 1), ('music!', 1), ('special.', 1), ('data', 1), ('MAJORITY.', 1), ('Marco!', 1), ('offensive', 1), ('Harvard.\"', 1), ('.@kimguilfoyle-', 1), ('@OutnumberedFNC-', 1), ('Inspector', 1), ('Generals', 1), ('Washington!', 1), ('movement,', 1), ('flag.', 1), ('beautiful,', 1), ('criminals!\"', 1), ('@elizabethforma', 1), ('senator.', 1), ('foreclosed', 1), ('housing', 1), ('quick', 1), ('killing.', 1), ('hypocrite!\"', 1), ('faked', 1), ('native', 1), ('American,', 1), ('lowlife!\"', 1), ('Anaheim.\"', 1), ('raising,', 1), ('obligation,', 1), ('$6M', 1), ('Tower.', 1), ('OUT-', 1), ('SENT', 1), ('BY', 1), ('CROOKED', 1), ('HILLARY!\"', 1), ('overregulates,', 1), ('overtaxes', 1), ('Most', 1), ('forms,', 1), ('F.E.C.', 1), ('\"Amazingly,', 1), ('media.\"', 1), ('distributed,', 1), ('groups.\"', 1), ('obligation', 1), ('1million', 1), ('VETERANS.', 1), ('\"Obama۪s', 1), ('measure', 1), ('widespread.۪', 1), ('vets!\"', 1), ('EVERYTHING', 1), ('ultimate', 1), ('goal:', 1), ('sick', 1), ('tired', 1), ('normal', 1), ('lookout', 1), ('terrorists!', 1), ('continuing', 1), ('quest', 1), ('scandal!', 1), ('500%', 1), ('refugees.', 1), ('oppresses', 1), ('women?\"', 1), ('yrs?', 1), ('stupidity!', 1), ('school', 1), ('classroom.', 1), ('Wrong!', 1), ('Syria,', 1), ('Libya.', 1), ('dangerous!\"', 1), ('negative,', 1), ('closer.', 1), ('rebuttal', 1), ('Turning', 1), ('surrounded', 1), ('armed.', 1), ('TSA', 1), ('Airports', 1), ('essentially', 1), ('Amendment.', 1), ('\"@montgomeriefdn', 1), ('Colin,', 1), ('playing!', 1), ('MAJORS', 1), ('Failing', 1), ('Every', 1), ('presidential?', 1), ('LAUGHS!', 1), ('mess,', 1), ('imagination', 1), ('stamina.', 1), ('years!\"', 1), ('fraud?', 1), ('Rowanne.', 1), ('Airplane', 1), ('departed', 1), ('Paris.', 1), ('vigilant?', 1), ('sickness!\"', 1), ('Justices', 1), ('recieved.', 1), ('During', 1), ('adding', 1), ('list!', 1), ('supporter', 1), ('@AlisonForKY', 1), ('declare', 1), ('AP', 1), ('race?', 1), ('disenfranchised', 1), ('Begala,', 1), ('Pro-Hillary', 1), ('PAC,', 1), ('MOVEMENT,', 1), ('OREGON.', 1), ('anticipated!', 1), ('author', 1), ('resign\"', 1), ('Primaries', 1), ('rigged,', 1), ('on!\"', 1), ('Jeffrey', 1), ('Lord', 1), ('savaged', 1), ('CNN!', 1), ('Douglas!', 1), ('interesting.', 1), ('Network!', 1), ('\"Wall', 1), ('fraud,', 1), ('main', 1), ('Apologize?\"', 1), ('deal?', 1), ('Kentucky,', 1), ('System', 1), ('meI', 1), ('fair.\"', 1), ('responsible', 1), ('history?\"', 1), ('WORST', 1), ('abuser', 1), ('Oregon', 1), ('misquoted', 1), ('wedding', 1), ('Liar!', 1), ('run?\"', 1), ('company', 1), ('endlessly,', 1), ('no.\"', 1), ('respond.\"', 1), ('Over', 1), ('50', 1), ('6.', 1), ('That۪s', 1), ('positive', 1), ('failingwho', 1), ('malicious', 1), ('libelous', 1), ('relationship', 1), ('central', 1), ('Roseanne', 1), ('Rosanne', 1), ('Lane,', 1), ('yesterday,is', 1), ('independent!', 1), ('run.\"', 1), ('consideration.', 1), ('witch-hunt', 1), ('reporting,', 1), ('prevail!\"', 1), ('careers.', 1), ('DISHONEST!', 1), ('ranking', 1), ('piece.', 1), ('women?', 1), ('TOTALLY', 1), ('lame', 1), ('women.I', 1), ('helped-refused', 1), ('impressed', 1), ('nicely', 1), ('@KellyRiddell.', 1), ('Well', 1), ('logical!', 1), ('unprofessional.', 1), ('Hurting', 1), ('television!\"', 1), ('Russia,', 1), ('others?\"', 1), ('.@thehill', 1), ('incorrectit', 1), ('opposite.', 1), ('tax!', 1), ('ALSO,', 1), ('surprise,', 1), ('security,', 1), ('we۪d', 1), ('Americashe', 1), ('routine', 1), ('complete,', 1), ('Senate?', 1), ('Minimum', 1), ('Wage.', 1), ('mediaasking', 1), ('increase!', 1), ('worker_does', 1), ('help!\"', 1), ('woman۪s', 1), ('you_\\u06dd', 1), ('POTUS.', 1), ('cold.', 1), ('Senators', 1), ('nothing!', 1), ('come!', 1), ('\"Big', 1), ('husband?', 1), ('day--get', 1), ('w/Paul', 1), ('Thurs', 1), ('Together,', 1), ('levels!\"', 1), ('position.', 1), ('Rosie', 1), ('ODonnell', 1), ('ate', 1), ('cake', 1), ('commercial', 1), ('@marthamaccallum\"', 1), ('narrative', 1), ('Exactly', 1), ('Nebraska,', 1), ('Any', 1), ('Congress', 1), ('current!', 1), ('--despite', 1), ('did!\"', 1), ('beatshe', 1), ('one!', 1), ('@FoxBizAlert', 1), ('anymore.They', 1), ('positions!\"', 1), ('.@drmoore', 1), ('Russell', 1), ('Moore', 1), ('representative', 1), ('selfishly', 1), ('\".@KellyannePolls', 1), ('Kellyanne,', 1), ('S', 1), ('.@EdGoeas', 1), ('@JudgeJeanine.', 1), ('binding', 1), ('PLEDGE?', 1), ('Teamsters', 1), ('rebuild', 1), ('crumbling', 1), ('infrastructure.', 1), ('@Teamsters\"', 1), ('name?\"', 1), ('rant.', 1), ('nuts.', 1), ('courageous', 1), ('Root', 1), ('leaves', 1), ('legacy.\"', 1), ('flunky,', 1), ('career', 1), ('lie.', 1), ('American.\"', 1), ('Warren۪s', 1), ('American.', 1), ('she۪s', 1), ('chooses', 1), ('both.', 1), ('fading', 1), ('guarantee', 1), ('Scarborough', 1), ('initially', 1), ('insight!\"', 1), ('teachers', 1), ('POTUS', 1), ('component', 1), ('ability.', 1), ('says,', 1), ('Constantly', 1), ('inherited', 1), ('special,', 1), ('Wrong,', 1), ('inherit', 1), ('endorsements', 1), ('Ryan!', 1), ('miners,', 1), ('jobs!\"', 1), ('Independent.\"', 1), ('@SpecialReport', 1), ('6pm', 1), ('Alvarez/Khan', 1), ('Vegas.', 1), ('untrue!', 1), ('Unfortunately', 1), ('plans.', 1), ('6:15', 1), ('books', 1), ('cooked', 1), ('dysfunctional', 1), ('WON', 1), ('Virginia!\"', 1), ('projected', 1), ('winner.', 1), ('people-I', 1), ('must,', 1), ('race-stop', 1), ('charges.', 1), ('function', 1), ('presidential.', 1), ('Bend,', 1), ('burning', 1), ('proudly', 1), ('flags.', 1), ('voters!', 1), ('Hoosier', 1), ('USA.\"', 1), ('Bushy.', 1), ('Shouldnt', 1), ('air!\"', 1), ('Terre', 1), ('Haute,', 1), ('@FaceTheNation.', 1), ('boy,', 1), ('support?\"', 1), ('@MikeOzanian', 1), ('worse-almost', 1), ('growth', 1), ('quarter.', 1), ('jobs).', 1), ('\".@AC360', 1), ('Anderson,', 1), ('woman!\"', 1), ('1001', 1), ('ballots', 1), ('rigged!', 1), ('presidency,', 1), ('enablers!\"', 1), ('42', 1), ('arrival!\"', 1), ('broadcast', 1), ('Reminds', 1), ('up-I', 1), ('landslide!', 1), ('Evansville,', 1), ('V.P.candidate', 1), ('effort\"', 1), ('detail', 1), ('topics!', 1), ('coach,', 1), ('Knight,', 1), ('highlight', 1), ('Bobby!\"', 1), ('Staying', 1), ('Holiday', 1), ('Inn', 1), ('Express', 1), ('clean,', 1), ('bad!\"', 1), ('Timesthe', 1), ('constantly.', 1), ('belittle.', 1), ('Independent!\"', 1), ('Cruz-Kasich', 1), ('pact', 1), ('strain.', 1), ('Rhode', 1), ('Island-', 1), ('Typical', 1), ('politician', 1), ('openly', 1), ('(collusion)', 1), ('weakness!', 1), ('desperate.', 1), ('collude', 1), ('nomination.', 1), ('DESPERATION!\"', 1), ('doing.', 1), ('readership', 1), ('Becoming', 1), ('irrelevant!', 1), ('Maryland', 1), ('afternoon', 1), ('.@AndreBauer', 1), ('.@Borisep', 1), ('correct!', 1), ('Connecticut.', 1), ('Connecticut,', 1), ('stolen', 1), ('Prince', 1), ('occasions.', 1), ('missed!', 1), ('Drop', 1), ('LYIN', 1), ('unify!', 1), ('MATHEMATICALLY', 1), ('ELIMINATED', 1), ('reason.', 1), ('Hall.', 1), ('Hopefully,', 1), ('Enjoy.7A.M.\"', 1), ('Indiana!', 1), ('spoiler,', 1), ('Terrible', 1), ('panel,', 1), ('Superstorm', 1), ('Sandy', 1), ('aid', 1), ('11th', 1), ('help.', 1), ('devastated.', 1), ('York!', 1), ('placed', 1), ('bosses-I', 1), ('VOTES', 1), ('ahead!', 1), ('K', 1), ('socialist', 1), ('against.', 1), ('him)', 1), ('bosses.', 1), ('delegate', 1), ('system,', 1), ('him.\"', 1), ('\"Ill', 1), ('Staten', 1), ('Island.', 1), ('primaries!', 1), ('march', 1), ('afternoon!', 1), ('rules', 1), ('entered', 1), ('precluded', 1), ('voting!', 1), ('rebroadcast', 1), ('(EASTERN).', 1), ('Albany,', 1), ('exciting!\"', 1), ('(@oreillyfactor)', 1), ('vulgarian?', 1), ('allowed!', 1), ('Primary?', 1), ('non-representative', 1), ('offered', 1), ('goodies', 1), ('suckers-no', 1), ('unqualified', 1), ('ability,', 1), ('fight\"', 1), ('TrumpThe', 1), ('Disrupter\\u06dd', 1), ('Anchored', 1), ('@BretBaier.', 1), ('@johnrobertsFox', 1), ('Catching', 1), ('(remember,', 1), ('campaign)', 1), ('loving', 1), ('\"Unbelievable', 1), ('17,000', 1), ('Island---', 1), ('home!\"', 1), ('scheduled', 1), ('fiction!', 1), ('Island!\"', 1), ('\"Wisconsin,', 1), ('stops,', 1), ('@gohermie', 1), ('@ShellHouOpen.', 1), ('@TNGCBedminster', 1), ('@TrumpGolf', 1), ('clubs!', 1), ('going!', 1), ('attack!', 1), ('\".@HeyTammyBruce-', 1), ('nuclear,', 1), ('with!\"', 1), ('\"Wisconsin', 1), ('reversed!\"', 1), ('Jobs,', 1), ('factors.', 1), ('millions!\"', 1), ('positions!', 1), ('BAD.', 1), ('\"Can', 1), ('trade?\"', 1), ('America۪s', 1), ('patrol', 1), ('agents', 1), ('endorsementme!', 1), ('(NBPC)', 1), ('physical', 1), ('465', 1), ('(Cruz)', 1), ('plus', 1), ('143', 1), ('(Kasich)', 1), ('739', 1), ('Growth,which', 1), ('extortion', 1), ('attempt,', 1), ('math.What', 1), ('group!\"', 1), ('@GOP.', 1), ('\".@DavidGregory', 1), ('Final', 1), ('MO.', 1), ('WINS!', 1), ('certified', 1), ('365', 1), ('delegates!', 1), ('earliest', 1), ('happened,', 1), ('episode', 1), ('tape?\"', 1), ('Corey', 1), ('Lewandowski,', 1), ('decent', 1), ('assaulting', 1), ('tapes-nothing', 1), ('SAME', 1), ('Cruz?', 1), ('votes/hundreds', 1), ('dels', 1), ('town-hall', 1), ('secure', 1), ('games,', 1), ('imm!\"', 1), ('\"LyinTed', 1), ('But,', 1), ('Drudge,Time', 1), ('Jeb,', 1), ('Rand,', 1), ('others)', 1), ('Primaries,', 1), ('international', 1), ('gangs', 1), ('incensed', 1), ('refocus', 1), ('mission,', 1), ('FAIR', 1), ('SHARE,', 1), ('must!\"', 1), ('Easter-look', 1), ('Wisconsin!\"', 1), ('deals.', 1), ('Cruz-Lawsuit', 1), ('coming\"', 1), ('Pakistan,', 1), ('targeting', 1), ('67', 1), ('dead,400', 1), ('solve\"', 1), ('Easter', 1), ('day!\"', 1), ('disproportionately', 1), ('unfair)', 1), ('finally,', 1), ('receiving', 1), ('plaudits!\"', 1), ('others\"', 1), ('Polls,', 1), ('Election.\"', 1), ('\"Wisconsins', 1), ('leaving.', 1), ('jobs\"', 1), ('strengthened', 1), ('prople', 1), ('Enq.were', 1), ('\"Top', 1), ('suspect', 1), ('massacre,', 1), ('Salah', 1), ('Abdeslam,', 1), ('talking.', 1), ('laws!\"', 1), ('$67', 1), ('lot?\"', 1), ('GQ', 1), ('pic', 1), ('hence,', 1), ('federal', 1), ('similar', 1), ('ways', 1), ('lost-monster', 1), ('Europe', 1), ('Syria.', 1), ('civilization', 1), ('5000', 1), ('fighters', 1), ('infiltrated', 1), ('Europe.', 1), ('View,', 1), ('left,', 1), ('@abc', 1), ('solving', 1), ('CHANGE,', 1), ('SOLVE', 1), ('Illegal', 1), ('Muslims,', 1), ('NATO!\"', 1), ('\"These', 1), ('\".@LindseyGrahamSC', 1), ('alike', 1), ('negatively', 1), ('(ZERO)', 1), ('pres', 1), ('run!', 1), ('disproportionate', 1), ('Why?', 1), ('renegotiate,', 1), ('additionally', 1), ('@RealSheriffJoe', 1), ('Joe!', 1), ('clinch', 1), ('1237', 1), ('delegates,', 1), ('race!\"', 1), ('hurts', 1), ('$150,000,000', 1), ('first!\"', 1), ('beginning,', 1), ('prepackaged', 1), ('She۪s', 1), ('are!', 1), ('\"Low', 1), ('hates,', 1), ('Honestly,', 1), ('drove', 1), ('oblivion!\"', 1), ('\"Lyin۪', 1), ('steals', 1), ('Douglas', 1), ('politician.\"', 1), ('denied', 1), ('model', 1), ('paving', 1), ('Justices!\"', 1), ('\"Incompetent', 1), ('open-and', 1), ('flow', 1), ('picture', 1), ('spill', 1), ('beans', 1), ('wife!\"', 1), ('\"Obama,', 1), ('weak,', 1), ('stronger!', 1), ('Shame.\"', 1), ('anybody-', 1), ('AZ', 1), ('UT', 1), ('today!', 1), ('shadows', 1), ('Brussels.', 1), ('badly!\"', 1), ('world!', 1), ('Raul', 1), ('Castro', 1), ('greet', 1), ('greeted', 1), ('Pope', 1), ('respect\"', 1), ('Dinner', 1), ('Beach.', 1), ('anchor,', 1), ('back?', 1), ('Wrong!\"', 1), ('highway', 1), ('delaying', 1), ('entry', 1), ('RALLY', 1), ('blames', 1), ('horrendous', 1), ('scream,', 1), ('curse', 1), ('punch,', 1), ('roads/doors', 1), ('RALLIES,', 1), ('blamed', 1), ('media?', 1), ('Utah', 1), ('ways!\"', 1), ('(wont)', 1), ('\"Reading', 1), ('awareness', 1), ('him-', 1), ('dummy!\"', 1), ('pundits-', 1), ('world!\"', 1), ('@loudobbsnews-', 1), ('interruptions.', 1), ('yet?', 1), ('runs', 1), ('Missouri?', 1), ('immigrants?', 1), ('sick,', 1), ('tv.\"', 1), ('mixed', 1), ('1/2\"', 1), ('Utah,', 1), ('Mormons', 1), ('LIARS!', 1), ('Hillary\"', 1), ('\"Club', 1), ('NO,', 1), ('Disgraceful!\"', 1), ('this?\"', 1), ('\".@EWErickson', 1), ('dog', 1), ('RedState', 1), ('trusts', 1), ('five', 1), ('races', 1), ('Tuesday-and', 1), ('jinx', 1), ('Jeb.', 1), ('0!', 1), ('devotes', 1), ('Focus', 1), ('Megyn!', 1), ('mine!', 1), ('dummies', 1), ('\".@WSJ', 1), ('editorials', 1), ('evangelical', 1), ('tolerate', 1), ('liars-a', 1), ('problem!', 1), ('me.Tough!', 1), ('cancelled', 1), ('question?', 1), ('supposedly', 1), ('Stevens,', 1), ('Romneys', 1), ('loss,', 1), ('Factor', 1), ('Channel.', 1), ('Missouri!\"', 1), ('wins!\"', 1), ('Scott,', 1), ('$35M', 1), ('landslide.The', 1), ('$$!\"', 1), ('\"Yesterday', 1), ('amazing5', 1), ('victories.', 1), ('zero.', 1), ('well!\"', 1), ('.@RepTomMarino', 1), ('side!', 1), ('.@pastormarkburns', 1), ('7:40.', 1), ('7:15', 1), ('news.', 1), ('Talks', 1), ('43%', 1), ('mentions', 1), ('Numbers', 1), ('Florida?', 1), ('22.', 1), ('candidate?', 1), ('others).', 1), ('acting', 1), ('\"North', 1), ('400,000', 1), ('2000.', 1), ('MORE', 1), ('WIN,', 1), ('BRING', 1), ('BACK!\"', 1), ('reward', 1), ('etc.).\"', 1), ('ONLY', 1), ('America,', 1), ('Core', 1), ('A,', 1), ('WALL\"', 1), ('\"Kasich', 1), ('madness!\"', 1), ('hard-', 1), ('workers!\"', 1), ('Tampa', 1), ('newspapers.', 1), ('check.', 1), ('Pennsylvania-he', 1), ('nomination-', 1), ('Tue.', 1), ('\"Gov.Kasich', 1), ('television,', 1), ('watches', 1), ('@GolfChannel\"', 1), ('Gov.Kasich', 1), ('coal', 1), ('dying!\"', 1), ('disruptors', 1), ('yours!\"', 1), ('qualify', 1), ('signatures.', 1), ('STRONGLY', 1), ('Core!', 1), ('way\"', 1), ('disrupted', 1), ('fact!', 1), ('is-early', 1), ('FL', 1), ('Little', 1), ('Marco,', 1), ('Chairman,', 1), ('overtime-trying', 1), ('Dayton,', 1), ('ON.', 1), ('cancelled.', 1), ('Ohio!', 1), ('striking', 1), ('bust!', 1), ('Absentee', 1), ('Mexico!', 1), ('organized', 1), ('thugs,', 1), ('Chicago,', 1), ('energized', 1), ('America!\"', 1), ('Losing', 1), ('Zuckermans', 1), ('@NYDailyNews\"', 1), ('losers!\"', 1), ('me.They', 1), ('losers\"', 1), ('evening-', 1), ('Mississippi!', 1), ('Jupiter', 1), ('/', 1), ('leading,', 1), ('poll\"', 1), ('ZERO,', 1), ('spokesmen', 1), ('interests!\"', 1), ('\"Sun', 1), ('Sentinel', 1), ('says:', 1), ('lacks', 1), ('ethic', 1), ('gravitas', 1), ('EARNED', 1), ('YOUR', 1), ('Hawaii', 1), ('Honolulu.', 1), ('Hawaii!\"', 1), ('Mississippi,', 1), ('Madison,', 1), ('MS', 1), ('10,000!', 1), ('EST', 1), ('@FoxNews!', 1), ('U.S.and', 1), ('car', 1), ('industry!\"', 1), ('establishment.', 1), ('Congratulation', 1), ('producing', 1), ('WGC', 1), ('Tournament.', 1), ('finish!', 1), ('expose', 1), ('no-show', 1), ('scamming', 1), ('REPUBLICAN', 1), ('ESTABLISHMENT,', 1), ('(twice),', 1), ('ruin', 1), ('MOVEMENT', 1), ('\"Lindsey', 1), ('T.V.,', 1), ('Romney.', 1), ('nasty,', 1), ('angry,', 1), ('jealous', 1), ('failures', 1), ('7%', 1), ('0%', 1), ('nasty!\"', 1), ('politicians?', 1), ('Twitter.', 1), ('Watch!', 1), ('payed', 1), ('SPECIAL', 1), ('INTEREST', 1), ('GROUPS,', 1), ('bandits', 1), ('do\"', 1), ('\"Turn', 1), ('Wold', 1), ('played,', 1), ('leading!', 1), ('@NBC\"', 1), ('.@meetthepress', 1), ('Doral-best', 1), ('3:00', 1), ('plaintiff', 1), ('suit', 1), ('\"Nancy', 1), ('Reagan,', 1), ('President,', 1), ('missed!\"', 1), ('\"David', 1), ('Brooks,', 1), ('trounced', 1), ('states,', 1), ('Rory,', 1), ('Phil,', 1), ('Bubba,', 1), ('Adam,', 1), ('Dustin', 1), ('top!\"', 1), ('\"Romneys', 1), ('advisors,', 1), ('mgr', 1), ('lost-', 1), ('\".@MittRomney', 1), ('Kansas!', 1), ('mile', 1), ('(1%.)', 1), ('choice!\"', 1), ('Orlando,', 1), ('25,000', 1), ('Kansas.\"', 1), ('for!\"', 1), ('Louisiana.', 1), ('energetic', 1), ('open.', 1), ('Kansas.', 1), ('Wichita,', 1), ('CPAC', 1), ('(the', 1), ('format', 1), ('fine!).\"', 1), ('businessman,', 1), ('Phil', 1), ('Ruffin', 1), ('Witchita', 1), ('Pachyderm', 1), ('Club.', 1), ('pilot', 1), ('dealer-', 1), ('pilot!', 1), ('company-', 1), ('used.\"', 1), ('Championship!', 1), ('court.', 1), ('students.', 1), ('Easy', 1), ('BEG', 1), ('ago?', 1), ('who,', 1), ('kill', 1), ('two-time', 1), ('messenger!', 1), ('Cruz.When', 1), ('POLS', 1), ('leave.', 1), ('(2/2)', 1), ('criticize', 1), ('49%', 1), ('millions-we', 1), ('larger,', 1), ('party!\"', 1), ('scam,', 1), ('sale', 1), ('voting!\"', 1), ('(puppets)', 1), ('Nikki', 1), ('Haley!', 1), ('\"Got', 1), ('Brian', 1), ('France', 1), ('@NASCAR', 1), ('drivers.', 1), ('Nascar', 1), ('Georgia!\"', 1), ('rating.', 1), ('principle!', 1), ('7:35.', 1), ('kids,', 1), ('enjoy!\"', 1), ('ethic!', 1), ('return', 1), ('SEPTEMBER', 1), ('21,', 1), ('2012,', 1), ('R!', 1), ('messenger', 1), ('estab!\"', 1), ('accomplished', 1), ('pol!\"', 1), ('stadium!', 1), ('Come', 1), ('us!', 1), ('Indies', 1), ('(crossover).', 1), ('get.', 1), ('margins,', 1), ('cycles.GROWING', 1), ('PARTY\"', 1), ('brothers', 1), ('(oil),', 1), ('liar\"', 1), ('estate', 1), ('assets', 1), ('World.', 1), ('Amazing!\"', 1), ('father,', 1), ('Fred,', 1), ('$200', 1), ('fabrication!\"', 1), ('Fun', 1), ('version', 1), ('\"Tax', 1), ('throughout', 1), ('sane', 1), ('audit.', 1), ('audit,', 1), ('audited', 1), ('I.R.S.', 1), ('rich', 1), ('audited.', 1), ('why?', 1), ('dry.', 1), ('votes!', 1), ('choker!', 1), ('boy', 1), ('stage.', 1), ('Lying', 1), ('teamed', 1), ('ditch', 1), ('movement.', 1), ('failed!', 1), ('Worth', 1), ('(Texas)', 1), ('represent', 1), ('\"Have', 1), ('Tuesday.', 1), ('Loser!\"', 1), ('Worth,', 1), ('night-plus,', 1), ('plus!\"', 1), ('chocker!', 1), ('Reid', 1), ('9/21/12.', 1), ('\"FMR', 1), ('PRES', 1), ('Vicente', 1), ('F', 1), ('apologize!', 1), ('uproar!\"', 1), ('\"Early', 1), ('over.', 1), ('win-', 1), ('landslide!\"', 1), ('do-', 1), ('info,', 1), ('0', 1), ('someone۪s', 1), ('net', 1), ('worth.', 1), ('FEC.', 1), ('already.', 1), ('sway.', 1), ('late', 1), ('returns.', 1), ('\".@RepChrisCollins', 1), ('Chris,', 1), ('quits', 1), ('clear,', 1), ('awkward', 1), ('Romney,who', 1), ('fool,', 1), ('guy\"', 1), ('true\"', 1), ('television-', 1), ('victory--', 1), ('fired!', 1), ('\".@USATODAY', 1), ('@QuinnipiacPoll', 1), ('yet!\"', 1), ('sick!', 1), ('\"@MELANIATRUMP', 1), ('Poised,', 1), ('offer.', 1), ('(8:30', 1), ('A.M.).', 1), ('mislead', 1), ('CAREFUL.', 1), ('NOW', 1), ('NEVADA.', 1), ('VARIOUS', 1), ('CAUCUS', 1), ('SITES.', 1), ('seeking', 1), ('\"Great.', 1), ('K!\"', 1), ('fleeing,', 1), ('invest', 1), ('growing', 1), ('tremendously', 1), ('significantly', 1), ('past.\"', 1), ('lifts', 1), ('dog-over', 1), ('figured', 1), ('no!', 1), ('Wow', 1), ('capable', 1), ('communication.', 1), ('scape', 1), ('goat-fired', 1), ('panicked.', 1), ('lie-crazy!', 1), ('(Eastern)', 1), ('conducted', 1), ('Campaign', 1), ('Strategist,', 1), ('Stevens.', 1), ('clown!\"', 1), ('happen!', 1), ('Sad.', 1), ('crazy?\"', 1), ('apologized', 1), ('ridiculously', 1), ('liar', 1), ('politics!', 1), ('suggested', 1), ('Communications', 1), ('Director.', 1), ('tricks!\"', 1), ('Reserve,', 1), ('done.\"', 1), ('angry!', 1), ('Rickets', 1), ('Cubs,', 1), ('hide!\"', 1), ('LIAR,', 1), ('liars!\"', 1), ('far),', 1), ('International.', 1), ('teams', 1), ('volunteers', 1), ('Carolina,Ted', 1), ('Board.', 1), ('Seldom', 1), ('wrong.Totally', 1), ('Nevada.The', 1), ('LOVE\"', 1), ('victory!', 1), ('(HOPE)', 1), ('\"South', 1), ('hands.', 1), ('(today),', 1), ('pour', 1), ('Mosque?', 1), ('(in', 1), ('years)', 1), ('Lobbyists', 1), ('candidates!', 1), ('Boycott', 1), ('products', 1), ('regarding', 1), ('couple', 1), ('Cal', 1), ('suit.', 1), ('iPhone', 1), ('Samsung.', 1), ('Samsung', 1), ('info.', 1), ('insurance', 1), ('plans,', 1), ('savings', 1), ('accounts,', 1), ('purchasing', 1), ('Maximum', 1), ('freedom', 1), ('consumer.\"', 1), ('backstop', 1), ('pre-existing', 1), ('conditions.', 1), ('eliminate', 1), ('law,', 1), ('entirety,', 1), ('Journal/NBC', 1), ('WSJ', 1), ('badly!', 1), ('matchup,', 1), ('Bernie.\"', 1), ('Q', 1), ('WSJ/NBC', 1), ('poll.\"', 1), ('Mika,', 1), ('Charleston,', 1), ('@MSNBC.', 1), ('contact', 1), ('lenses', 1), ('glasses.', 1), ('cool,', 1), ('1%,', 1), ('mouthpiece,', 1), ('@LindseyGrahamSC,', 1), ('home.\"', 1), ('disgusting.', 1), ('easily,', 1), ('wont,', 1), ('cred!', 1), ('\".@lindseygraham,', 1), ('disgrace-', 1), ('@FoxNews.\"', 1), ('devote', 1), ('negative?', 1), ('Megyn!\"', 1), ('style!', 1), ('\".@brithume', 1), ('nothing,', 1), ('dem-indie', 1), ('votes)', 1), ('can!\"', 1), ('wonderful!\"', 1), ('\"Id', 1), ('liar,', 1), ('revealed', 1), ('Eminent', 1), ('Domain-', 1), ('(1/2)\"', 1), ('Jeb(!),', 1), ('eco', 1), ('collapse?', 1), ('Careful!\"', 1), ('BIG!', 1), ('AGAIN\"', 1), ('electable', 1), ('eligible', 1), ('Canada\"', 1), ('\"Funny', 1), ('Jeb(!)', 1), ('name.Then', 1), ('mommy,', 1), ('brother!\"', 1), ('Court.', 1), ('twice,', 1), ('forties!', 1), ('bosses!', 1), ('ticket', 1), ('distrbution.', 1), ('ints\"', 1), ('Dickerson', 1), ('Biased', 1), ('big-', 1), ('TIME,', 1), ('Krauthammer', 1), ('cred-', 1), ('cheater!', 1), ('holds', 1), ('Nasty', 1), ('again-', 1), ('tricks', 1), ('@RealBenCarson-', 1), ('hold', 1), ('positions.', 1), ('LIES!', 1), ('Lee', 1), ('unexpected', 1), ('Antonin', 1), ('setback', 1), ('Conservative', 1), ('Donohue,', 1), ('Catholic', 1), ('League,', 1), ('Newsmax!', 1), ('insight\"', 1), ('side,', 1), ('fundraising', 1), ('contribute', 1), ('Univision,', 1), ('sitting', 1), ('baby)', 1), ('interview.\"', 1), ('satisfactory', 1), ('settlement', 1), ('Univision', 1), ('$10,000,000', 1), ('owed', 1), ('rights.Alls', 1), ('well\"', 1), ('Cashin', 1), ('Tampa.', 1), ('Zuckerman۪s', 1), ('year---can', 1), ('possible?', 1), ('closes', 1), ('credit?', 1), ('\"11,000', 1), ('venue', 1), ('Tampa!', 1), ('Elton', 1), ('1988', 1), ('w/out', 1), ('musical', 1), ('instruments!', 1), ('\"Millions', 1), ('lobbyists-special', 1), ('cheater', 1), ('S.C.\"', 1), ('\"Last', 1), ('cheating,', 1), ('citizen.\"', 1), ('SC.', 1), ('advertising-', 1), ('series', 1), ('ill-informed', 1), ('\"Nothing', 1), ('conservative', 1), ('demanding', 1), ('contribution,', 1), ('naturally,', 1), ('get.\"', 1), ('online.', 1), ('dead!\"', 1), ('dishonest?', 1), ('Jeb!', 1), ('enlisted', 1), ('Mommy', 1), ('quicksand', 1), ('Iraq).', 1), ('million.Weak-no', 1), ('chance!', 1), ('she)', 1), ('hesitates', 1), ('lost:', 1), ('Conservatives,', 1), ('promises', 1), ('base,', 1), ('BUT', 1), ('DIDNT', 1), ('KEEP', 1), ('THEM!', 1), ('Hi', 1), ('DT\"', 1), ('word,', 1), ('blank.', 1), ('apologize!\"', 1), ('$40,000,000', 1), ('$3,000,000', 1), ('capability!\"', 1), ('buyers', 1), ('frantically', 1), ('looking.', 1), ('bleeding', 1), ('red', 1), ('ink', 1), ('consistent', 1), ('Core.', 1), ('Core---', 1), ('local!', 1), ('core.', 1), ('reporting-', 1), ('cred!\"', 1), ('\"Worthless', 1), ('sell,', 1), ('buyer!', 1), ('Liabilities', 1), ('massive!\"', 1), ('inferiority', 1), ('complex.', 1), ('8:15', 1), ('Now,', 1), ('heroin', 1), ('drugs', 1), ('healthcare!', 1), ('8:40.', 1), ('GENERAL', 1), ('ELECTION.', 1), ('Great!', 1), ('No-one', 1), ('out-and', 1), ('PACs.', 1), ('Bush-spent', 1), ('$100', 1), ('pack.', 1), ('figure!', 1), ('communication', 1), ('Enjoy.\"', 1), ('nearly', 1), ('9am.', 1), ('slap', 1), ('@CheriJacobus.', 1), ('Begged', 1), ('Turned', 1), ('twice', 1), ('tomorrow۪s', 1), ('Hampshireso', 1), ('stake.', 1), ('evening!\"', 1), ('storm', 1), ('Moved', 1), ('interesting!', 1), ('@KarlRove-', 1), ('violation', 1), ('everyone.\"', 1), ('@billoreilly', 1), ('moving', 1), ('notch.\"', 1), ('beat!', 1), ('disqualify', 1), ('cheated-', 1), ('\"Based', 1), ('nullified.\"', 1), ('Violation', 1), ('marks', 1), ('unsuspecting', 1), ('voter(grade', 1), ('F)', 1), ('clear', 1), ('Fraud', 1), ('VOTER', 1), ('VIOLATION', 1), ('\"During', 1), ('primetime', 1), ('@RealBenCarson', 1), ('quitting', 1), ('caucus', 1), ('vote)', 1), ('Cruz.\"', 1), ('stole', 1), ('anticipated.', 1), ('@cherijacobus', 1), ('dummy!', 1), ('\"Anybody', 1), ('rambling,', 1), ('overly', 1), ('flamboyant', 1), ('nite', 1), ('Howard', 1), ('Dean', 1), ('moment!\"', 1), ('simultaneous', 1), ('media-later', 1), ('long-shot', 1), ('fairly.', 1), ('Brought', 1), ('history!', 1), ('second.', 1), ('honor\"', 1), ('ended', 1), ('FINALLY', 1), ('TAKE', 1), ('A.m.', 1), ('(instead', 1), ('recieved).', 1), ('VETS', 1), ('$6,000,000.\"', 1), ('replace.', 1), ('Financial', 1), ('Disclosure', 1), ('Form.', 1), ('loans,', 1), ('scam!\"', 1), ('unelectable,', 1), ('(born', 1), ('Canada).', 1), ('loose', 1), ('easily!', 1), ('touring', 1), ('State!\"', 1), ('rooms', 1), ('more,', 1), ('himself.Phony', 1), ('Asked', 1), ('rooms,', 1), ('more).', 1), ('Cruz!\"', 1), ('Finally,', 1), ('stupidity,', 1), ('risk.', 1), ('rights,', 1), ('VETS!\"', 1), ('VETS.\"', 1), ('@BenSasse,', 1), ('easy,', 1), ('.@BenSasse', 1), ('gym', 1), ('rat', 1), ('elected?', 1), ('@BenSasse', 1), ('Saw', 1), ('Wants', 1), ('pols.', 1), ('minimum,', 1), ('\"They', 1), ('participated', 1), ('record.\"', 1), ('Nashua,', 1), ('Fun!\"', 1), ('better.', 1), ('proud\"', 1), ('@OMAROSA.', 1), ('particular-', 1), ('@SenTedCruz۪s', 1), ('$$', 1), ('Mercer,', 1), ('liquidating', 1), ('(Ted۪s)', 1), ('holdings.?\"', 1), ('Drake', 1), ('University.\"', 1), ('Greta,', 1), ('87%', 1), ('Wow-', 1), ('rates', 1), ('EST!', 1), ('childishly', 1), ('taunting', 1), ('@megynkelly.\"', 1), ('Canada?\"', 1), ('Rush', 1), ('Limbaugh', 1), ('journalism.', 1), ('bimbo,', 1), ('dealings?', 1), ('Actually,', 1), ('organizers', 1), ('himselfa', 1), ('honor-', 1), ('Rev.', 1), ('Jerry', 1), ('Falwell', 1), ('Jr.', 1), ('University,', 1), ('nation,', 1), ('followers', 1), ('hotels-didnt', 1), ('@MorningsMaria', 1), ('Figure', 1), ('Jebs.', 1), ('trough!', 1), ('polls-', 1), ('Lies', 1), ('wreck.', 1), ('caring', 1), ('truth!', 1), ('est.', 1), ('Mornings', 1), ('Maria', 1), ('Business', 1), ('7am', 1), ('8am', 1), ('Situation', 1), ('Room', 1), ('est', 1), ('settle', 1), ('FACT', 1), ('Canada,', 1), ('race\"', 1), ('primary.', 1), ('Pella.', 1), ('Muscatine,', 1), ('forgotten.', 1), ('hello!', 1), ('Pella,', 1), ('buyer', 1), ('Pella', 1), ('windows.', 1), ('received.', 1), ('Packed', 1), ('house-', 1), ('overflow!\"', 1), ('@MegynKellys', 1), ('Jeffress', 1), ('introduction.', 1), ('citizen,', 1), ('run!\"', 1), ('bull,', 1), ('action-it', 1), ('\".@AnnCoulter', 1), ('establish', 1), ('pay.', 1), ('coast.', 1), ('beauty', 1), ('storm!', 1), ('\"Is', 1), ('Sachs/Citi,', 1), ('loans.', 1), ('assets.\"', 1), ('TARP,', 1), ('Sachs,', 1), ('loaned', 1), ('disclose.', 1), ('Puppet!\"', 1), ('listeners', 1), ('\".@BrentBozell,', 1), ('lightweights,', 1), ('that?\"', 1), ('mom', 1), ('Chinese', 1), ('Putin.\"', 1), ('Sachs/Citi', 1), ('Canada?', 1), ('Zogby', 1), ('out:.TRUMP', 1), ('13.', 1), ('8.', 1), ('participate', 1), ('complains', 1), ('eminent', 1), ('domain,', 1), ('highways,', 1), ('airports,', 1), ('pipelines.\"', 1), ('10:00.,', 1), ('minutes!', 1), ('William', 1), ('F.', 1), ('Buckley', 1), ('prize,', 1), ('Review!\"', 1), ('criticize,', 1), ('lead.\"', 1), ('publication', 1), ('low.', 1), ('Sununu', 1), ('on-', 1), ('spewing', 1), ('info?', 1), ('Trump.\"', 1), ('birthday', 1), ('@jacknicklaus', 1), ('@AlisynCamerota', 1), ('Point', 1), ('early,', 1), ('expected!\"', 1), ('Low', 1), ('$80', 1), ('relax!', 1), ('sack', 1), ('WILL.', 1), ('arena', 1), ('Oklahoma.', 1), ('\"Wacko', 1), ('wanted.', 1), ('Glenn', 1), ('failing,', 1), ('crying,', 1), ('soul!\"', 1), ('wil', 1), ('\"Palin۪s', 1), ('gold', 1), ('faucets', 1), ('tower,\\u06dd', 1), ('Ralph', 1), ('Reed,', 1), ('chairman', 1), ('Coalition.\"', 1), ('.@FreeJesseJames-', 1), ('statement.', 1), ('allows', 1), ('writers', 1), ('fabricate', 1), ('\"Dope', 1), ('Bruni', 1), ('losers-true!', 1), ('@HowardStern', 1), ('loser-', 1), ('wreck!\"', 1), ('.@TheBrodyFile', 1), ('@AC360.', 1), ('assure', 1), ('Doubt!', 1), ('nervous.', 1), ('birth', 1), ('banks!', 1), ('controlled.', 1), ('$millions', 1), ('bosses.\"', 1), ('\"Far', 1), ('anymore!\"', 1), ('114', 1), ('jetliners', 1), ('them...but', 1), ('Airbus!\"', 1), ('prisoners.', 1), ('billion,', 1), ('list.', 1), ('create', 1), ('incentive', 1), ('\"Wow!', 1), ('$487K', 1), ('contributions,', 1), ('$11M', 1), ('mogul,', 1), ('int.', 1), ('Hypocrite\"', 1), ('file', 1), ('lending', 1), ('banks-', 1), ('pretend', 1), ('St', 1), ('contributions', 1), ('thru,', 1), ('hypocrites', 1), ('marriage,', 1), ('espouse', 1), ('marriage?\"', 1), ('purposely,', 1), ('illegally,', 1), ('personally', 1), ('guaranteed', 1), ('loan,', 1), ('Citi.', 1), ('banks', 1), ('Senate.\"', 1), ('wiseguy', 1), ('wifes', 1), ('employer,', 1), ('lender,', 1), ('located', 1), ('\"Was', 1), ('FORGOT', 1), ('file.', 1), ('Sachs', 1), ('owns', 1), ('demand.', 1), ('reformer!\"', 1), ('Lawsuits', 1), ('\"More', 1), ('ends!', 1), ('Strengthen', 1), ('correct.\"', 1), ('clown.', 1), ('credibility!', 1), ('Obama!\"', 1), ('.@GeraldoRivera', 1), ('Geraldo', 1), ('champion!', 1), ('embarrasses', 1), ('chances', 1), ('zero,', 1), ('quit', 1), ('O.\"', 1), ('acted', 1), ('sailors?', 1), ('humiliated.', 1), ('tiger.', 1), ('Wont', 1), ('capture', 1), ('sailors.', 1), ('Horrible', 1), ('images.', 1), ('forget!', 1), ('fails', 1), ('touches.', 1), ('campaign,his', 1), ('book,etc.', 1), ('airtime', 1), ('strategist,', 1), ('show?\"', 1), ('\"Sadly,', 1), ('erase', 1), ('eligibility.', 1), ('sue!\"', 1), ('toys', 1), ('ridiculously,', 1), ('billions', 1), ('\"Numerous', 1), ('history-I', 1), ('boring,', 1), ('rambling', 1), ('non-substantive', 1), ('OK!', 1), ('great.\"', 1), ('Cedar', 1), ('Falls,', 1), ('great--I', 1), ('advise', 1), ('impossibility.', 1), ('Mitt!', 1), ('forget', 1), ('disappointed!', 1), ('Nations', 1), ('\".@MajorCBS', 1), ('Garrett', 1), ('agenda,', 1), ('Harrison', 1), ('@Talkersmagazine', 1), ('wooed', 1), ('woo', 1), ('.@RinglingBros', 1), ('retiring', 1), ('elephants--', 1), ('circus', 1), ('4.6', 1), ('interview!', 1), ('survive,', 1), ('unethical!\"', 1), ('@KatiePavlich.', 1), ('immediately.', 1), ('much!', 1), ('hater', 1), ('@tavissmiley', 1), ('airtime?', 1), ('\"Union', 1), ('kicked', 1), ('starters,', 1), ('publisher!\"', 1), ('UL', 1), ('lows.', 1), ('worthy', 1), ('NH.', 1), ('agreed.', 1), ('behavior,', 1), ('isn۪t', 1), ('questionable', 1), ('enough,', 1), ('win.\"', 1), ('magazine!', 1), ('cover.', 1), ('watch...\"', 1), ('Nevada,', 1), ('numberd', 1), ('way:', 1), ('self-funding!', 1), ('protesting', 1), ('involved!', 1), ('Von', 1), ('Drehle', 1), ('\".@JonahNRO,', 1), ('unbelievably', 1), ('fun).', 1), ('houses.', 1), ('\"Pat', 1), ('Buchanan', 1), ('Pat,', 1), ('SC', 1), ('Fire', 1), ('Marshall', 1), ('in--', 1), ('coming!\"', 1), ('venue,', 1), ('traffic', 1), ('back-up,', 1), ('workers', 1), ('reps', 1), ('do!', 1), ('Crowd---', 1), ('\"Hank', 1), ('Greenberg,', 1), ('AIG,', 1), ('happy,', 1), ('amazing.\"', 1), ('wild!\"', 1), ('\"Joy', 1), ('Behar,', 1), ('lack', 1), ('@TheView.', 1), ('Barbara!\"', 1), ('@TheView', 1), ('@ABC,', 1), ('headed', 1), ('@BarbaraJWalters,', 1), ('freefall.', 1), ('Whoopi', 1), ('Goldberg', 1), ('.@SenTedCruz', 1), ('Ted--free', 1), ('pre-empt', 1), ('issue.', 1), ('court', 1), ('seek', 1), ('Declaratory', 1), ('Judgment--you', 1), ('Venue', 1), ('enough.', 1), ('Officials', 1), ('Man', 1), ('station.', 1), ('level.', 1), ('mess-big', 1), ('crime.', 1), ('GET', 1), ('SMART!', 1), ('Vermont,', 1), ('renounced', 1), ('citizenship', 1), ('\".@Macys', 1), ('performing', 1), ('stocks', 1), ('S&P', 1), ('plunging', 1), ('company.', 1), ('Boycott.\"', 1), ('stupid,', 1), ('desperate!\"', 1), ('5PM', 1), ('\"Huge', 1), ('come,', 1), ('serve.', 1), ('early!\"', 1), ('@SamuelLJackson۪s', 1), ('swing.', 1), ('athletic.', 1), ('club', 1), ('championships.', 1), ('Play', 1), ('charity!', 1), ('cheat', 1), ('@SamuelLJackson', 1), ('cheatswith', 1), ('choiceand', 1), ('commercials!', 1), ('migrants', 1), ('Years', 1), ('Eve', 1), ('THINK!', 1), ('@SamuelLJackson,', 1), ('played', 1), ('w/him', 1), ('commercialsboring.', 1), ('fan.\"', 1), ('\"Wow', 1), ('75,000', 1), ('10bad', 1), ('management.', 1), ('10,000', 1), ('\"Woody', 1), ('Johnson,', 1), ('NYJets,', 1), ('@JebBush۪s', 1), ('chairman.', 1), ('Woody', 1), ('w/me,', 1), ('playoffs,', 1), ('least!\"', 1), ('expected--we', 1), ('her.', 1), ('\"Iran,', 1), ('Saudi', 1), ('Arabia', 1), ('oil.', 1), ('THEY', 1), ('FOUND', 1), ('\".@RuthMarcus', 1), ('Nation.No', 1), ('focus,', 1), ('concentration-but', 1), ('lying\"', 1), ('LOST!', 1), ('@CBS', 1), ('disarm!', 1), ('\"Al-Shabbab,', 1), ('front-runner', 1), ('lied!\"', 1), ('D.T.', 1), ('degenerate.', 1), ('Later,', 1), ('@CBSNews\"', 1), ('overflowing', 1), ('interests-only', 1), ('U.S.A.!\"', 1), ('beware', 1), ('mere', 1), ('$$$$!\"', 1), ('starts', 1), ('hypocrite', 1), ('abused', 1), ('women!', 1), ('individual,', 1), ('ban', 1), ('WALL,', 1), ('vigilant!\"', 1), ('swamped!\"', 1), ('massive!', 1), ('begun.', 1), ('around!\"', 1), ('live,', 1), ('11:50', 1), ('HAPPY', 1), ('HEALTHY', 1), ('YEAR.', 1), ('WORK', 1), ('TOGETHER', 1), ('TO,', 1), ('FINALLY,', 1), ('Department,', 1), ('YEARS', 1), ('EVE,', 1), ('$63,000,000', 1), ('top.', 1), ('@hughhewitt\"', 1), ('@kimguilfoyle', 1), ('2016.', 1), ('tune', 1), ('lately,', 1), ('@seanhannity\"', 1), ('@UnionLeader.', 1), ('turmoil', 1), ('them-', 1), ('bully', 1), ('knocked', 1), ('exciting\"', 1), ('lunches,', 1), ('donations,', 1), ('tweets---very', 1), ('unethical.\"', 1), ('love,', 1), ('$59', 1), ('$35,000,000', 1), ('place).Now', 1), ('Iowa/N.H./S.C.\"', 1), ('.@jessebwatters', 1), ('terrible,', 1), ('\"Strange,', 1), ('allies', 1), ('triple', 1), ('\"Wages', 1), ('low,', 1), ('few,', 1), ('faith', 1), ('leaders.We', 1), ('gone,', 1), ('shipped', 1), ('middle-class', 1), ('dreamed', 1), ('BAD\"', 1), ('abuse,', 1), ('Virginias', 1), ('Straighten', 1), ('Stupid!', 1), ('\".@BernieSanders-who', 1), ('Lie!\"', 1), ('@ananavarro', 1), ('panels..and', 1), ('Poll:Trump', 1), ('39\"', 1), ('excluding', 1), ('doom', 1), ('IT!', 1), ('R.P.Virginia', 1), ('statewide', 1), ('row.', 1), ('Suicidal', 1), ('mistake.', 1), ('ACT', 1), ('begins,', 1), ('disallow', 1), ('independent,', 1), ('unaffiliated', 1), ('subjects.', 1), ('safe,', 1), ('do-no', 1), ('strength/stamina!\"', 1), ('categories.', 1), ('21', 1), ('pt.', 1), ('Lead', 1), ('airtime.', 1), ('pundits)', 1), ('Still', 1), ('Unfair', 1), ('staged', 1), ('pathetic.', 1), ('degraded', 1), ('card.', 1), ('39', 1), ('Likeability', 1), ('stamina,', 1), ('skill', 1), ('prosper', 1), ('incorrectly', 1), ('define', 1), ('definition', 1), ('schlonged', 1), ('meant', 1), ('Often', 1), ('37', 1), ('Drudge!\"', 1), ('\"Jebs', 1), ('pathetic!\"', 1), ('@secupp', 1), ('\".@JebBushs', 1), ('terrible--fumbled', 1), ('incoherent.\"', 1), ('\"Weak', 1), ('tries', 1), ('guy.\"', 1), ('\"@HerschelWalker,', 1), ('support-', 1), ('appreciated!\"', 1), ('there.', 1), ('@AndreaTantaros', 1), ('suicide', 1), ('bomber', 1), ('troops', 1), ('Afghanistan.', 1), ('slaughter!', 1), ('18,000,000.', 1), ('DEMOCRAT', 1), ('6,700,000.', 1), ('And', 1), ('vs.', 1), ('cable!\"', 1), ('Pageant.', 1), ('front-runner,', 1), ('2%.', 1), ('\".@MissUniverse', 1), ('@IMG.', 1), ('WATCH.\"', 1), ('strange', 1), ('spokesperson', 1), ('Therefore,', 1), ('LIED', 1), ('case!', 1), ('\".@jonkarl', 1), ('misled,', 1), ('nightmare-Jon', 1), ('doesnt!\"', 1), ('BUSH!', 1), ('remain', 1), ('.@MelindaDC', 1), ('ISIS--as', 1), ('you۪ll', 1), ('brilliantly', 1), ('@MelindaDC', 1), ('falsify.', 1), ('stamina.\"', 1), ('puppet,', 1), ('@ktmcfarland.', 1), ('interesting,', 1), ('brilliant.', 1), ('instinct', 1), ('do,', 1), ('follow!\"', 1), ('@davidaxelrod', 1), ('agree.', 1), ('PUBLIC', 1), ('POLICY', 1), ('POLLING', 1), ('IOWA.', 1), ('@DRUDGE_REPORT,', 1), ('@Slate', 1), ('\"Between', 1), ('monger', 1), ('@KarlRove,', 1), ('deadpan', 1), ('@GeorgezWill,', 1), ('International', 1), ('Hotel,', 1), ('fairly!\"', 1), ('scripts', 1), ('.@megynkelly', 1), ('41to14.', 1), ('41', 1), ('pt', 1), ('15!\"', 1), ('(2nd', 1), ('place).Dishonest', 1), ('13%,', 1), ('it\"', 1), ('38%.', 1), ('\"@oreillyfactor,', 1), ('@krauthammer.', 1), ('@hardball_chris', 1), ('appreciated.', 1), ('League', 1), ('Baseball', 1), ('@PeteRose_14', 1), ('Fame.', 1), ('accolade', 1), ('@TrumpGolf.', 1), ('Odyssey-', 1), ('awarded', 1), ('Monster', 1), ('redesign.', 1), ('finding', 1), ('solutions', 1), ('complex', 1), ('problems!', 1), ('disappointed', 1), ('caught,', 1), ('Well,', 1), ('fair.', 1), ('bashers,', 1), ('discuss.\"', 1), ('Course', 1), ('Duel', 1), ('Sun,', 1), ('renovation.\"', 1), ('NBC/Wall', 1), ('month', 1), ('\".@danawhite', 1), ('days,', 1), ('boring).', 1), ('Save', 1), ('@fox', 1), ('.@Peggynoonannyc', 1), ('history.', 1), ('2M.', 1), ('\".@Peggynoonannyc', 1), ('article,', 1), ('easily.', 1), ('\"Something', 1), ('defeat.', 1), ('loser\"', 1), ('10:O0', 1), ('-13', 1), ('33,', 1), ('20.', 1), ('trust', 1), ('poll-', 1), ('@DanaWhite', 1), ('UFC', 1), ('winner,', 1), ('ordered', 1), ('\".@Franklin_Graham,', 1), ('Carolina!\"', 1), ('.@loudobbsnews', 1), ('syndicated', 1), ('Michelle', 1), ('Malkin.', 1), ('both!', 1), ('PA', 1), ('Governor.', 1), ('Him', 1), ('commentary-', 1), ('listens!', 1), ('faulty', 1), ('Register/Bloomberg.', 1), ('somethings', 1), ('w/them.', 1), ('Up', 1), ('CNN.', 1), ('\".@chucktodd', 1), ('hopeless.', 1), ('particular,', 1), ('problem.\"', 1), ('rails.', 1), ('tuning', 1), ('\".@tedcruz', 1), ('doors', 1), ('easily!\"', 1), ('England', 1), ('territory,', 1), ('.@BernardGoldberg', 1), ('Respected', 1), ('margin-', 1), ('45', 1), ('40!', 1), ('@Franklin_Graham.', 1), ('courage,', 1), ('ever!\"', 1), ('ahead.', 1), ('won--he', 1), ('Kingdom', 1), ('disguise', 1), ('Muslim', 1), ('happening,', 1), ('honest.\"', 1), ('@Netanyahu', 1), ('date', 1), ('VISA', 1), ('broken,', 1), ('roof!\"', 1), ('\".@Megynkelly', 1), ('weird,', 1), ('crazy!\"', 1), ('conflicted', 1), ('@TheRickWilson', 1), ('I.Q.', 1), ('test.', 1), ('professionally', 1), ('Magazines', 1), ('Person', 1), ('Year.', 1), ('Time!', 1), ('bore', 1), ('audience', 1), ('loser', 1), ('gone!\"', 1), ('\".@secupp,', 1), ('Hard', 1), ('.@donlemon', 1), ('10:00,', 1), ('\".@Mayor_Nutter', 1), ('Philadelphia,', 1), ('me.Low', 1), ('STAMINA', 1), ('leader', 1), ('Poll-Trump!', 1), ('33%.', 1), ('Maggie', 1), ('Haberman,', 1), ('foolish', 1), ('acknowledge', 1), ('uncertainty', 1), ('FAST,', 1), ('Abdullah', 1), ('II,', 1), ('Jordan', 1), ('response', 1), ('report.\"', 1), ('\"Prior', 1), ('Israel.', 1), ('it.\"', 1), ('6:30.', 1), ('@BarbaraJWalters!', 1), ('@WNTonight', 1), ('correctly.', 1), ('margin,13', 1), ('big!\"', 1), ('Change', 1), ('@nytimes.', 1), ('vigilant!', 1), ('grateful', 1), ('end,', 1), ('Trump.The', 1), ('@amazon', 1), ('stock', 1), ('crash', 1), ('crumble', 1), ('bag.', 1), ('deduction)', 1), ('screw', 1), ('taxation', 1), ('@Amazon!', 1), ('shelter', 1), ('@washingtonpost,', 1), ('profit', 1), ('@amazon.\"', 1), ('\"N.Y.C.', 1), ('streets,', 1), ('homeless', 1), ('Disgrace\"', 1), ('heroes.', 1), ('sport', 1), ('about,', 1), ('who?', 1), ('profiling?\"', 1), ('@OANN', 1), ('Peter', 1), ('Roff', 1), ('NEWS', 1), ('W.R.', 1), ('(he', 1), ('it),', 1), ('WAR', 1), ('TERRORISTS.\"', 1), ('(like', 1), ('saying).', 1), ('\"Wish', 1), ('ISIL.\"', 1), ('is?', 1), ('2nd.', 1), ('Amendment!', 1), ('Oval', 1), ('odd!', 1), ('key.\"', 1), ('Islam!', 1), ('defeated.', 1), ('re-tweeting', 1), ('imaginative', 1), ('insightful', 1), ('(great)!', 1), ('stuff.\"', 1), ('NIGHT', 1), ('TWITTER', 1), ('TONIGHT.', 1), ('LIVE', 1), ('TWEETING', 1), ('OBAMAS', 1), ('SPEECH', 1), ('(', 1), ('EASTERN).', 1), ('TERRORISM!', 1), ('\"Gee,', 1), ('progress,', 1), ('George!\"', 1), ('prime-time', 1), ('(Eastern).Will', 1), ('problems?', 1), ('.@BrookslawBrooks', 1), ('Nation?\"', 1), ('phoner', 1), ('equipment', 1), ('hook', 1), ('Wonder', 1), ('TERRORIST?', 1), ('\"@Maddow,', 1), ('copied', 1), ('@KatyTurNBC', 1), ('courtesy.\"', 1), ('\"Raleigh,', 1), ('to,', 1), ('.@JRubinBlogger', 1), ('bloggers', 1), ('pieces', 1), ('Bernardino', 1), ('report?', 1), ('\".@marthamaccallum', 1), ('Martha,', 1), ('professional.', 1), ('Strategist', 1), ('career,', 1), ('Cheri', 1), ('Jacobus,', 1), ('incoherent', 1), ('died!\"', 1), ('Alisyn', 1), ('Camerota,', 1), ('Chalian', 1), ('Poll.\"', 1), ('36%,', 1), ('Thanks.\"', 1), ('Ave.', 1), ('schedule!\"', 1), ('foil', 1), ('Clintons.', 1), ('Questions', 1), ('advance.', 1), ('Schreckenger?', 1), ('construction.\"', 1), ('doctor', 1), ('issue,', 1), ('report-it', 1), ('perfection\"', 1), ('health,', 1), ('assets.The', 1), ('testify-great', 1), ('genes!\"', 1), ('Give', 1), ('due.', 1), ('silence', 1), ('bless.', 1), ('head.', 1), ('SHE', 1), ('OR', 1), ('STAMINA,', 1), ('-NOW!', 1), ('venue!', 1), ('objective.', 1), ('debates.\"', 1), ('\"Highly', 1), ('blogger,', 1), ('Jennifer', 1), ('Rubin,', 1), ('people?\"', 1), ('\"Jamiel', 1), ('Shaw', 1), ('pop!\"', 1), ('Macon', 1), ('Meeting', 1), ('Pastors', 1), ('followed.', 1), ('preservation,', 1), ('#s.', 1), ('DemsI', 1), ('Christie', 1), ('NJ,', 1), ('deeply', 1), ('troubled,', 1), ('NH?', 1), ('Jerseyans', 1), ('fest,', 1), ('negativity', 1), ('negatives!\"', 1), ('commentators', 1), ('Errol', 1), ('Louis,', 1), ('also.\"', 1), ('@MariaTCardona', 1), ('@ThisWeekABC.', 1), ('kooky', 1), ('Cokie', 1), ('are.', 1), ('pastors,', 1), ('Pastors.', 1), ('know-wonderful', 1), ('Cookie', 1), ('@ABC.', 1), ('crowd.So', 1), ('becoming', 1), ('chanting', 1), ('MOVEMENT!\"', 1), ('McEnany', 1), ('often!', 1), ('Virtually', 1), ('no-one', 1), ('Sarasota', 1), ('pulled-back', 1), ('retracted', 1), ('goal', 1), ('mind:', 1), ('balanced', 1), ('articles,', 1), ('today2!\"', 1), ('like.', 1), ('groveling', 1), ('ago!\"', 1), ('Happy', 1), ('dismal,', 1), ('revenue,', 1), ('institution-SAD!\"', 1), ('decade,', 1), ('write.', 1), ('Incompetent!\"', 1), ('Globe', 1), ('$1.3', 1), ('$1.00.', 1), ('headquarters-gave', 1), ('away!', 1), ('managed', 1), ('unfunded', 1), ('liabilities-big', 1), ('survival', 1), ('dump', 1), ('Rove.', 1), ('analyst', 1), ('mistakes.', 1), ('dope!', 1), ('energy!\"', 1), ('VanderSloot', 1), ('Last', 1), ('victim', 1), ('Sean,', 1), ('Myrtle', 1), ('crowdso', 1), ('relying', 1), ('elections.', 1), ('Columbus', 1), ('14,000', 1), ('unfairlybig', 1), ('wasn۪t', 1), ('Columbus,', 1), ('thousands.', 1), ('silent!\"', 1), ('@JeffHorwitz', 1), ('face.', 1), ('extremely', 1), ('relevancyain۪t', 1), ('working!', 1), ('\".@MatthewJDowd', 1), ('@BarbaraJWalters.', 1), ('things.', 1), ('at!\"', 1), ('TERRORISTS,', 1), ('jeopardy!\"', 1), ('Southern', 1), ('Border.', 1), ('@GStephanopoulos.', 1), ('.@GStephanopoulos', 1), ('shown', 1), ('@Reuters', 1), ('operation', 1), ('.ccolvinj', 1), ('reporters---working', 1), ('organization', 1), ('Stories', 1), ('fictional', 1), ('\".@heytana,', 1), ('dinner.', 1), ('Next', 1), ('there-', 1), ('theyll', 1), ('huge', 1), ('Nolte', 1), ('funds', 1), ('Birmingham,', 1), ('$1,000', 1), ('waste!\"', 1), ('\"Were', 1), ('mayor', 1), ('survive!\"', 1), ('\".@Gracematters', 1), ('wishes.\"', 1), ('database-a', 1), ('surveillance,', 1), ('America\"', 1), ('\".@mkhammer,', 1), ('contributor,', 1), ('@TheJuanWilliams', 1), ('SRO', 1), ('yesterday!\"', 1), ('denigrate', 1), ('levels', 1), ('drawn', 1), ('degenerates,', 1), ('masterminds!\"', 1), ('peoples', 1), ('failure!\"', 1), ('\"Once', 1), ('opened', 1), ('mouth,', 1), ('dud!\"', 1), ('Shame!\"', 1), ('Doesn۪t', 1), ('last.', 1), ('rip', 1), ('Kasich.\"', 1), ('easyhe', 1), ('last!\"', 1), ('$6', 1), ('squirm', 1), ('truthful', 1), ('money.\"', 1), ('image,', 1), ('\"Governor', 1), ('$2.5', 1), ('ABC.', 1), ('\"Everyone', 1), ('Paris,', 1), ('they۪re', 1), ('bandwagon.\"', 1), ('skipped', 1), ('BORINGhe', 1), ('forgot!', 1), ('proponent', 1), ('catastrophes,', 1), ('much.', 1), ('\"Broken', 1), ('biased!\"', 1), ('maybe?', 1), ('BEAUTIFUL', 1), ('severely', 1), ('consultants.', 1), ('Much,', 1), ('much,', 1), ('\".@AP', 1), ('inaccurate.', 1), ('Sadly,', 1), ('irrelevant!\"', 1), ('saddest', 1), ('journalism', 1), ('credible.', 1), ('Refugees', 1), ('insane?', 1), ('\"I,', 1), ('confidence', 1), ('attitude-a', 1), ('resigned', 1), ('defeat\"', 1), ('read!', 1), ('Knoxville,', 1), ('Tennessee!', 1), ('matter.\"', 1), ('insists', 1), ('strong!', 1), ('shares', 1), ('shirts', 1), ('(ISIS', 1), ('source', 1), ('wealth)', 1), ('scoffed,', 1), ('oil.\"', 1), ('\"Tom', 1), ('question,', 1), ('BEST', 1), ('quarterback!\"', 1), ('strikes', 1), ('been.', 1), ('\".@JohnLegere', 1), ('@TMobile', 1), ('John,', 1), ('service', 1), ('terrible!', 1), ('hiring', 1), ('managers.\"', 1), ('@RondaRousey', 1), ('championship', 1), ('sloppy', 1), ('Graydon', 1), ('Carter', 1), ('Spy', 1), ('@VanityFair', 1), ('Magazine.', 1), ('\".@VanityFair', 1), ('allure!\"', 1), ('TERRORISM?', 1), ('solved!\"', 1), ('think!\"', 1), ('10%', 1), ('(it', 1), ('20%)', 1), ('51%.\"', 1), ('well,', 1), ('stage?', 1), ('OMalley', 1), ('clown.\"', 1), ('Terrorism?', 1), ('death,', 1), ('tougher,', 1), ('smarter', 1), ('attacks.', 1), ('May', 1), ('\".@seanhannity', 1), ('dead,', 1), ('salvage', 1), ('hope!', 1), ('Sad.\"', 1), ('inject', 1), ('factual', 1), ('breathe', 1), ('campaign!', 1), ('Putinnever', 1), ('Green', 1), ('Room.', 1), ('Separate', 1), ('piecesgreat', 1), ('temper', 1), ('disease.', 1), ('Apology?\"', 1), ('CarlyI', 1), ('graduate', 1), ('Wharton', 1), ('checker?', 1), ('apologize?', 1), ('chance\\u06dd', 1), ('quite', 1), ('pres.', 1), ('Immigration,', 1), ('pathway', 1), ('citizenship.\"', 1), ('edition', 1), ('paper?', 1), ('TPP.', 1), ('moron', 1), ('campaigns', 1), ('\"We,', 1), ('dont.', 1), ('BORDERS,', 1), ('COUNTRY!\"', 1), ('clarification', 1), ('poorly!', 1), ('wrong,', 1), ('often.', 1), ('pub.', 1), ('debate.\"', 1), ('apologize.', 1), ('later.', 1), ('Todays', 1), ('WRONG', 1), ('latter', 1), ('door.', 1), ('@marklevinshow', 1), ('8PM', 1), ('\".@gerardtbaker', 1), ('Gerardwonderful', 1), ('elegant.\\u06dd\"', 1), ('date.', 1), ('there--special', 1), ('Day.', 1), ('served,', 1), ('work.\"', 1), ('debate...won', 1), ('moderators', 1), ('outstanding', 1), ('AMERICA:', 1), ('Again.', 1), ('Doing', 1), ('Christmas', 1), ('present!', 1), ('sweat', 1), ('chugging', 1), ('water.', 1), ('hire', 1), ('politician!', 1), ('@DonaldJTrumpJr.', 1), ('Live.', 1), ('.@EricShawnonFox', 1), ('Highest', 1), ('Miley', 1), ('Cyrus.', 1), ('Television', 1), ('2011.', 1), ('protesters!', 1), ('Dickerson.', 1), ('.@nbcsnl', 1), ('Live!', 1), ('tonights', 1), ('Off', 1), ('store', 1), ('authentic!', 1), ('.@RobertGBeckel', 1), ('Seems', 1), ('character!', 1), ('rankings,', 1), ('\"Would', 1), ('@jmartNYT', 1), ('learned', 1), ('purpose,', 1), ('\"@BillKristol', 1), ('go,', 1), ('Pipeline.', 1), ('Thousands', 1), ('environment,', 1), ('downside!\"', 1), ('@BillyGraham.', 1), ('Billy!\"', 1), ('.@AJDelgado13', 1), ('support--really', 1), ('ideas', 1), ('ideaand', 1), ('fairto', 1), ('include', 1), ('@GovChristie', 1), ('@MikeHuckabeeGOP', 1), ('solid', 1), ('guys.', 1), ('hammer,', 1), ('stab', 1), ('Pyramids', 1), ('grain', 1), ('storage', 1), ('it?\"', 1), ('Ethics', 1), ('Advocate', 1), ('Said', 1), ('card!', 1), ('Sure.', 1), ('FIRST', 1), ('tabulation', 1), ('determining', 1), ('fabrication', 1), ('worse-trying', 1), ('stabbing', 1), ('friend!\"', 1), ('planned!', 1), ('(I.B.D.)', 1), ('.@CharlesGKoch', 1), ('cratered.', 1), ('Rubio--next', 1), ('fail.', 1), ('7:50.', 1), ('America.\"', 1), ('.@CharlesMBlow', 1), ('ancient', 1), ('tiny', 1), ('bit', 1), ('Higbie', 1), ('(former', 1), ('Seal)', 1), ('Administration-a', 1), ('mess!Great', 1), ('@kilmeade', 1), ('\".@Morning_Joe:', 1), ('looking?\"', 1), ('@BreitbartNews', 1), ('ripped', 1), ('block', 1), ('imports', 1), ('XM', 1), ('RADIO,', 1), ('Show,', 1), ('(Monday)', 1), ('@BreitbartNews\"', 1), ('messages,', 1), ('clear:', 1), ('competent', 1), ('skirmish', 1), ('delivered!', 1), ('other.', 1), ('ambitious', 1), ('mentor!', 1), ('\"Further', 1), ('Singers,', 1), ('Amnesty,', 1), ('endorsement.Rubs', 1), ('win\"', 1), ('trail.', 1), ('talented.', 1), ('Few', 1), ('@FortuneMagazine', 1), ('Tell', 1), ('Alisa', 1), ('Soloman', 1), ('setting', 1), ('James', 1), ('Freeman', 1), ('(3rd).', 1), ('Explain', 1), ('Daniel', 1), ('Henninger!', 1), ('\"Support', 1), ('Kennedy', 1), ('players,', 1), ('pray', 1), ('field.', 1), ('Institute', 1), ('suspended', 1), ('\".@ColinCowherd', 1), ('@TheHerd,', 1), ('(2:30pm', 1), ('EST).\"', 1), ('Lifting', 1), ('Norfolk.', 1), ('ya', 1), ('so-@politico', 1), ('Poor', 1), ('legit,', 1), ('Norfolk,', 1), ('battleship', 1), ('recount', 1), ('(just', 1), ('kidding!).', 1), ('EVERY', 1), ('\"Black', 1), ('Matter', 1), ('looked', 1), ('lost.', 1), ('CHINA,', 1), ('abolish,', 1), ('weak!\"', 1), ('talked', 1), ('dismantling', 1), ('Carson.\"', 1), ('.@GovMikeHuckabee', 1), ('Class!', 1), ('daughter,', 1), ('@IvankaTrump.\"', 1), ('@CharlesHurt', 1), ('@seanhannity.', 1), ('Harwood', 1), ('bombed!', 1), ('stuff', 1), ('@politico.', 1), ('around?', 1), ('Some', 1), ('reporters.\"', 1), ('40%+', 1), ('\"Join', 1), ('Tuesday,', 1), ('Nov.', 1), ('12pm', 1), ('NYC.', 1), ('signing', 1), ('AMERICA.', 1), ('.@SpeakerRyan', 1), ('U.S.A.!', 1), ('\"Failing', 1), ('host', 1), ('@glennbeck,', 1), ('basketcase,', 1), ('SUPERPACS', 1), ('Nevada.\"', 1), ('considered', 1), ('slanted', 1), ('sites.', 1), ('Losers!', 1), ('\"Thanks,', 1), ('@PiersMorgan.', 1), ('Poll!\"', 1), ('TOTAL:', 1), ('25.22', 1), ('19.78', 1), ('9.67....', 1), ('\".@TheEconomist', 1), ('respected,', 1), ('digests', 1), ('fictitious', 1), ('corrected', 1), ('sometime', 1), ('prior', 1), ('.@Morning_Joe', 1), ('Kasie', 1), ('Hunts', 1), ('scam!', 1), ('fictious', 1), ('Number', 1), ('statistic,', 1), ('margin).', 1), ('auditorium', 1), ('(rally).\"', 1), ('@BillKristol,', 1), ('picks,', 1), ('disavow', 1), ('PAC۪s.', 1), ('Theyre', 1), ('breaking', 1), ('Re', 1), ('scam:', 1), ('Social', 1), ('Security.', 1), ('Hampshire:', 1), ('12!\"', 1), ('overrun!\"', 1), ('cares,', 1), ('Motor,', 1), ('badgering', 1), ('events,', 1), ('cancel', 1), ('.@ByronYork', 1), ('ABC-Washington', 1), ('ABCWashington', 1), ('.@CBSNews', 1), ('38%', 1), ('12%', 1), ('23%', 1), ('POLLS', 1), ('which,', 1), ('report!\"', 1), ('@CBSNews.', 1), ('A.M.,', 1), ('Nation.\"', 1), ('(well,', 1), ('nurse).', 1), ('do.\"', 1), ('spell', 1), ('differences', 1), ('Nation.', 1), ('Doubt', 1), ('disarray,', 1), ('GOVT.\"', 1), ('place?\"', 1), ('slashing', 1), ('finances?\"', 1), ('spends', 1), ('bloated', 1), ('@JakeTapper', 1), ('Tough', 1), ('answers!', 1), ('Jacksonville,', 1), ('Incredible', 1), ('noon!', 1), ('Miami.', 1), ('ballroom.', 1), ('Jacksonville!', 1), ('intern', 1), ('accidentally', 1), ('Retweet', 1), ('apologizes.', 1), ('Personally,', 1), ('bad.\"', 1), ('32', 1), ('spin', 1), ('one?\"', 1), ('announcing', 1), ('Herald/Franklin', 1), ('Pierce', 1), ('28', 1), ('(up', 1), ('10)', 1), ('surging!', 1), ('.@GMA', 1), ('.@seanhannity', 1), ('41%', 1), ('Consult.', 1), ('Globe,', 1), ('Monmouth,', 1), ('More!\"', 1), ('hope).', 1), ('\"Both', 1), ('Aberdeen', 1), ('Doonbeg', 1), ('Dunes', 1), ('toy', 1), ('comparison!\"', 1), ('again.Jeb', 1), ('soft-we', 1), ('sharper', 1), ('cold', 1), ('freeze,', 1), ('normal.', 1), ('Man,', 1), ('dose', 1), ('warming!\"', 1), ('re-broadcast', 1), ('Journal,', 1), ('particular', 1), ('Lane!\"', 1), ('Turn', 1), ('minutes,', 1), ('Replay', 1), ('Chris!', 1), ('apologetic', 1), ('Minds', 1), ('critical', 1), ('.@FoxNewsSunday', 1), ('\"Jeb,', 1), ('destabalize', 1), ('destruction?', 1), ('info?\"', 1), ('(kidding)!', 1), ('shortcomings', 1), ('hard!\"', 1), ('9:00A.M.', 1), ('location)', 1), ('numbers!', 1), ('location).', 1), ('\".@HillaryClinton', 1), ('pic!\"', 1), ('\".@KatrinaPierson,', 1), ('representation!\"', 1), ('you۪re', 1), ('brother۪s', 1), ('\".@JebBush,', 1), ('safe-', 1), ('WTC', 1), ('9/11.\"', 1), ('.@scottienhughes', 1), ('Scottie.', 1), ('.@EricTrump', 1), ('FANTASTIC', 1), ('agreed', 1), ('TWO', 1), ('HOURS.', 1), ('watching!\"', 1), ('stuff.', 1), ('watch\"', 1), ('.@marcthiessen', 1), ('speechwriter', 1), ('comeback.', 1), ('\"Megyn', 1), ('puppets,', 1), ('Marc', 1), ('Threaten', 1), ('Bushy)', 1), ('exactly', 1), ('@bloombergtv', 1), ('@sruhle.', 1), ('.@CNBC', 1), ('extra', 1), ('criteria)', 1), ('commercials.', 1), ('@OReillyFactor.', 1), ('11pm', 1), ('Tyler', 1), ('song', 1), ('Tyler۪s', 1), ('song,', 1), ('Richmond,', 1), ('there.\"', 1), ('proved', 1), ('B\\u06dd', 1), ('nightget', 1), ('gentle', 1), ('soft!\"', 1), ('compare', 1), ('OAN.', 1), ('wow!', 1), ('\"Sorry,', 1), ('STAR', 1), ('vote,', 1), ('scripted', 1), ('rehearsed,', 1), ('(at', 1), ('least)', 1), ('stage.\"', 1), ('\"OMalley,', 1), ('Baltimore,', 1), ('chance.\"', 1), ('Chafee', 1), ('president?', 1), ('learn', 1), ('at_1%', 1), ('knows,', 1), ('(unlikely)\"', 1), ('plant\\u06dd', 1), ('NH?\"', 1), ('arrogant', 1), ('questioned', 1), ('fashion', 1), ('Labels', 1), ('staffer!', 1), ('HOW', 1), ('CAN', 1), ('BEAT', 1), ('CHINA?', 1), ('Sheldon', 1), ('Adelson', 1), ('mold', 1), ('perfect', 1), ('puppet.', 1), ('agree!', 1), ('\"Someone', 1), ('graphics,', 1), ('Debate,', 1), ('(s)', 1), ('D!\"', 1), ('\"At', 1), ('twitter!\"', 1), ('10PM', 1), ('CLIMATE', 1), ('disasters!\"', 1), ('(CBS)', 1), ('Buzz', 1), ('(Fox', 1), ('News)', 1), ('amazing!', 1), ('\"Little', 1), ('Barry', 1), ('Diller,', 1), ('Newsweek', 1), ('Beast,', 1), ('figure.', 1), ('weekend,', 1), ('@ThisWeekABC,', 1), ('Wallace.\"', 1), ('@JDickerson', 1), ('EST.', 1), ('.@ThisWeekABC', 1), ('interview.', 1), ('.@ChuckTodd', 1), ('@MeetthePress', 1), ('Congrats!', 1), ('choice,', 1), ('(very)', 1), ('Center.', 1), ('@FacetheNation', 1), ('10AM', 1), ('CBS.', 1), ('@johndickerson', 1), ('pro!', 1), ('@Politico,', 1), ('outlets,', 1), ('fortune.', 1), ('scum!\"', 1), ('ground.', 1), ('necessary.', 1), ('life---', 1), ('it\\u06dd', 1), ('factor.', 1), ('fade', 1), ('(D.C.)', 1), ('works!', 1), ('else.', 1), ('Kevin', 1), ('McCarthy', 1), ('drops', 1), ('SPEAKER', 1), ('job!\"', 1), ('Intl', 1), ('tallest/most', 1), ('town.', 1), ('Treasure', 1), ('Island', 1), ('(12', 1), ('noon)\"', 1), ('overflow', 1), ('@EWErickson', 1), ('Red', 1), ('tweets,', 1), ('youll', 1), ('why.', 1), ('trouble.', 1), ('Unlike', 1), ('irrelevantglad', 1), ('show.\"', 1), ('Wacky', 1), ('(worse', 1), ('Boehner)', 1), ('show--a', 1), ('nut', 1), ('won!', 1), ('Rockingham', 1), ('Booth', 1), ('Straw', 1), ('Deerfield', 1), ('Fair', 1), ('39%', 1), ('---Wow!', 1), ('clowns', 1), ('Waterloo,', 1), ('Arrogant', 1), ('zero!\"', 1), ('confronted', 1), ('gunman,', 1), ('victims.', 1), ('meremember', 1), ('dollarsI', 1), ('nototal', 1), ('frauds!', 1), ('\".@WayneNewtonMrLV', 1), ('Wayne,', 1), ('pleasant', 1), ('surprise--so', 1), ('nice.', 1), ('7:03', 1), ('forget,', 1), ('together,', 1), ('\"Political', 1), ('strategist', 1), ('Stevens,who', 1), ('tubes', 1), ('victory,has', 1), ('instincts!\"', 1), ('floods', 1), ('affecting', 1), ('comprehension.', 1), ('U.S.A.,', 1), ('asking,', 1), ('out?', 1), ('troublemakers,', 1), ('Tennessee', 1), ('10am', 1), ('@MeetThePress', 1), ('@NBC.', 1), ('Marie', 1), ('@MontesKitchen', 1), ('Dutchess', 1), ('(Amenia.)', 1), ('food!\"', 1), ('Nashville,', 1), ('Tennessee,', 1), ('(Saturday)', 1), ('storm,', 1), ('Roseburg,', 1), ('Oregon,', 1), ('shootings.\"', 1), ('Repub', 1), ('Shouldve', 1), ('wonhe', 1), ('10PM.', 1), ('senator', 1), ('Lazy!', 1), ('position', 1), ('racehe', 1), ('1%--his', 1), ('Prediction:', 1), ('him--', 1), ('1%!', 1), ('4)', 1), ('19', 1), ('year---', 1), ('@OutFrontCNN', 1), ('@ErinBurnett', 1), ('reductions', 1), ('topics.', 1), ('11AM', 1), ('@TrumpTowerNY.', 1), ('fairly!', 1), ('crashed.\"', 1), ('Oklahoma---', 1), ('@cbs', 1), ('@60minutes', 1), ('honor--', 1), ('.....Has', 1), ('attendance', 1), ('Senate-', 1), ('rarely', 1), ('bill!', 1), ('.@MarcoRubio', 1), ('country.....', 1), ('none', 1), ('Fox,', 1), ('CNN,', 1), ('Zogby,', 1), ('matter.', 1), ('Serious', 1), ('haters.\"', 1), ('Avenue', 1), ('hotel.', 1), ('Soon', 1), ('Fair!', 1), ('.....Ahead', 1), ('budget!', 1), ('reception', 1), ('Values', 1), ('Summit.', 1), ('checking', 1), ('Office...', 1), ('plainly', 1), ('1st.\"', 1), ('Worst', 1), ('Sen.\"', 1), ('outlet,', 1), ('\".@politico,', 1), ('outlets---', 1), ('something.\"', 1), ('media۪s', 1), ('efforts,', 1), ('loudly', 1), ('clearly.', 1), ('@IvankaTrump۪s', 1), ('spring.', 1), ('Congratulations!', 1), ('owes', 1), ('clueless', 1), ('Unheard', 1), ('of!', 1), ('Incompetent', 1), ('FCC', 1), ('foreseeable', 1), ('\".@JuliInkster', 1), ('win--what', 1), ('captain,', 1), ('champion!\"', 1), ('featured', 1), ('guest', 1), ('season', 1), ('opener', 1), ('birther', 1), ('goes', 1), ('sexist.', 1), ('overrated!', 1), ('\"2016', 1), ('32,', 1), ('12,', 1), ('11,', 1), ('FIORINA', 1), ('6,', 1), ('5.', 1), ('debate\"', 1), ('.@RichLowry', 1), ('\".@oreillyfactor,', 1), ('knowledgeable', 1), ('Boring!\"', 1), ('.@oreillyfactor', 1), ('refusing', 1), ('NBC.', 1), ('wellhe۪s', 1), ('smaller.', 1), ('\"Carly', 1), ('Lucent', 1), ('HP,', 1), ('destroying', 1), ('companies,', 1), ('CEO', 1), ('offer!', 1), ('Pres.\"', 1), ('attracting', 1), ('far.', 1), ('next,', 1), ('11%.\"', 1), ('Boxer', 1), ('California!', 1), ('10:30.', 1), ('releasing', 1), ('well-who', 1), ('knows?\"', 1), ('ya!', 1), ('\"Christians', 1), ('world),', 1), ('liberty', 1), ('stake!', 1), ('horrible,', 1), ('challenged', 1), ('accused', 1), ('interfering', 1), ('mans', 1), ('situation!\"', 1), ('rescue?', 1), ('controversy', 1), ('morally', 1), ('obligated', 1), ('him?', 1), ('\"GIVE', 1), ('ITS', 1), ('DREAM!', 1), ('Lupica', 1), ('@NYDailyNews.', 1), ('ever.', 1), ('flowers', 1), ('note?\"', 1), ('Brady,', 1), ('Ditka,', 1), ('champions', 1), ('supportive!\"', 1), ('Arnold', 1), ('profits!\"', 1), ('honor,', 1), ('\".@rushlimbaugh', 1), ('Rush,', 1), ('property', 1), ('(big', 1), ('creator)', 1), ('fantastic--thanks!\"', 1), ('good#1', 1), ('Spectacular', 1), ('arena!', 1), ('@mcuban.', 1), ('.@club4growth', 1), ('million.', 1), ('no.', 1), ('class.', 1), ('taxesjust', 1), ('lie.\"', 1), ('IOWA', 1), ('5:30', 1), ('friends!', 1), ('Enough!', 1), ('Join', 1), ('@V4SA', 1), ('@USSIOWA', 1), ('Waterfront', 1), ('military!', 1), ('bosses--lobbyists', 1), ('donors--are', 1), ('damage.', 1), ('fail!', 1), ('Money', 1), ('drain!', 1), ('fans,', 1), ('longerbut', 1), ('equal', 1), ('(presidential', 1), ('run)', 1), ('prohibits', 1), ('Love!\"', 1), ('@Schwarzenegger', 1), ('season۪s', 1), ('Celebrity', 1), ('Hell', 1), ('charity.', 1), ('registers', 1), ('stage?\"', 1), ('Trice', 1), ('Stadium!', 1), ('\"Too', 1), ('11th,', 1), ('@RealClearNews,', 1), ('participate.\"', 1), ('understood', 1), ('appeal', 1), ('Ron', 1), ('Paul,', 1), ('@RandPaul,', 1), ('gene.\"', 1), ('Kentucky---', 1), ('.@mercedesschlapp', 1), ('well-', 1), ('.@robertjeffress', 1), ('NBC۪s', 1), ('half', 1), ('lawsuits', 1), ('tuned!', 1), ('heroes', 1), ('tragic', 1), ('wow,', 1), ('@BobbyJindal,', 1), ('registered', 1), ('percent', 1), ('hair.', 1), ('original!\"', 1), ('\"Also,', 1), ('Boone', 1), ('Ames.', 1), ('newsthe', 1), ('outI', 1), ('Jimmy', 1), ('Fallon', 1), ('11:30.', 1), ('....', 1), ('him_.', 1), ('RECORD', 1), ('(am', 1), ('this)', 1), ('group,', 1), ('swipe', 1), ('unpleasant', 1), ('Nuke', 1), ('\"Man', 1), ('bus', 1), ('@colbertlateshow', 1), ('Jeb۪s', 1), ('collapse.', 1), ('Right', 1), ('Brotherswow!', 1), ('adsdesperate!', 1), ('@IngrahamAngle', 1), ('DC:', 1), ('Front', 1), ('Lawn', 1), ('Capitol.', 1), ('believable', 1), ('tomorrowbig', 1), ('(1:00', 1), ('Capitol)', 1), ('insane', 1), ('nuke', 1), ('DALLAS', 1), ('Building', 1), ('oclock.', 1), ('Sept.14', 1), ('Center\"', 1), ('Tea', 1), ('\".@club4growth', 1), ('$1,000,000.', 1), ('operation?\"', 1), ('Wednesday,1', 1), ('P.M.,in', 1), ('Capitol,', 1), ('Iran.\"', 1), ('vision,', 1), ('Barack,', 1), ('clue!\"', 1), ('Growth,', 1), ('hypocrites!\"', 1), ('(gals)', 1), ('reduce', 1), ('class!', 1), ('\"By', 1), ('donors,', 1), ('lobbyists.', 1), ('U.S.!\"', 1), ('money.100%', 1), ('CONTROLLED\"', 1), ('teleprompter...but', 1), ('emotion,', 1), ('speeches!\"', 1), ('teleprompter', 1), ('seen.', 1), ('glass,', 1), ('black\"', 1), ('(American', 1), ('Center)', 1), ('filling', 1), ('\".@MeghanMcCain', 1), ('@TheFive', 1), ('Angry', 1), ('obnoxious,', 1), ('victory-', 1), ('anymore!', 1), ('\".@brithume,', 1), ('this-thanks\"', 1), ('\".@kevinolearytv', 1), ('thx', 1), ('intelligently', 1), ('$1,000,000,', 1), ('nasty.What', 1), ('been\"', 1), ('N.Y.C.', 1), ('contribution.', 1), ('BIG.If', 1), ('hater,', 1), ('races.', 1), ('\"I۪m', 1), ('contributionsfeel', 1), ('Pacs,', 1), ('attack\\u06dd', 1), ('u', 1), ('them\"', 1), ('everyone--we', 1), ('topped', 1), ('Twitter--and', 1), ('bosses\\u06dd', 1), ('owners\\u06dd', 1), ('funding.\"', 1), ('hit\\u06dd', 1), ('Yet', 1), ('sink', 1), ('(PPP', 1), ('result)', 1), ('margin', 1), ('150', 1), ('contain', 1), ('classified', 1), ('information.', 1), ('sensitive', 1), ('Sec.of', 1), ('Mt.', 1), ('McKinley', 1), ('Denali', 1), ('100', 1), ('insult', 1), ('works,', 1), ('fence', 1), ('White', 1), ('House?', 1), ('Foolish', 1), ('\"Huma', 1), ('Abedin,', 1), ('aide', 1), ('perv', 1), ('sleazebag', 1), ('Wiener,', 1), ('collector', 1), ('info\"', 1), ('\"Leading', 1), ('Bloomberg', 1), ('favorability', 1), ('clip.', 1), ('straw', 1), ('quit!\"', 1), ('Massachusetts.', 1), ('2000', 1), ('record!', 1), ('AGAIN.', 1), ('Network.', 1), ('Tony.', 1), ('@tperkins', 1), ('(@EricCantor)', 1), ('Congress?', 1), ('.@BenFergusonShow', 1), ('comments.', 1), ('@heytana.', 1), ('places.\"', 1), ('.@KatrinaCampins', 1), ('@CNN!', 1), ('.@DennisDMZ', 1), ('whatever.', 1), ('Thanks!', 1), ('@BillKristol.', 1), ('@LindseyGrahamSC.', 1), ('SCfar', 1), ('nationally.', 1), ('You۪re', 1), ('26', 1), ('pts', 1), ('\".@GovernorPataki', 1), ('landslide.', 1), ('polls\"', 1), ('Asians', 1), ('offended', 1), ('applies', 1), ('hispanics.', 1), ('uses', 1), ('advertising,', 1), ('signage,', 1), ('materials', 1), ('BUSH?', 1), ('pretty', 1), ('situation.', 1), ('Jeb!\"', 1), ('@megynkelly.', 1), ('eleven', 1), ('unscheduled', 1), ('vacation!', 1), ('vacation,', 1), ('game.', 1), ('afraid', 1), ('confront', 1), ('Cornel', 1), ('West.', 1), ('immigration!\"', 1), ('Markets', 1), ('crashing', 1), ('planning', 1), ('dictate', 1), ('messy!', 1), ('stated,', 1), ('market', 1), ('U.S.A.\"', 1), ('32%,', 1), ('yet.The', 1), ('photoshopped', 1), ('body.', 1), ('core,', 1), ('thing.\"', 1), ('border,', 1), ('politicians!\"', 1), ('microphone?', 1), ('discriptive', 1), ('inaccurately', 1), ('source,', 1), ('distort', 1), ('truth!\"', 1), ('\"Alabama', 1), ('season.', 1), ('\".@jessebwatters,', 1), ('Dow', 1), ('dives', 1), ('500', 1), ('9%', 1), ('careful!', 1), ('Mobile,', 1), ('\"Boston', 1), ('passion,', 1), ('respect.', 1), ('condone', 1), ('violence.\"', 1), ('7.5%', 1), ('births', 1), ('immigrants,', 1), ('Unaffordable', 1), ('right!\"', 1), ('shine', 1), ('glorious', 1), ('.@WNTonight', 1), ('fed-up', 1), ('sake', 1), ('sensationalizing', 1), ('.@TomLlamasABC', 1), ('truthfully.', 1), ('Tonight.Gang', 1), ('criminals', 1), ('together!\"', 1), ('.@MarkSteynOnline', 1), ('XL', 1), ('pipeline.', 1), ('impact', 1), ('environment', 1), ('\".@jasondhorowitz', 1), ('sister,', 1), ('foreigners', 1), ('colleges', 1), ('countryto', 1), ('Silicon', 1), ('Valley', 1), ('engineers,', 1), ('\"Listening', 1), ('@rushlimbaugh', 1), ('Jury', 1), ('Duty.', 1), ('head?', 1), ('forget.\"', 1), ('\".@NicolleDWallace', 1), ('father', 1), ('therefore,', 1), ('IOWA,', 1), ('down!\"', 1), ('rides', 1), ('kids.', 1), ('\"Making', 1), ('DROPPED', 1), ('Presthe', 1), ('Greenblatt', 1), ('GREAT!', 1), ('hour.', 1), ('\".@SenTedCruz', 1), ('Paul.\"', 1), ('.@ericbolling', 1), ('plan?', 1), ('Rampant', 1), ('weird', 1), ('reminds', 1), ('spoiled', 1), ('brat', 1), ('functioning', 1), ('brain.', 1), ('DEBATE!', 1), ('\"Again,', 1), ('fatal', 1), ('bludgeoning', 1), ('64', 1), ('WALL!\"', 1), ('\".@KatrinaCampins', 1), ('\".@BrandenRoderick', 1), ('media.Im', 1), ('person\"', 1), ('.@OMAROSA', 1), ('friend!', 1), ('Roger', 1), ('Ailes', 1), ('called.', 1), ('assures', 1), ('Trump\\u06dd', 1), ('\".@KathieLGifford,', 1), ('condolences.', 1), ('@TODAY', 1), ('Gifford', 1), ('age', 1), ('84.', 1), ('Warmest', 1), ('amazes', 1), ('seem', 1), ('zip!\"', 1), ('straight,', 1), ('headache.', 1), ('\"Small', 1), ('Atlanta.', 1), ('EWErickson,', 1), ('sleaze', 1), ('buffoon', 1), ('DEBATE,', 1), ('connected', 1), ('Newsmax,', 1), ('N.Y.Times', 1), ('causes', 1), ('....Dopey', 1), ('fired.', 1), ('yourself.', 1), ('bad...', 1), ('trio,', 1), ('professional!\"', 1), ('twitter!', 1), ('@DRUDGE_REPORT', 1), ('panel.', 1), ('slob', 1), ('panels!', 1), ('spews', 1), ('status?', 1), ('nightmare.', 1), ('Bush۪sall', 1), ('rich,', 1), ('controlknow', 1), ('well.\"', 1), ('@gawker!', 1), ('Call', 1), ('917.756.8000', 1), ('message.', 1), ('Diligence', 1), ('luck.', 1), ('Franklin', 1), ('7:3O.', 1), ('Albert', 1), ('Einstein', 1), ('Huma', 1), ('Abedin', 1), ('Huma۪s', 1), ('Weiner,', 1), ('.@Jrprotalker', 1), ('Judy', 1), ('@TrumpTurnberry.', 1), ('commentary.', 1), ('\".@DottieandBogey', 1), ('taste!', 1), ('commentary.\"', 1), ('surge,', 1), ('miserable.\"', 1), ('convinced', 1), ('hurting', 1), ('him\"', 1), ('traveled', 1), ('beg', 1), ('Brothers.', 1), ('Puppets?', 1), ('11:30AM', 1), ('Henry', 1), ('Ford\"', 1), ('polls--thank', 1), ('tomorrow--place', 1), ('@Turnberrybuzz', 1), ('deficit.', 1), ('Education,', 1), ('etc', 1), ('suffering.', 1), ('@DanHenninger', 1), ('@WSJ\"', 1), ('intention', 1), ('respectful', 1), ('tonite.', 1), ('Back', 1), ('Cameron', 1), ('fumbles', 1), ('resort,', 1), ('Hosting', 1), ('(biggest', 1), ('tournament).', 1), ('Sat.\"', 1), ('(members', 1), ('P.B.', 1), ('Club),', 1), ('Cannot', 1), ('Hurt', 1), ('mecrazy!', 1), ('Hurt,', 1), ('Trump?\"', 1), ('guilty', 1), ('REPLACED', 1), ('LEGAL', 1), ('cellphone?', 1), ('Per', 1), ('@rushlimbaugh:', 1), ('(after', 1), ('DESTROYS', 1), ('server)', 1), ('sticking', 1), ('SILENT', 1), ('looming!', 1), ('throwing', 1), ('Beast', 1), ('air.', 1), ('cool!', 1), ('commenting', 1), ('D.J.T.', 1), ('insight.', 1), ('Know', 1), ('NOTHING!', 1), ('(Beck)', 1), ('sudden', 1), ('expert', 1), ('(all', 1), ('television).', 1), ('\".CNN', 1), ('fees).', 1), ('her,she', 1), ('easy\"', 1), ('beat.', 1), ('clients', 1), ('breast', 1), ('pump', 1), ('dep.\"', 1), ('candidates.Told', 1), ('WITHOUT', 1), ('BORDERS', 1), ('rule', 1), ('matters.', 1), ('billions.\"', 1), ('\"Governments', 1), ('duty', 1), ('lives.\\u06dd', 1), ('arms', 1), ('East.', 1), ('stopped.', 1), ('Aesop\"', 1), ('\".@TheBrodyFile', 1), ('smarts!', 1), ('\"Bostons', 1), ('Walsh', 1), ('Olympics,', 1), ('negotiating', 1), ('discuss!', 1), ('resorts', 1), ('world.', 1), ('Women۪s', 1), ('trail.\"', 1), ('\"Veterans,', 1), ('855-', 1), ('VETS-', 1), ('352', 1), ('address', 1), ('veterans@donaldtrump.com', 1), ('VA.\"', 1), ('\".@SteveRattner', 1), ('prison', 1), ('did,', 1), ('guess', 1), ('WI,', 1), ('deficit,', 1), ('forecast,', 1), ('mess.\"', 1), ('news,', 1), ('#2', 1), ('gaining.\"', 1), ('material.', 1), ('turmoil,', 1), ('hilt,', 1), ('award,', 1), ('hard---', 1), ('.@ShawnJohnson', 1), ('engagement', 1), ('couple.', 1), ('.@Macy۪s', 1), ('contributor', 1), ('@PPFA', 1), ('Anybody', 1), ('Planned', 1), ('Parenthood', 1), ('racial', 1), ('Macy۪s.', 1), ('(poll),', 1), ('margin.', 1), ('thrilled!\"', 1), ('ultra', 1), ('BEGGING', 1), ('credentials', 1), ('today-but', 1), ('@TheEconomist', 1), ('Americans--&', 1), ('\".@marklevinshow', 1), ('Plunder', 1), ('Deceit.', 1), ('powerfully', 1), ('analyzes', 1), ('crucial', 1), ('Read', 1), ('\"Be', 1), ('@williebosshogs', 1), ('Hunter.\"', 1), ('Bluffton,', 1), ('SC,', 1), ('people.\"', 1), ('accountable', 1), ('scandal?', 1), ('consequence.', 1), ('@foxandfriends.', 1), ('Lafayette,', 1), ('\"You۪re', 1), ('@DanaPerino.', 1), ('Sometimes', 1), ('worry---', 1), ('.@bobbyjindal', 1), ('youon', 1), ('@TeamCavuto.', 1), ('excellent', 1), ('Wishes.', 1), ('lift', 1), ('Laredo.', 1), ('land', 1), ('1:OO', 1), ('informative!', 1), ('\".@BillKristol', 1), ('slightly', 1), ('Country', 1), ('soar!\"', 1), ('likeTim', 1), ('OBrien-dumb', 1), ('\"Boycott', 1), ('@Macys,', 1), ('guts,', 1), ('glory.', 1), ('Besides,', 1), ('stores!\"', 1), ('.@AC360', 1), ('Obrian', 1), ('wealth.', 1), ('waste!', 1), ('.@tedcruz', 1), ('religion.', 1), ('vets!', 1), ('Shouldn۪t', 1), ('disclaimer', 1), ('Walker?', 1), ('fairlyenjoy!', 1), ('recruitment', 1), ('centers', 1), ('bases', 1), ('Gun', 1), ('Free', 1), ('Zones!', 1), ('@NBCNightlyNews.', 1), ('publish', 1), ('cell', 1), ('original', 1), ('many!', 1), ('capacity', 1), ('glad', 1), ('followed', 1), ('lowered', 1), ('half-staff.', 1), ('time!', 1), ('.@ZachJohnsonPGA', 1), ('competitiors.', 1), ('@OpenChampionship', 1), ('surprised!', 1), ('Perry', 1), ('Abbott', 1), ('testimony', 1), ('important---', 1), ('digit', 1), ('@ABCnews/@WashingtonPost', 1), ('preference', 1), ('DonaldTrump', 1), ('veterans,', 1), ('pages', 1), ('@WSJ.', 1), ('tabloidsaving', 1), ('assume!', 1), ('McCain,', 1), ('veterans.\"', 1), ('dwindling', 1), ('1/10', 1), ('for,', 1), ('politically.', 1), ('cares!\"', 1), ('energy!', 1), ('smarter,', 1), ('times!\"', 1), ('shambles', 1), ('greatly.', 1), ('talk.', 1), ('Vets', 1), ('quickly.', 1), ('@MittRomney?', 1), ('By', 1), ('way,so', 1), ('McCain!\"', 1), ('\"Congrats', 1), ('Texas,', 1), ('@GregAbbott_TX,', 1), ('bold', 1), ('Perry.\"', 1), ('Veterans.', 1), ('deserve', 1), ('universal', 1), ('access', 1), ('inept.', 1), ('....that', 1), ('walk', 1), ('receive', 1), ('Veterans.....', 1), ('anything.\"', 1), ('....John', 1), ('miserably', 1), ('successfully', 1), ('years...', 1), ('\"Captured', 1), ('soldiers', 1), ('heroes!\"', 1), ('addition', 1), ('lousy', 1), ('Barack', 1), ('President!\"', 1), ('Summit', 1), ('soon.\"', 1), ('amazed', 1), ('Protestant', 1), ('(Presbyterian).', 1), ('GREAT.', 1), ('(net', 1), ('worth)', 1), ('liabilities.', 1), ('simple', 1), ('dumb!', 1), ('Ratings', 1), ('starved', 1), ('accurately.', 1), ('hard!', 1), ('Arkansas', 1), ('enterainment.', 1), ('Huff', 1), ('.@genesimmons', 1), ('you---', 1), ('\"Gods', 1), ('same,', 1), ('now.\\u06dd', 1), ('@Franklin_Graham\"', 1), ('END', 1), ('GUN', 1), ('FREE', 1), ('ZONES!', 1), ('SOLDIERS', 1), ('ABLE', 1), ('PROTECT', 1), ('THEMSELVES!', 1), ('THIS', 1), ('STOP!', 1), ('zones.', 1), ('marines', 1), ('trained', 1), ('helpless', 1), ('guns.', 1), ('Marines', 1), ('test', 1), ('demagoguery', 1), ('means.', 1), ('.@SenJohnMcCain', 1), ('defeated', 1), ('primaries.', 1), ('Graduated', 1), ('Annapolis--dummy!', 1), ('voluntarily', 1), ('reduces', 1), ('size.', 1), ('governments', 1), ('programs,', 1), ('launched,', 1), ('disappear.\\u06dd', 1), ('speechpacked', 1), ('poses', 1), ('direct', 1), ('threat.', 1), ('Stand', 1), ('opinion,', 1), ('@pennjillette.', 1), ('Hokey', 1), ('@Lawrence', 1), ('O۪Donnell,', 1), ('unwatchable', 1), ('fool!\"', 1), ('racea', 1), ('shouldn۪t', 1), ('airhe۪s', 1), ('credibilitya', 1), ('Bushy!', 1), ('.@BradSteinle', 1), ('parentsfantastic', 1), ('sister۪s', 1), ('memory', 1), ('alivebig', 1), ('impact!', 1), ('\".@andydean2014', 1), ('anytime.', 1), ('cards.', 1), ('Macys', 1), ('stores', 1), ('suck', 1), ('U.S.A.', 1), ('firing', 1), ('goofball', 1), ('atheist', 1), ('Wrote', 1), ('forgiveness.', 1), ('Broadway', 1), ('(Penn).', 1), ('Apprentice,', 1), ('ago.\"', 1)]\n"
          ],
          "name": "stdout"
        }
      ]
    },
    {
      "cell_type": "markdown",
      "metadata": {
        "id": "KXyZoB_g_BQq"
      },
      "source": [
        "Model building and training"
      ]
    },
    {
      "cell_type": "code",
      "metadata": {
        "id": "5IWXo0MOlX8e",
        "colab": {
          "base_uri": "https://localhost:8080/"
        },
        "outputId": "db60279f-a3f1-494b-fa87-2e049dd44250"
      },
      "source": [
        "# Mapping the unique characters to indices\n",
        "char2idx = {u:i for i, u in enumerate(vocab)}\n",
        "idx2char = np.array(vocab)\n",
        "\n",
        "txt_m_int = np.array([char2idx[c] for c in text])\n",
        "\n",
        "print('{')\n",
        "for char,_ in zip(char2idx, range(20)):\n",
        "    print('  {:4s}: {:3d},'.format(repr(char), char2idx[char]))\n",
        "print('  ...\\n}')"
      ],
      "execution_count": null,
      "outputs": [
        {
          "output_type": "stream",
          "text": [
            "{\n",
            "  '\\n':   0,\n",
            "  ' ' :   1,\n",
            "  '!' :   2,\n",
            "  '\"' :   3,\n",
            "  '#' :   4,\n",
            "  '$' :   5,\n",
            "  '%' :   6,\n",
            "  '&' :   7,\n",
            "  '(' :   8,\n",
            "  ')' :   9,\n",
            "  '+' :  10,\n",
            "  ',' :  11,\n",
            "  '-' :  12,\n",
            "  '.' :  13,\n",
            "  '/' :  14,\n",
            "  '0' :  15,\n",
            "  '1' :  16,\n",
            "  '2' :  17,\n",
            "  '3' :  18,\n",
            "  '4' :  19,\n",
            "  ...\n",
            "}\n"
          ],
          "name": "stdout"
        }
      ]
    },
    {
      "cell_type": "code",
      "metadata": {
        "id": "xx6zMIt_lX8n",
        "colab": {
          "base_uri": "https://localhost:8080/"
        },
        "outputId": "441c46d9-625b-4295-93a1-bdcb743ddee2"
      },
      "source": [
        "# The first 13 characters from the text are mapped to integers\n",
        "print ('{} ---- character mapping to integer ---- > {}'.format(repr(text[:13]), txt_m_int[:13]))"
      ],
      "execution_count": null,
      "outputs": [
        {
          "output_type": "stream",
          "text": [
            "'Busy day plan' ---- characters mapped to int ---- > [30 76 74 80  1 59 56 80  1 71 67 56 69]\n"
          ],
          "name": "stdout"
        }
      ]
    },
    {
      "cell_type": "code",
      "metadata": {
        "id": "bNkmcoaplX8x"
      },
      "source": [
        "# maximum sentence length\n",
        "seq_length = 100\n",
        "examples_per_epoch = len(text)//(seq_length+1)\n",
        "\n",
        "# training examples/targets\n",
        "characters= tf.data.Dataset.from_tensor_slices(txt_m_int)"
      ],
      "execution_count": null,
      "outputs": []
    },
    {
      "cell_type": "code",
      "metadata": {
        "colab": {
          "base_uri": "https://localhost:8080/"
        },
        "id": "PibU4bmV_g5P",
        "outputId": "e05929c9-6b1a-4443-f6a3-f398c42e85d3"
      },
      "source": [
        "for i in char_dataset.take(5):\r\n",
        "  print(idx2char[i.numpy()])"
      ],
      "execution_count": null,
      "outputs": [
        {
          "output_type": "stream",
          "text": [
            "B\n",
            "u\n",
            "s\n",
            "y\n",
            " \n"
          ],
          "name": "stdout"
        }
      ]
    },
    {
      "cell_type": "code",
      "metadata": {
        "id": "PKBn3FAwlX83"
      },
      "source": [
        "# Converting the individual characters into sequences\n",
        "sequences = char_dataset.batch(seq_length+1, drop_remainder=True)"
      ],
      "execution_count": null,
      "outputs": []
    },
    {
      "cell_type": "code",
      "metadata": {
        "colab": {
          "base_uri": "https://localhost:8080/"
        },
        "id": "ErWtK-zB_d-q",
        "outputId": "84aa4671-59c3-46f3-9dc0-d28961729636"
      },
      "source": [
        "for item in sequences.take(5):\r\n",
        "  print(repr(''.join(idx2char[item.numpy()])))"
      ],
      "execution_count": null,
      "outputs": [
        {
          "output_type": "stream",
          "text": [
            "'Busy day planned in New York. Will soon be making some very important decisions on the people who wil'\n",
            "'l be running our government!\\nLove the fact that the small groups of protesters last night have passio'\n",
            "'n for our great country. We will all come together and be proud!\\n\"Just had a very open and successful'\n",
            "' presidential election. Now professional protesters, incited by the media, are protesting. Very unfai'\n",
            "'r!\"\\n\"A fantastic day in D.C. Met with President Obama for first time. Really good meeting, great chem'\n"
          ],
          "name": "stdout"
        }
      ]
    },
    {
      "cell_type": "code",
      "metadata": {
        "id": "X2QBMMUglX89"
      },
      "source": [
        "def split_input_target(letters):\n",
        "    input_text = letters[:-1]\n",
        "    target_text = letters[1:]\n",
        "    return input_text, target_text\n",
        "\n",
        "dataset = sequences.map(split_input_target)"
      ],
      "execution_count": null,
      "outputs": []
    },
    {
      "cell_type": "code",
      "metadata": {
        "colab": {
          "base_uri": "https://localhost:8080/"
        },
        "id": "zONl20_n_7_f",
        "outputId": "87de0603-6157-4a45-a520-7a96803917e1"
      },
      "source": [
        "for input_example, target_example in  dataset.take(1):\r\n",
        "  print ('Input data: ', repr(''.join(idx2char[input_example.numpy()])))\r\n",
        "  print ('Target data:', repr(''.join(idx2char[target_example.numpy()])))"
      ],
      "execution_count": null,
      "outputs": [
        {
          "output_type": "stream",
          "text": [
            "Input data:  'Busy day planned in New York. Will soon be making some very important decisions on the people who wi'\n",
            "Target data: 'usy day planned in New York. Will soon be making some very important decisions on the people who wil'\n"
          ],
          "name": "stdout"
        }
      ]
    },
    {
      "cell_type": "code",
      "metadata": {
        "id": "0is0k-F7lX9C",
        "colab": {
          "base_uri": "https://localhost:8080/"
        },
        "outputId": "e9f1a5f6-78f9-4a61-f2c2-54d79c77a24c"
      },
      "source": [
        "for i, (input_idx, target_idx) in enumerate(zip(input_example[:5], target_example[:5])):\n",
        "    print(\"Step {:4d}\".format(i))\n",
        "    print(\"  input: {} ({:s})\".format(input_idx, repr(idx2char[input_idx])))\n",
        "    print(\"  expected result: {} ({:s})\".format(target_idx, repr(idx2char[target_idx])))"
      ],
      "execution_count": null,
      "outputs": [
        {
          "output_type": "stream",
          "text": [
            "Step    0\n",
            "  input: 30 ('B')\n",
            "  expected output: 76 ('u')\n",
            "Step    1\n",
            "  input: 76 ('u')\n",
            "  expected output: 74 ('s')\n",
            "Step    2\n",
            "  input: 74 ('s')\n",
            "  expected output: 80 ('y')\n",
            "Step    3\n",
            "  input: 80 ('y')\n",
            "  expected output: 1 (' ')\n",
            "Step    4\n",
            "  input: 1 (' ')\n",
            "  expected output: 59 ('d')\n"
          ],
          "name": "stdout"
        }
      ]
    },
    {
      "cell_type": "code",
      "metadata": {
        "id": "_rIjpZKllX9H",
        "colab": {
          "base_uri": "https://localhost:8080/"
        },
        "outputId": "628bc440-24d9-4b70-8527-eba0f735b4bd"
      },
      "source": [
        "BATCH_SIZE = 64\n",
        "BUFFER_SIZE = 10000\n",
        "\n",
        "dataset = dataset.shuffle(BUFFER_SIZE).batch(BATCH_SIZE, drop_remainder=True)\n",
        "\n",
        "dataset"
      ],
      "execution_count": null,
      "outputs": [
        {
          "output_type": "execute_result",
          "data": {
            "text/plain": [
              "<BatchDataset shapes: ((64, 100), (64, 100)), types: (tf.int64, tf.int64)>"
            ]
          },
          "metadata": {
            "tags": []
          },
          "execution_count": 36
        }
      ]
    },
    {
      "cell_type": "code",
      "metadata": {
        "id": "6MVM3xqalX9L"
      },
      "source": [
        "vocabulary_size= len(vocab)\n",
        "embedding_dim = 256\n",
        "num_rnn_units= 1024"
      ],
      "execution_count": null,
      "outputs": []
    },
    {
      "cell_type": "code",
      "metadata": {
        "id": "qoNUxCsAlX9W"
      },
      "source": [
        "def build_model(vocab_size, embedding_dim, rnn_units, batch_size):\n",
        "  model = tf.keras.Sequential([\n",
        "    tf.keras.layers.Embedding(vocab_size, embedding_dim,\n",
        "                              batch_input_shape=[batch_size, None]),\n",
        "    tf.keras.layers.GRU(rnn_units,\n",
        "                        return_sequences=True,\n",
        "                        stateful=True,\n",
        "                        recurrent_initializer='glorot_uniform'),\n",
        "    tf.keras.layers.Dense(vocab_size)\n",
        "  ])\n",
        "  \n",
        "  return model"
      ],
      "execution_count": null,
      "outputs": []
    },
    {
      "cell_type": "code",
      "metadata": {
        "id": "XEgsSiZ1lX9c"
      },
      "source": [
        "model = build_model(\n",
        "  vocabulary_size= len(vocab),\n",
        "  embedding_dim=embedding_dim,\n",
        "  rnn_units=rnn_units,\n",
        "  batch_size=BATCH_SIZE)"
      ],
      "execution_count": null,
      "outputs": []
    },
    {
      "cell_type": "code",
      "metadata": {
        "id": "D8Z0K-UclX9l",
        "colab": {
          "base_uri": "https://localhost:8080/"
        },
        "outputId": "8883a590-28bb-4bc7-9444-d443683a2f90"
      },
      "source": [
        "for input_example_batch, target_example_batch in dataset.take(1):\n",
        "  example_batch_predictions = model(input_example_batch)\n",
        "  print(\"(batch size, seq length, vocabulary_size)\")\n",
        "  print(example_batch_predictions.shape)"
      ],
      "execution_count": null,
      "outputs": [
        {
          "output_type": "stream",
          "text": [
            "(batch size, seq length, vocabulary_size)\n",
            "(64, 100, 85)\n"
          ],
          "name": "stdout"
        }
      ]
    },
    {
      "cell_type": "code",
      "metadata": {
        "id": "FfhUM99qlX9v",
        "colab": {
          "base_uri": "https://localhost:8080/"
        },
        "outputId": "8c3a9327-e05c-451a-81ae-ea0d8e78edde"
      },
      "source": [
        "model.summary()"
      ],
      "execution_count": null,
      "outputs": [
        {
          "output_type": "stream",
          "text": [
            "Model: \"sequential\"\n",
            "_________________________________________________________________\n",
            "Layer (type)                 Output Shape              Param #   \n",
            "=================================================================\n",
            "embedding (Embedding)        (64, None, 256)           21760     \n",
            "_________________________________________________________________\n",
            "gru (GRU)                    (64, None, 1024)          3938304   \n",
            "_________________________________________________________________\n",
            "dense (Dense)                (64, None, 85)            87125     \n",
            "=================================================================\n",
            "Total params: 4,047,189\n",
            "Trainable params: 4,047,189\n",
            "Non-trainable params: 0\n",
            "_________________________________________________________________\n"
          ],
          "name": "stdout"
        }
      ]
    },
    {
      "cell_type": "code",
      "metadata": {
        "id": "7XZwYsuVlX91",
        "colab": {
          "base_uri": "https://localhost:8080/"
        },
        "outputId": "e41c3d11-c4e5-4dac-d785-83516c0d0a29"
      },
      "source": [
        "sampled_indices = tf.random.categorical(example_batch_predictions[0], num_samples=1)\n",
        "sampled_indices = tf.squeeze(sampled_indices,axis=-1).numpy()\n",
        "\n",
        "sampled_indices"
      ],
      "execution_count": null,
      "outputs": [
        {
          "output_type": "execute_result",
          "data": {
            "text/plain": [
              "array([75, 45, 50, 31, 53, 35,  9, 14, 12, 64, 48, 67, 83, 38, 72, 55, 10,\n",
              "        0, 67, 47, 38, 69, 30, 23, 35, 17, 17, 54,  1, 63, 14, 36, 81,  4,\n",
              "        1, 15, 16, 33, 14, 49, 14, 38, 36, 18, 81, 66, 42, 26, 13,  2, 82,\n",
              "       64, 69, 36, 84, 82, 26, 75,  4, 48, 31, 53, 82, 63, 35, 80, 24, 25,\n",
              "       72, 64, 35, 69,  9, 13, 38, 24, 49, 15, 52,  3, 20, 73, 52,  0, 18,\n",
              "       46, 62, 28, 37, 52, 64,  5, 13, 59, 50,  7, 28,  6, 58, 54])"
            ]
          },
          "metadata": {
            "tags": []
          },
          "execution_count": 43
        }
      ]
    },
    {
      "cell_type": "code",
      "metadata": {
        "id": "PKjMv3kFlX-A",
        "colab": {
          "base_uri": "https://localhost:8080/"
        },
        "outputId": "40a36012-fd66-47ce-bcc8-e7f734d6f3f8"
      },
      "source": [
        "print(\"Input: \\n\", repr(\"\".join(idx2char[input_example_batch[0]])))\n",
        "print()\n",
        "print(\"Next Character Predictions: \\n\", repr(\"\".join(idx2char[sampled_indices ])))"
      ],
      "execution_count": null,
      "outputs": [
        {
          "output_type": "stream",
          "text": [
            "Input: \n",
            " 'hen our police are so appreciated!\\n\"I beat Hillary in the new @FoxNews Poll head to head.  SHE HAS N'\n",
            "\n",
            "Next Char Predictions: \n",
            " 'tQVCYG)/-iTl\\u06ddJq_+\\nlSJnB8G22Z h/Hz# 01E/U/JH3zkN=.!̱inH۪̱=t#TCY̱hGy9:qiGn).J9U0X\"5rX\\n3Rg@IXi$.dV&@%cZ'\n"
          ],
          "name": "stdout"
        }
      ]
    },
    {
      "cell_type": "code",
      "metadata": {
        "id": "jRG8L80_lX-a",
        "colab": {
          "base_uri": "https://localhost:8080/"
        },
        "outputId": "0b45ce71-66c2-45e1-ed30-20cb1aa38e6b"
      },
      "source": [
        "# Training \n",
        "def loss(labels, logits):\n",
        "  return tf.keras.losses.sparse_categorical_crossentropy(labels, logits, from_logits=True)\n",
        "\n",
        "example_batch_loss  = loss(target_example_batch, example_batch_predictions)\n",
        "print(\"The Prediction Shape=: \", example_batch_predictions.shape, \" # (batch_size, sequence_length, vocab_size)\")\n",
        "print(\"The Scalar Loss value:      \", example_batch_loss.numpy().mean())"
      ],
      "execution_count": null,
      "outputs": [
        {
          "output_type": "stream",
          "text": [
            "Prediction shape:  (64, 100, 85)  # (batch_size, sequence_length, vocab_size)\n",
            "scalar_loss:       4.442887\n"
          ],
          "name": "stdout"
        }
      ]
    },
    {
      "cell_type": "code",
      "metadata": {
        "id": "4wTJltMllX-m"
      },
      "source": [
        "model.compile(optimizer='adam', loss=loss, metrics=['accuracy'])"
      ],
      "execution_count": null,
      "outputs": []
    },
    {
      "cell_type": "code",
      "metadata": {
        "id": "67-qtd9PlX-p"
      },
      "source": [
        "!rm -rf ./training_checkpoints\n",
        "checkpoint_dir = './training_checkpoints'\n",
        "\n",
        "checkpoint_prefix = os.path.join(checkpoint_dir, \"ckpt_{epoch}\")\n",
        "\n",
        "checkpoint_callback=tf.keras.callbacks.ModelCheckpoint(\n",
        "    filepath=checkpoint_prefix,\n",
        "    save_weights_only=True)"
      ],
      "execution_count": null,
      "outputs": []
    },
    {
      "cell_type": "code",
      "metadata": {
        "id": "r5rY1qgFlX-v",
        "colab": {
          "base_uri": "https://localhost:8080/"
        },
        "outputId": "9e0ebf44-5bbc-4df3-83a7-b916b09f9308"
      },
      "source": [
        "EPOCHS=72\n",
        "\n",
        "history = model.fit(dataset, epochs=EPOCHS, callbacks=[checkpoint_callback])"
      ],
      "execution_count": null,
      "outputs": [
        {
          "output_type": "stream",
          "text": [
            "Epoch 1/72\n",
            "45/45 [==============================] - 4s 56ms/step - loss: 4.0874 - accuracy: 0.1259\n",
            "Epoch 2/72\n",
            "45/45 [==============================] - 3s 55ms/step - loss: 2.7849 - accuracy: 0.2674\n",
            "Epoch 3/72\n",
            "45/45 [==============================] - 3s 55ms/step - loss: 2.4891 - accuracy: 0.3123\n",
            "Epoch 4/72\n",
            "45/45 [==============================] - 3s 55ms/step - loss: 2.3373 - accuracy: 0.3476\n",
            "Epoch 5/72\n",
            "45/45 [==============================] - 3s 56ms/step - loss: 2.1800 - accuracy: 0.3875\n",
            "Epoch 6/72\n",
            "45/45 [==============================] - 3s 56ms/step - loss: 2.0223 - accuracy: 0.4323\n",
            "Epoch 7/72\n",
            "45/45 [==============================] - 3s 56ms/step - loss: 1.8755 - accuracy: 0.4760\n",
            "Epoch 8/72\n",
            "45/45 [==============================] - 3s 56ms/step - loss: 1.7406 - accuracy: 0.5134\n",
            "Epoch 9/72\n",
            "45/45 [==============================] - 3s 56ms/step - loss: 1.6194 - accuracy: 0.5458\n",
            "Epoch 10/72\n",
            "45/45 [==============================] - 3s 56ms/step - loss: 1.5183 - accuracy: 0.5748\n",
            "Epoch 11/72\n",
            "45/45 [==============================] - 3s 56ms/step - loss: 1.4305 - accuracy: 0.5981\n",
            "Epoch 12/72\n",
            "45/45 [==============================] - 3s 57ms/step - loss: 1.3511 - accuracy: 0.6180\n",
            "Epoch 13/72\n",
            "45/45 [==============================] - 3s 57ms/step - loss: 1.2953 - accuracy: 0.6333\n",
            "Epoch 14/72\n",
            "45/45 [==============================] - 3s 57ms/step - loss: 1.2330 - accuracy: 0.6497\n",
            "Epoch 15/72\n",
            "45/45 [==============================] - 3s 58ms/step - loss: 1.1772 - accuracy: 0.6638\n",
            "Epoch 16/72\n",
            "45/45 [==============================] - 3s 57ms/step - loss: 1.1191 - accuracy: 0.6790\n",
            "Epoch 17/72\n",
            "45/45 [==============================] - 3s 58ms/step - loss: 1.0741 - accuracy: 0.6920\n",
            "Epoch 18/72\n",
            "45/45 [==============================] - 3s 57ms/step - loss: 1.0160 - accuracy: 0.7086\n",
            "Epoch 19/72\n",
            "45/45 [==============================] - 3s 58ms/step - loss: 0.9691 - accuracy: 0.7215\n",
            "Epoch 20/72\n",
            "45/45 [==============================] - 3s 59ms/step - loss: 0.9095 - accuracy: 0.7404\n",
            "Epoch 21/72\n",
            "45/45 [==============================] - 3s 58ms/step - loss: 0.8594 - accuracy: 0.7548\n",
            "Epoch 22/72\n",
            "45/45 [==============================] - 3s 59ms/step - loss: 0.8076 - accuracy: 0.7716\n",
            "Epoch 23/72\n",
            "45/45 [==============================] - 3s 59ms/step - loss: 0.7579 - accuracy: 0.7892\n",
            "Epoch 24/72\n",
            "45/45 [==============================] - 3s 59ms/step - loss: 0.7109 - accuracy: 0.8061\n",
            "Epoch 25/72\n",
            "45/45 [==============================] - 3s 59ms/step - loss: 0.6580 - accuracy: 0.8237\n",
            "Epoch 26/72\n",
            "45/45 [==============================] - 3s 59ms/step - loss: 0.6161 - accuracy: 0.8401\n",
            "Epoch 27/72\n",
            "45/45 [==============================] - 3s 59ms/step - loss: 0.5707 - accuracy: 0.8546\n",
            "Epoch 28/72\n",
            "45/45 [==============================] - 3s 60ms/step - loss: 0.5327 - accuracy: 0.8692\n",
            "Epoch 29/72\n",
            "45/45 [==============================] - 3s 60ms/step - loss: 0.4927 - accuracy: 0.8829\n",
            "Epoch 30/72\n",
            "45/45 [==============================] - 3s 60ms/step - loss: 0.4562 - accuracy: 0.8953\n",
            "Epoch 31/72\n",
            "45/45 [==============================] - 3s 60ms/step - loss: 0.4294 - accuracy: 0.9045\n",
            "Epoch 32/72\n",
            "45/45 [==============================] - 3s 60ms/step - loss: 0.3979 - accuracy: 0.9140\n",
            "Epoch 33/72\n",
            "45/45 [==============================] - 3s 59ms/step - loss: 0.3787 - accuracy: 0.9202\n",
            "Epoch 34/72\n",
            "45/45 [==============================] - 3s 60ms/step - loss: 0.3606 - accuracy: 0.9262\n",
            "Epoch 35/72\n",
            "45/45 [==============================] - 3s 59ms/step - loss: 0.3436 - accuracy: 0.9302\n",
            "Epoch 36/72\n",
            "45/45 [==============================] - 3s 61ms/step - loss: 0.3288 - accuracy: 0.9349\n",
            "Epoch 37/72\n",
            "45/45 [==============================] - 3s 60ms/step - loss: 0.3131 - accuracy: 0.9379\n",
            "Epoch 38/72\n",
            "45/45 [==============================] - 3s 60ms/step - loss: 0.3023 - accuracy: 0.9413\n",
            "Epoch 39/72\n",
            "45/45 [==============================] - 3s 59ms/step - loss: 0.2939 - accuracy: 0.9432\n",
            "Epoch 40/72\n",
            "45/45 [==============================] - 3s 60ms/step - loss: 0.2860 - accuracy: 0.9449\n",
            "Epoch 41/72\n",
            "45/45 [==============================] - 3s 60ms/step - loss: 0.2775 - accuracy: 0.9469\n",
            "Epoch 42/72\n",
            "45/45 [==============================] - 3s 60ms/step - loss: 0.2692 - accuracy: 0.9482\n",
            "Epoch 43/72\n",
            "45/45 [==============================] - 3s 60ms/step - loss: 0.2650 - accuracy: 0.9493\n",
            "Epoch 44/72\n",
            "45/45 [==============================] - 3s 60ms/step - loss: 0.2602 - accuracy: 0.9501\n",
            "Epoch 45/72\n",
            "45/45 [==============================] - 3s 60ms/step - loss: 0.2571 - accuracy: 0.9516\n",
            "Epoch 46/72\n",
            "45/45 [==============================] - 3s 60ms/step - loss: 0.2531 - accuracy: 0.9522\n",
            "Epoch 47/72\n",
            "45/45 [==============================] - 3s 60ms/step - loss: 0.2471 - accuracy: 0.9529\n",
            "Epoch 48/72\n",
            "45/45 [==============================] - 3s 59ms/step - loss: 0.2439 - accuracy: 0.9537\n",
            "Epoch 49/72\n",
            "45/45 [==============================] - 3s 59ms/step - loss: 0.2401 - accuracy: 0.9542\n",
            "Epoch 50/72\n",
            "45/45 [==============================] - 3s 60ms/step - loss: 0.2394 - accuracy: 0.9552\n",
            "Epoch 51/72\n",
            "45/45 [==============================] - 3s 60ms/step - loss: 0.2355 - accuracy: 0.9555\n",
            "Epoch 52/72\n",
            "45/45 [==============================] - 3s 61ms/step - loss: 0.2331 - accuracy: 0.9562\n",
            "Epoch 53/72\n",
            "45/45 [==============================] - 3s 61ms/step - loss: 0.2308 - accuracy: 0.9569\n",
            "Epoch 54/72\n",
            "45/45 [==============================] - 3s 60ms/step - loss: 0.2277 - accuracy: 0.9563\n",
            "Epoch 55/72\n",
            "45/45 [==============================] - 3s 59ms/step - loss: 0.2254 - accuracy: 0.9570\n",
            "Epoch 56/72\n",
            "45/45 [==============================] - 3s 60ms/step - loss: 0.2280 - accuracy: 0.9572\n",
            "Epoch 57/72\n",
            "45/45 [==============================] - 3s 59ms/step - loss: 0.2230 - accuracy: 0.9579\n",
            "Epoch 58/72\n",
            "45/45 [==============================] - 3s 61ms/step - loss: 0.2208 - accuracy: 0.9581\n",
            "Epoch 59/72\n",
            "45/45 [==============================] - 3s 59ms/step - loss: 0.2229 - accuracy: 0.9575\n",
            "Epoch 60/72\n",
            "45/45 [==============================] - 3s 60ms/step - loss: 0.2173 - accuracy: 0.9589\n",
            "Epoch 61/72\n",
            "45/45 [==============================] - 3s 59ms/step - loss: 0.2175 - accuracy: 0.9588\n",
            "Epoch 62/72\n",
            "45/45 [==============================] - 3s 60ms/step - loss: 0.2145 - accuracy: 0.9596\n",
            "Epoch 63/72\n",
            "45/45 [==============================] - 3s 60ms/step - loss: 0.2154 - accuracy: 0.9592\n",
            "Epoch 64/72\n",
            "45/45 [==============================] - 3s 59ms/step - loss: 0.2143 - accuracy: 0.9597\n",
            "Epoch 65/72\n",
            "45/45 [==============================] - 3s 60ms/step - loss: 0.2126 - accuracy: 0.9598\n",
            "Epoch 66/72\n",
            "45/45 [==============================] - 3s 60ms/step - loss: 0.2084 - accuracy: 0.9605\n",
            "Epoch 67/72\n",
            "45/45 [==============================] - 3s 60ms/step - loss: 0.2119 - accuracy: 0.9604\n",
            "Epoch 68/72\n",
            "45/45 [==============================] - 3s 60ms/step - loss: 0.2098 - accuracy: 0.9609\n",
            "Epoch 69/72\n",
            "45/45 [==============================] - 3s 60ms/step - loss: 0.2082 - accuracy: 0.9604\n",
            "Epoch 70/72\n",
            "45/45 [==============================] - 3s 60ms/step - loss: 0.2070 - accuracy: 0.9610\n",
            "Epoch 71/72\n",
            "45/45 [==============================] - 3s 59ms/step - loss: 0.2064 - accuracy: 0.9607\n",
            "Epoch 72/72\n",
            "45/45 [==============================] - 3s 59ms/step - loss: 0.2043 - accuracy: 0.9609\n"
          ],
          "name": "stdout"
        }
      ]
    },
    {
      "cell_type": "code",
      "metadata": {
        "id": "9EepHI1NlX-0",
        "colab": {
          "base_uri": "https://localhost:8080/",
          "height": 35
        },
        "outputId": "144123bf-9fea-44cb-cccd-1d4ed5f537eb"
      },
      "source": [
        "tf.train.latest_checkpoint(checkpoint_dir)"
      ],
      "execution_count": null,
      "outputs": [
        {
          "output_type": "execute_result",
          "data": {
            "application/vnd.google.colaboratory.intrinsic+json": {
              "type": "string"
            },
            "text/plain": [
              "'./training_checkpoints/ckpt_72'"
            ]
          },
          "metadata": {
            "tags": []
          },
          "execution_count": 51
        }
      ]
    },
    {
      "cell_type": "code",
      "metadata": {
        "id": "jDuMqS6vlX-3"
      },
      "source": [
        "model = build_model(vocab_size, embedding_dim, rnn_units, batch_size=1)\n",
        "model.load_weights(tf.train.latest_checkpoint(checkpoint_dir))\n",
        "model.build(tf.TensorShape([1, None]))"
      ],
      "execution_count": null,
      "outputs": []
    },
    {
      "cell_type": "code",
      "metadata": {
        "id": "A_VovInllX-6",
        "colab": {
          "base_uri": "https://localhost:8080/"
        },
        "outputId": "6e823977-f066-4e33-c13f-50eb3df1e01d"
      },
      "source": [
        "model.summary()"
      ],
      "execution_count": null,
      "outputs": [
        {
          "output_type": "stream",
          "text": [
            "Model: \"sequential_1\"\n",
            "_________________________________________________________________\n",
            "Layer (type)                 Output Shape              Param #   \n",
            "=================================================================\n",
            "embedding_1 (Embedding)      (1, None, 256)            21760     \n",
            "_________________________________________________________________\n",
            "gru_1 (GRU)                  (1, None, 1024)           3938304   \n",
            "_________________________________________________________________\n",
            "dense_1 (Dense)              (1, None, 85)             87125     \n",
            "=================================================================\n",
            "Total params: 4,047,189\n",
            "Trainable params: 4,047,189\n",
            "Non-trainable params: 0\n",
            "_________________________________________________________________\n"
          ],
          "name": "stdout"
        }
      ]
    },
    {
      "cell_type": "code",
      "metadata": {
        "id": "iko6ralylX-_",
        "colab": {
          "base_uri": "https://localhost:8080/"
        },
        "outputId": "8e2cf47f-9122-4510-9bbe-78d06b2e9416"
      },
      "source": [
        "def generate_text(model, start_string):\n",
        "  num_generate = 1000\n",
        "  input_eval = [char2idx[s] for s in start_string]\n",
        "  input_eval = tf.expand_dims(input_eval, 0)\n",
        "  text_generated = []\n",
        "  temperature = 1.0\n",
        "\n",
        "  model.reset_states()\n",
        "  for i in range(num_generate):\n",
        "      predictions = model(input_eval)\n",
        "      predictions = tf.squeeze(predictions, 0)\n",
        "      predictions = predictions / temperature\n",
        "      predicted_id = tf.random.categorical(predictions, num_samples=1)[-1,0].numpy()\n",
        "      input_eval = tf.expand_dims([predicted_id], 0)\n",
        "      text_generated.append(idx2char[predicted_id])\n",
        "  return (start_string + ''.join(text_generated))\n",
        "\n",
        "print(generate_text(model, start_string=u\"M\"))"
      ],
      "execution_count": null,
      "outputs": [
        {
          "output_type": "stream",
          "text": [
            "MERICA GREAT AGAIN\"\n",
            "\"Jeb Bush and Tex Crooked Hillary help, has become a laughingstock rag!\"\n",
            "\"Crazy debate, they would allow themselves to be used in a landslide!\"\n",
            "Im going to do what @MittRomney was a disaster. THINK!\n",
            "Will be interviewed on @oreillyfactor at 8:00 P.M. Enjoy!\n",
            "\"ObamaC, REPEAL AND REPLACE OBAMACARE!\n",
            "Why has nobody asked Kaine about the 735 delegates - great in states!\"\n",
            "I am in Colorado - big day planning an experts the opening of Trump National Doral on produccional guara). great. The people get it!\n",
            "Did Crooked Hillary help. Bernie Sanders is lying when her husband was the WORST with everyone in Lafalielake - Russia reprised where Presidential Forum, buries against me at 744 A.M. New Derly durian for me- the truly great competitiors. I۪ve set a change instead of the same.\n",
            "\"Id like people like @ThicWATALEAN: OReilly calls\"\n",
            "\"Just landed in New York - a one winner day back an other media solurican for him. Typ funded by  @seanhannity tonight. The great work!\"\n",
            "\"Will be interv\n"
          ],
          "name": "stdout"
        }
      ]
    },
    {
      "cell_type": "code",
      "metadata": {
        "id": "2KHwQBTdlX_D"
      },
      "source": [
        "#Advanced\n",
        "model = build_model(\n",
        "  vocabulary_size= len(vocab),\n",
        "  embedding_dim=embedding_dim,\n",
        "  rnn_units=rnn_units,\n",
        "  batch_size=BATCH_SIZE)\n",
        "\n",
        "optimizer = tf.keras.optimizers.Adam()"
      ],
      "execution_count": null,
      "outputs": []
    },
    {
      "cell_type": "code",
      "metadata": {
        "id": "h_ozBgdclX_G"
      },
      "source": [
        "@tf.function\n",
        "def train_step(inp, target):\n",
        "  with tf.GradientTape() as tape:\n",
        "    predictions = model(inp)\n",
        "    loss = tf.reduce_mean(\n",
        "        tf.keras.losses.sparse_categorical_crossentropy(\n",
        "            target, predictions, from_logits=True))\n",
        "  grads = tape.gradient(loss, model.trainable_variables)\n",
        "  optimizer.apply_gradients(zip(grads, model.trainable_variables))\n",
        "\n",
        "  return loss"
      ],
      "execution_count": null,
      "outputs": []
    },
    {
      "cell_type": "code",
      "metadata": {
        "id": "6kb_kTcMlX_J",
        "colab": {
          "base_uri": "https://localhost:8080/"
        },
        "outputId": "cf0feec1-c289-4e23-e588-665b38871357"
      },
      "source": [
        "EPOCHS = 72\n",
        "\n",
        "for epoch in range(EPOCHS):\n",
        "  start = time.time()\n",
        "  hidden = model.reset_states()\n",
        "  for (batch_n, (inp, target)) in enumerate(dataset):\n",
        "    loss = train_step(inp, target)\n",
        "\n",
        "    if batch_n % 100 == 0:\n",
        "      template = 'Epoch {} Batch {} Loss {}'\n",
        "      print(template.format(epoch+1, batch_n, loss))\n",
        "\n",
        "  if (epoch + 1) % 5 == 0:\n",
        "    model.save_weights(checkpoint_prefix.format(epoch=epoch))\n",
        "\n",
        "  print ('Epoch {} Loss {:.4f}'.format(epoch+1, loss))\n",
        "  print ('Time taken for 1 epoch {} sec\\n'.format(time.time() - start))\n",
        "\n",
        "model.save_weights(checkpoint_prefix.format(epoch=epoch))"
      ],
      "execution_count": null,
      "outputs": [
        {
          "output_type": "stream",
          "text": [
            "Epoch 1 Batch 0 Loss 4.443061351776123\n",
            "Epoch 1 Loss 2.9914\n",
            "Time taken for 1 epoch 3.7615113258361816 sec\n",
            "\n",
            "Epoch 2 Batch 0 Loss 2.991408109664917\n",
            "Epoch 2 Loss 2.5833\n",
            "Time taken for 1 epoch 2.750640630722046 sec\n",
            "\n",
            "Epoch 3 Batch 0 Loss 2.5269546508789062\n",
            "Epoch 3 Loss 2.4054\n",
            "Time taken for 1 epoch 2.7644169330596924 sec\n",
            "\n",
            "Epoch 4 Batch 0 Loss 2.411395788192749\n",
            "Epoch 4 Loss 2.2519\n",
            "Time taken for 1 epoch 2.7792954444885254 sec\n",
            "\n",
            "Epoch 5 Batch 0 Loss 2.2273950576782227\n",
            "Epoch 5 Loss 2.0970\n",
            "Time taken for 1 epoch 2.807436227798462 sec\n",
            "\n",
            "Epoch 6 Batch 0 Loss 2.0754811763763428\n",
            "Epoch 6 Loss 1.9573\n",
            "Time taken for 1 epoch 2.7839934825897217 sec\n",
            "\n",
            "Epoch 7 Batch 0 Loss 1.9035476446151733\n",
            "Epoch 7 Loss 1.8277\n",
            "Time taken for 1 epoch 2.8010363578796387 sec\n",
            "\n",
            "Epoch 8 Batch 0 Loss 1.781224250793457\n",
            "Epoch 8 Loss 1.6841\n",
            "Time taken for 1 epoch 2.8540990352630615 sec\n",
            "\n",
            "Epoch 9 Batch 0 Loss 1.6730732917785645\n",
            "Epoch 9 Loss 1.5622\n",
            "Time taken for 1 epoch 2.846130132675171 sec\n",
            "\n",
            "Epoch 10 Batch 0 Loss 1.5662789344787598\n",
            "Epoch 10 Loss 1.5672\n",
            "Time taken for 1 epoch 2.8695194721221924 sec\n",
            "\n",
            "Epoch 11 Batch 0 Loss 1.5050594806671143\n",
            "Epoch 11 Loss 1.4499\n",
            "Time taken for 1 epoch 2.87808895111084 sec\n",
            "\n",
            "Epoch 12 Batch 0 Loss 1.3708969354629517\n",
            "Epoch 12 Loss 1.3668\n",
            "Time taken for 1 epoch 2.8377366065979004 sec\n",
            "\n",
            "Epoch 13 Batch 0 Loss 1.337371826171875\n",
            "Epoch 13 Loss 1.2894\n",
            "Time taken for 1 epoch 2.8518998622894287 sec\n",
            "\n",
            "Epoch 14 Batch 0 Loss 1.2657917737960815\n",
            "Epoch 14 Loss 1.2890\n",
            "Time taken for 1 epoch 2.8513312339782715 sec\n",
            "\n",
            "Epoch 15 Batch 0 Loss 1.1779329776763916\n",
            "Epoch 15 Loss 1.2705\n",
            "Time taken for 1 epoch 2.899250030517578 sec\n",
            "\n",
            "Epoch 16 Batch 0 Loss 1.1217113733291626\n",
            "Epoch 16 Loss 1.1696\n",
            "Time taken for 1 epoch 2.8628153800964355 sec\n",
            "\n",
            "Epoch 17 Batch 0 Loss 1.0749355554580688\n",
            "Epoch 17 Loss 1.1209\n",
            "Time taken for 1 epoch 2.8319168090820312 sec\n",
            "\n",
            "Epoch 18 Batch 0 Loss 1.0401099920272827\n",
            "Epoch 18 Loss 1.0664\n",
            "Time taken for 1 epoch 2.859679698944092 sec\n",
            "\n",
            "Epoch 19 Batch 0 Loss 0.9788571000099182\n",
            "Epoch 19 Loss 0.9942\n",
            "Time taken for 1 epoch 2.8605234622955322 sec\n",
            "\n",
            "Epoch 20 Batch 0 Loss 0.8934396505355835\n",
            "Epoch 20 Loss 0.9709\n",
            "Time taken for 1 epoch 2.8799521923065186 sec\n",
            "\n",
            "Epoch 21 Batch 0 Loss 0.8541810512542725\n",
            "Epoch 21 Loss 0.9655\n",
            "Time taken for 1 epoch 2.8563859462738037 sec\n",
            "\n",
            "Epoch 22 Batch 0 Loss 0.7979019284248352\n",
            "Epoch 22 Loss 0.8942\n",
            "Time taken for 1 epoch 2.8363044261932373 sec\n",
            "\n",
            "Epoch 23 Batch 0 Loss 0.7493410706520081\n",
            "Epoch 23 Loss 0.8241\n",
            "Time taken for 1 epoch 2.860884189605713 sec\n",
            "\n",
            "Epoch 24 Batch 0 Loss 0.6930831670761108\n",
            "Epoch 24 Loss 0.7696\n",
            "Time taken for 1 epoch 2.833488941192627 sec\n",
            "\n",
            "Epoch 25 Batch 0 Loss 0.6468734741210938\n",
            "Epoch 25 Loss 0.7250\n",
            "Time taken for 1 epoch 2.8690593242645264 sec\n",
            "\n",
            "Epoch 26 Batch 0 Loss 0.590610146522522\n",
            "Epoch 26 Loss 0.6751\n",
            "Time taken for 1 epoch 2.8322999477386475 sec\n",
            "\n",
            "Epoch 27 Batch 0 Loss 0.5472567677497864\n",
            "Epoch 27 Loss 0.6564\n",
            "Time taken for 1 epoch 2.8390305042266846 sec\n",
            "\n",
            "Epoch 28 Batch 0 Loss 0.506184458732605\n",
            "Epoch 28 Loss 0.5991\n",
            "Time taken for 1 epoch 2.813537836074829 sec\n",
            "\n",
            "Epoch 29 Batch 0 Loss 0.4490124583244324\n",
            "Epoch 29 Loss 0.5645\n",
            "Time taken for 1 epoch 2.842337131500244 sec\n",
            "\n",
            "Epoch 30 Batch 0 Loss 0.425565630197525\n",
            "Epoch 30 Loss 0.5264\n",
            "Time taken for 1 epoch 2.8490304946899414 sec\n",
            "\n",
            "Epoch 31 Batch 0 Loss 0.38911592960357666\n",
            "Epoch 31 Loss 0.4754\n",
            "Time taken for 1 epoch 2.8150503635406494 sec\n",
            "\n",
            "Epoch 32 Batch 0 Loss 0.36461007595062256\n",
            "Epoch 32 Loss 0.4717\n",
            "Time taken for 1 epoch 2.8116085529327393 sec\n",
            "\n",
            "Epoch 33 Batch 0 Loss 0.3305318355560303\n",
            "Epoch 33 Loss 0.4399\n",
            "Time taken for 1 epoch 2.835425615310669 sec\n",
            "\n",
            "Epoch 34 Batch 0 Loss 0.30304962396621704\n",
            "Epoch 34 Loss 0.4110\n",
            "Time taken for 1 epoch 2.8421902656555176 sec\n",
            "\n",
            "Epoch 35 Batch 0 Loss 0.27514657378196716\n",
            "Epoch 35 Loss 0.3835\n",
            "Time taken for 1 epoch 2.83919358253479 sec\n",
            "\n",
            "Epoch 36 Batch 0 Loss 0.27918797731399536\n",
            "Epoch 36 Loss 0.3557\n",
            "Time taken for 1 epoch 2.82165789604187 sec\n",
            "\n",
            "Epoch 37 Batch 0 Loss 0.25886163115501404\n",
            "Epoch 37 Loss 0.3485\n",
            "Time taken for 1 epoch 2.81887149810791 sec\n",
            "\n",
            "Epoch 38 Batch 0 Loss 0.24088436365127563\n",
            "Epoch 38 Loss 0.3325\n",
            "Time taken for 1 epoch 2.814286947250366 sec\n",
            "\n",
            "Epoch 39 Batch 0 Loss 0.2287926822900772\n",
            "Epoch 39 Loss 0.3256\n",
            "Time taken for 1 epoch 2.8119516372680664 sec\n",
            "\n",
            "Epoch 40 Batch 0 Loss 0.22597375512123108\n",
            "Epoch 40 Loss 0.3289\n",
            "Time taken for 1 epoch 2.855236291885376 sec\n",
            "\n",
            "Epoch 41 Batch 0 Loss 0.20317745208740234\n",
            "Epoch 41 Loss 0.3127\n",
            "Time taken for 1 epoch 2.8143043518066406 sec\n",
            "\n",
            "Epoch 42 Batch 0 Loss 0.21212230622768402\n",
            "Epoch 42 Loss 0.2917\n",
            "Time taken for 1 epoch 2.828329563140869 sec\n",
            "\n",
            "Epoch 43 Batch 0 Loss 0.1977253407239914\n",
            "Epoch 43 Loss 0.3045\n",
            "Time taken for 1 epoch 2.8311703205108643 sec\n",
            "\n",
            "Epoch 44 Batch 0 Loss 0.19627945125102997\n",
            "Epoch 44 Loss 0.2834\n",
            "Time taken for 1 epoch 2.8324105739593506 sec\n",
            "\n",
            "Epoch 45 Batch 0 Loss 0.18233928084373474\n",
            "Epoch 45 Loss 0.2772\n",
            "Time taken for 1 epoch 2.8834900856018066 sec\n",
            "\n",
            "Epoch 46 Batch 0 Loss 0.1800088882446289\n",
            "Epoch 46 Loss 0.2769\n",
            "Time taken for 1 epoch 2.8343780040740967 sec\n",
            "\n",
            "Epoch 47 Batch 0 Loss 0.1815108358860016\n",
            "Epoch 47 Loss 0.2769\n",
            "Time taken for 1 epoch 2.8393421173095703 sec\n",
            "\n",
            "Epoch 48 Batch 0 Loss 0.17461130023002625\n",
            "Epoch 48 Loss 0.2665\n",
            "Time taken for 1 epoch 2.8388330936431885 sec\n",
            "\n",
            "Epoch 49 Batch 0 Loss 0.17375057935714722\n",
            "Epoch 49 Loss 0.2640\n",
            "Time taken for 1 epoch 2.8298964500427246 sec\n",
            "\n",
            "Epoch 50 Batch 0 Loss 0.17523223161697388\n",
            "Epoch 50 Loss 0.2517\n",
            "Time taken for 1 epoch 2.868501663208008 sec\n",
            "\n",
            "Epoch 51 Batch 0 Loss 0.16865545511245728\n",
            "Epoch 51 Loss 0.2479\n",
            "Time taken for 1 epoch 2.8443007469177246 sec\n",
            "\n",
            "Epoch 52 Batch 0 Loss 0.15572737157344818\n",
            "Epoch 52 Loss 0.2547\n",
            "Time taken for 1 epoch 2.8503410816192627 sec\n",
            "\n",
            "Epoch 53 Batch 0 Loss 0.1667620986700058\n",
            "Epoch 53 Loss 0.2377\n",
            "Time taken for 1 epoch 2.8250515460968018 sec\n",
            "\n",
            "Epoch 54 Batch 0 Loss 0.1547800898551941\n",
            "Epoch 54 Loss 0.2411\n",
            "Time taken for 1 epoch 2.818315029144287 sec\n",
            "\n",
            "Epoch 55 Batch 0 Loss 0.15744251012802124\n",
            "Epoch 55 Loss 0.2472\n",
            "Time taken for 1 epoch 2.8778164386749268 sec\n",
            "\n",
            "Epoch 56 Batch 0 Loss 0.15688331425189972\n",
            "Epoch 56 Loss 0.2361\n",
            "Time taken for 1 epoch 2.8470778465270996 sec\n",
            "\n",
            "Epoch 57 Batch 0 Loss 0.1565226912498474\n",
            "Epoch 57 Loss 0.2240\n",
            "Time taken for 1 epoch 2.8379759788513184 sec\n",
            "\n",
            "Epoch 58 Batch 0 Loss 0.14738765358924866\n",
            "Epoch 58 Loss 0.2497\n",
            "Time taken for 1 epoch 2.832552433013916 sec\n",
            "\n",
            "Epoch 59 Batch 0 Loss 0.14064398407936096\n",
            "Epoch 59 Loss 0.2539\n",
            "Time taken for 1 epoch 2.838179349899292 sec\n",
            "\n",
            "Epoch 60 Batch 0 Loss 0.1467626541852951\n",
            "Epoch 60 Loss 0.2460\n",
            "Time taken for 1 epoch 2.869037628173828 sec\n",
            "\n",
            "Epoch 61 Batch 0 Loss 0.15068495273590088\n",
            "Epoch 61 Loss 0.2491\n",
            "Time taken for 1 epoch 2.856922149658203 sec\n",
            "\n",
            "Epoch 62 Batch 0 Loss 0.14016538858413696\n",
            "Epoch 62 Loss 0.2279\n",
            "Time taken for 1 epoch 2.860440254211426 sec\n",
            "\n",
            "Epoch 63 Batch 0 Loss 0.14212317764759064\n",
            "Epoch 63 Loss 0.2133\n",
            "Time taken for 1 epoch 2.8623194694519043 sec\n",
            "\n",
            "Epoch 64 Batch 0 Loss 0.14605945348739624\n",
            "Epoch 64 Loss 0.2242\n",
            "Time taken for 1 epoch 2.85310697555542 sec\n",
            "\n",
            "Epoch 65 Batch 0 Loss 0.1330004334449768\n",
            "Epoch 65 Loss 0.2207\n",
            "Time taken for 1 epoch 2.896328926086426 sec\n",
            "\n",
            "Epoch 66 Batch 0 Loss 0.1427060067653656\n",
            "Epoch 66 Loss 0.2320\n",
            "Time taken for 1 epoch 2.8494019508361816 sec\n",
            "\n",
            "Epoch 67 Batch 0 Loss 0.13287825882434845\n",
            "Epoch 67 Loss 0.2193\n",
            "Time taken for 1 epoch 2.824208974838257 sec\n",
            "\n",
            "Epoch 68 Batch 0 Loss 0.1346728503704071\n",
            "Epoch 68 Loss 0.2237\n",
            "Time taken for 1 epoch 2.8424320220947266 sec\n",
            "\n",
            "Epoch 69 Batch 0 Loss 0.13691963255405426\n",
            "Epoch 69 Loss 0.2218\n",
            "Time taken for 1 epoch 2.838921070098877 sec\n",
            "\n",
            "Epoch 70 Batch 0 Loss 0.14015020430088043\n",
            "Epoch 70 Loss 0.2182\n",
            "Time taken for 1 epoch 2.8737072944641113 sec\n",
            "\n",
            "Epoch 71 Batch 0 Loss 0.14014732837677002\n",
            "Epoch 71 Loss 0.2387\n",
            "Time taken for 1 epoch 2.8621158599853516 sec\n",
            "\n",
            "Epoch 72 Batch 0 Loss 0.12903259694576263\n",
            "Epoch 72 Loss 0.2213\n",
            "Time taken for 1 epoch 2.846190929412842 sec\n",
            "\n"
          ],
          "name": "stdout"
        }
      ]
    },
    {
      "cell_type": "code",
      "metadata": {
        "id": "XFuIpRtgYVM1",
        "colab": {
          "base_uri": "https://localhost:8080/",
          "height": 35
        },
        "outputId": "bc6df156-36d2-4fba-f381-9df4ac0027a8"
      },
      "source": [
        "tf.train.latest_checkpoint(checkpoint_dir)"
      ],
      "execution_count": null,
      "outputs": [
        {
          "output_type": "execute_result",
          "data": {
            "application/vnd.google.colaboratory.intrinsic+json": {
              "type": "string"
            },
            "text/plain": [
              "'./training_checkpoints/ckpt_71'"
            ]
          },
          "metadata": {
            "tags": []
          },
          "execution_count": 59
        }
      ]
    },
    {
      "cell_type": "code",
      "metadata": {
        "id": "EB3qpULuYbp8",
        "colab": {
          "base_uri": "https://localhost:8080/"
        },
        "outputId": "ef9b3ba6-9574-486f-a259-274d9b145921"
      },
      "source": [
        "model = build_model(vocab_size, embedding_dim, rnn_units, batch_size=1)\n",
        "model.load_weights(tf.train.latest_checkpoint(checkpoint_dir))\n",
        "model.build(tf.TensorShape([1, None]))\n",
        "model.summary()"
      ],
      "execution_count": null,
      "outputs": [
        {
          "output_type": "stream",
          "text": [
            "Model: \"sequential_3\"\n",
            "_________________________________________________________________\n",
            "Layer (type)                 Output Shape              Param #   \n",
            "=================================================================\n",
            "embedding_3 (Embedding)      (1, None, 256)            21760     \n",
            "_________________________________________________________________\n",
            "gru_3 (GRU)                  (1, None, 1024)           3938304   \n",
            "_________________________________________________________________\n",
            "dense_3 (Dense)              (1, None, 85)             87125     \n",
            "=================================================================\n",
            "Total params: 4,047,189\n",
            "Trainable params: 4,047,189\n",
            "Non-trainable params: 0\n",
            "_________________________________________________________________\n"
          ],
          "name": "stdout"
        }
      ]
    },
    {
      "cell_type": "code",
      "metadata": {
        "id": "9bTsm9R-YcG5",
        "colab": {
          "base_uri": "https://localhost:8080/"
        },
        "outputId": "fc818510-9927-40fe-f7e7-51122824a757"
      },
      "source": [
        "print(generate_text(model, start_string=u\"I\"))"
      ],
      "execution_count": 74,
      "outputs": [
        {
          "output_type": "stream",
          "text": [
            "IN!\"\n",
            "Will be interviewed by Chris Wallace on Fox tomorrow morning. Turning them she has done nothing!\n",
            "I dont watch or Bernie (Has thr trade deals of buss!\"\n",
            "\"I am in Las Vegas, at the best hoteledia digests these numbers - won, by President Pe̱a Nieton one of the best stories ISIS and our ord Clinton does not.\n",
            "\"Hillary can never win over Bernie supporters. Her foreign wqually in the Morning Convenut to have the meeting was stap be on the lookout from which I must be thrilled, then Palinton campaign.\"\n",
            "The documentary of me that @KarlRove book is terrible (and boring). Save!\n",
            "\"Wow, Rosanne Brewer Lane, the most prominently depicted woman in the failing @nytimes story yesterday,is on @foxandfriends at 7:30 A.M. Enjoy!\n",
            "I will be live-tweeting the V.P. pick are the people who have no idea what my strategy on ISIS is, and neither does ISIS (a great Morning Joe at 6:10. Fantastic toposs, many others, said I was on @60Minutes four weeks ago with Putinnever said I was in Green Row an @JuffKerinaRE\n"
          ],
          "name": "stdout"
        }
      ]
    },
    {
      "cell_type": "code",
      "metadata": {
        "id": "PCj_Zjg4YZbu"
      },
      "source": [
        ""
      ],
      "execution_count": null,
      "outputs": []
    }
  ]
}